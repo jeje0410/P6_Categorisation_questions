{
 "cells": [
  {
   "cell_type": "code",
   "execution_count": 39,
   "id": "9084175d-df49-4fd4-a8ee-244734969d33",
   "metadata": {},
   "outputs": [],
   "source": [
    "import numpy as np # linear algebra\n",
    "import pandas as pd # data processing, CSV file I/O (e.g. pd.read_csv)\n",
    "import missingno as msno\n",
    "import matplotlib.pyplot as plt\n",
    "from datetime import date\n",
    "today = date.today()\n",
    "from tqdm import tqdm\n",
    "import nltk\n",
    "from nltk.tokenize import RegexpTokenizer\n",
    "from nltk.stem import PorterStemmer\n",
    "from bs4 import BeautifulSoup\n",
    "from sklearn.feature_extraction.text import CountVectorizer, TfidfVectorizer\n",
    "import sklearn\n",
    "from wordcloud import WordCloud\n",
    "import string\n",
    "from sklearn.decomposition import NMF, LatentDirichletAllocation\n",
    "from sklearn.model_selection import GridSearchCV\n",
    "import pyLDAvis\n",
    "import pyLDAvis.sklearn\n",
    "import gensim\n",
    "from itertools import combinations\n",
    "from sklearn.tree import DecisionTreeClassifier\n",
    "from util import *\n",
    "import joblib\n",
    "from scipy.sparse import csc_matrix"
   ]
  },
  {
   "cell_type": "code",
   "execution_count": null,
   "id": "142d9e81-1a10-4d30-bcd5-7843dc6af8cf",
   "metadata": {},
   "outputs": [],
   "source": [
    "#Lecture du Fichier\n",
    "#df = pd.read_csv('posts_after_prepocessing.csv', sep = ',', encoding='UTF-8')"
   ]
  },
  {
   "cell_type": "code",
   "execution_count": 4,
   "id": "cf6d5774-b800-442d-a322-43e0cc612536",
   "metadata": {},
   "outputs": [],
   "source": [
    "#Deserialisation de mon Dataframe traité côté Preprocessing\n",
    "import pickle\n",
    "with open('df_afterPreprocessing.pickle', 'rb') as file:\n",
    "    df = pickle.load(file)"
   ]
  },
  {
   "cell_type": "code",
   "execution_count": 5,
   "id": "96d27c31-7884-4673-9cd6-c0670037b46b",
   "metadata": {},
   "outputs": [],
   "source": [
    "#Préprocessing du champ Tittle et Body\n",
    "df['TitleBody'] = df['TitleBody'].map(lambda x: BeautifulSoup(x, \"html.parser\").get_text())\n",
    "df['TitleBody'] = df['TitleBody'].map(lambda x: x.replace('\\n', ' '))\n",
    "df['TitleBody'] = df['TitleBody'].map(lambda x: x.replace(':', ''))\n",
    "\n",
    "punct = string.punctuation\n",
    "for c in punct:\n",
    "    if c != '#':\n",
    "        df['TitleBody'] = df['TitleBody'].map(lambda x: x.replace(c, ''))\n",
    "\n",
    "#Parsing avec NLTK\n",
    "df['TitleBody_final'] = df.apply(lambda row: nltk.word_tokenize(row['TitleBody'],language='english'), axis=1)\n",
    "\n",
    "#Supression des StopWord\n",
    "df['TitleBody_final'] = df.apply(lambda row:removeStopWord(row['TitleBody_final']), axis=1)\n",
    "\n",
    "#Lemmatisation\n",
    "#df['TitleBody_final'] = df.apply(lambda row:lemmatisation(row['TitleBody_final']), axis=1)\n",
    "\n",
    "#Traitement du C#\n",
    "df['TitleBody_final'] = df.apply(lambda row:processCSharp(row['TitleBody_final']), axis=1)\n",
    "\n",
    "#Suppressin des numériques\n",
    "df['TitleBody_final'] = df.apply(lambda row:removeOnlyNumeric(row['TitleBody_final']), axis=1)"
   ]
  },
  {
   "cell_type": "code",
   "execution_count": 6,
   "id": "e246a679-d67b-4c1d-9672-f903a89bff37",
   "metadata": {},
   "outputs": [],
   "source": [
    "#Suppression des tags similaires\n",
    "df['processed_tags_final2'] = df.apply(lambda row:removeTagSimilaire(row['processed_tags_final']), axis=1)"
   ]
  },
  {
   "cell_type": "code",
   "execution_count": 11,
   "id": "dedeb0d3-35b2-4394-ac27-6b7b4afa0532",
   "metadata": {},
   "outputs": [
    {
     "data": {
      "text/html": [
       "<div>\n",
       "<style scoped>\n",
       "    .dataframe tbody tr th:only-of-type {\n",
       "        vertical-align: middle;\n",
       "    }\n",
       "\n",
       "    .dataframe tbody tr th {\n",
       "        vertical-align: top;\n",
       "    }\n",
       "\n",
       "    .dataframe thead th {\n",
       "        text-align: right;\n",
       "    }\n",
       "</style>\n",
       "<table border=\"1\" class=\"dataframe\">\n",
       "  <thead>\n",
       "    <tr style=\"text-align: right;\">\n",
       "      <th></th>\n",
       "      <th>Id</th>\n",
       "      <th>BODY</th>\n",
       "      <th>Title</th>\n",
       "      <th>Tags</th>\n",
       "      <th>CreationDate</th>\n",
       "      <th>TitleBody</th>\n",
       "      <th>processed_tags_final</th>\n",
       "      <th>processed_body_final</th>\n",
       "      <th>processed_title_final</th>\n",
       "      <th>tags_words</th>\n",
       "      <th>TitleBody_final</th>\n",
       "      <th>processed_tags_final2</th>\n",
       "    </tr>\n",
       "  </thead>\n",
       "  <tbody>\n",
       "    <tr>\n",
       "      <th>0</th>\n",
       "      <td>12051</td>\n",
       "      <td>&lt;p&gt;if i inherit from a base class and want to ...</td>\n",
       "      <td>calling the base constructor in c#</td>\n",
       "      <td>&lt;c#&gt;&lt;.net&gt;&lt;inheritance&gt;&lt;constructor&gt;</td>\n",
       "      <td>2008-08-15 07:39:23</td>\n",
       "      <td>calling the base constructor in c# if i inheri...</td>\n",
       "      <td>[c#, .net]</td>\n",
       "      <td>[inherit, base, class, want, pass, something, ...</td>\n",
       "      <td>[calling, base, constructor, c#]</td>\n",
       "      <td>[c#, .net, inheritance, constructor]</td>\n",
       "      <td>[calling, base, constructor, c#, inherit, base...</td>\n",
       "      <td>[c#, .net]</td>\n",
       "    </tr>\n",
       "    <tr>\n",
       "      <th>1</th>\n",
       "      <td>17319422</td>\n",
       "      <td>&lt;p&gt;i am using pycharm on windows and want to c...</td>\n",
       "      <td>how do i set the maximum line length in pycharm?</td>\n",
       "      <td>&lt;python&gt;&lt;pycharm&gt;&lt;pep8&gt;</td>\n",
       "      <td>2013-06-26 12:00:31</td>\n",
       "      <td>how do i set the maximum line length in pychar...</td>\n",
       "      <td>[python]</td>\n",
       "      <td>[using, pycharm, windows, want, change, settin...</td>\n",
       "      <td>[set, maximum, line, length, pycharm]</td>\n",
       "      <td>[python, pycharm, pep8]</td>\n",
       "      <td>[set, maximum, line, length, pycharm, using, p...</td>\n",
       "      <td>[python]</td>\n",
       "    </tr>\n",
       "  </tbody>\n",
       "</table>\n",
       "</div>"
      ],
      "text/plain": [
       "         Id                                               BODY  \\\n",
       "0     12051  <p>if i inherit from a base class and want to ...   \n",
       "1  17319422  <p>i am using pycharm on windows and want to c...   \n",
       "\n",
       "                                              Title  \\\n",
       "0                calling the base constructor in c#   \n",
       "1  how do i set the maximum line length in pycharm?   \n",
       "\n",
       "                                   Tags         CreationDate  \\\n",
       "0  <c#><.net><inheritance><constructor>  2008-08-15 07:39:23   \n",
       "1               <python><pycharm><pep8>  2013-06-26 12:00:31   \n",
       "\n",
       "                                           TitleBody processed_tags_final  \\\n",
       "0  calling the base constructor in c# if i inheri...           [c#, .net]   \n",
       "1  how do i set the maximum line length in pychar...             [python]   \n",
       "\n",
       "                                processed_body_final  \\\n",
       "0  [inherit, base, class, want, pass, something, ...   \n",
       "1  [using, pycharm, windows, want, change, settin...   \n",
       "\n",
       "                   processed_title_final  \\\n",
       "0       [calling, base, constructor, c#]   \n",
       "1  [set, maximum, line, length, pycharm]   \n",
       "\n",
       "                             tags_words  \\\n",
       "0  [c#, .net, inheritance, constructor]   \n",
       "1               [python, pycharm, pep8]   \n",
       "\n",
       "                                     TitleBody_final processed_tags_final2  \n",
       "0  [calling, base, constructor, c#, inherit, base...            [c#, .net]  \n",
       "1  [set, maximum, line, length, pycharm, using, p...              [python]  "
      ]
     },
     "execution_count": 11,
     "metadata": {},
     "output_type": "execute_result"
    }
   ],
   "source": [
    "df.head(2)"
   ]
  },
  {
   "cell_type": "code",
   "execution_count": 12,
   "id": "e0f8b048-b00e-4938-a383-732a5f9d35a9",
   "metadata": {},
   "outputs": [
    {
     "data": {
      "text/plain": [
       "'how do i set the maximum line length in pycharm?'"
      ]
     },
     "execution_count": 12,
     "metadata": {},
     "output_type": "execute_result"
    }
   ],
   "source": [
    "df.iloc[1,2]"
   ]
  },
  {
   "cell_type": "code",
   "execution_count": 14,
   "id": "0e56a815-b097-462d-8174-75826ee7a3e6",
   "metadata": {},
   "outputs": [],
   "source": [
    "#Utilisation de la librairie MultilabelBinarize pour créer un matrice de Tags\n",
    "from sklearn.preprocessing import MultiLabelBinarizer\n",
    "\n",
    "tags = df[\"processed_tags_final2\"]\n",
    "\n",
    "mlb = MultiLabelBinarizer()\n",
    "tags_mlb = mlb.fit_transform(df[\"processed_tags_final2\"].to_numpy())"
   ]
  },
  {
   "cell_type": "code",
   "execution_count": 112,
   "id": "bf10fca3-75ee-49ea-b5f1-a2f3df835d89",
   "metadata": {},
   "outputs": [
    {
     "data": {
      "text/plain": [
       "['multiLabel.pickle']"
      ]
     },
     "execution_count": 112,
     "metadata": {},
     "output_type": "execute_result"
    }
   ],
   "source": [
    "#Serialisation avec JOBLIB\n",
    "joblib.dump(mlb,\"multiLabel.pickle\")"
   ]
  },
  {
   "cell_type": "markdown",
   "id": "3a44026c-4d52-4e14-92c5-e1d201699b1f",
   "metadata": {},
   "source": [
    "## Création du jeu d'entrainement et du jeu de test "
   ]
  },
  {
   "cell_type": "code",
   "execution_count": 15,
   "id": "75e5e585-85bb-4e33-971d-3a5aa364db13",
   "metadata": {},
   "outputs": [],
   "source": [
    "from sklearn.model_selection import train_test_split\n",
    "\n",
    "X = df['TitleBody_final']\n",
    "y = tags_mlb\n",
    "\n",
    "X_train, X_test, y_train, y_test = train_test_split(X, y, \n",
    "                                                    test_size=.25)"
   ]
  },
  {
   "cell_type": "markdown",
   "id": "e194d5e8-5ef1-499a-8ffd-a66ad92f871c",
   "metadata": {},
   "source": [
    "## Vectorisation avec TF-IDF"
   ]
  },
  {
   "cell_type": "code",
   "execution_count": 16,
   "id": "09d38299-1762-4704-985d-6bca94e14581",
   "metadata": {},
   "outputs": [
    {
     "name": "stderr",
     "output_type": "stream",
     "text": [
      "C:\\Users\\jerom\\anaconda3\\envs\\PROJET5\\lib\\site-packages\\sklearn\\feature_extraction\\text.py:516: UserWarning: The parameter 'token_pattern' will not be used since 'tokenizer' is not None'\n",
      "  warnings.warn(\n"
     ]
    }
   ],
   "source": [
    "vectorizer = TfidfVectorizer(tokenizer=dummy,preprocessor=dummy,\n",
    "                            max_features=12000)\n",
    "vectorizer.fit(X_train)\n",
    "X_train_vec = vectorizer.transform(X_train)\n",
    "X_test_vec = vectorizer.transform(X_test)"
   ]
  },
  {
   "cell_type": "code",
   "execution_count": null,
   "id": "4497b212-4189-4f3b-b0f3-63197a46b3f4",
   "metadata": {},
   "outputs": [],
   "source": [
    "#Serialisation de la vectorisation\n",
    "pickle.dump(vectorizer, open('vectorizer.pickle', 'wb')) #Saving DF"
   ]
  },
  {
   "cell_type": "code",
   "execution_count": 111,
   "id": "796d6d7e-01dc-4745-8106-6735135dba86",
   "metadata": {},
   "outputs": [
    {
     "data": {
      "text/plain": [
       "['vectorizer.pickle']"
      ]
     },
     "execution_count": 111,
     "metadata": {},
     "output_type": "execute_result"
    }
   ],
   "source": [
    "#Serialisation avec JOBLIB\n",
    "joblib.dump(vectorizer,\"vectorizer.pickle\")"
   ]
  },
  {
   "cell_type": "code",
   "execution_count": 34,
   "id": "791aebb4-1ff9-4a9a-ae45-f6d8fef201f5",
   "metadata": {},
   "outputs": [
    {
     "data": {
      "text/plain": [
       "(11378, 12000)"
      ]
     },
     "execution_count": 34,
     "metadata": {},
     "output_type": "execute_result"
    }
   ],
   "source": [
    "X_train_vec.shape"
   ]
  },
  {
   "cell_type": "markdown",
   "id": "17f77f1c-d2ca-4166-ae47-f3e6fb024029",
   "metadata": {},
   "source": [
    "## Modèle Naive Bayse après TF_IDF\n",
    "* Utilisation de la méthode OneVsRest qui calcule toutes les étiquettes de sortie (Attention aux performances car n modèles suivant les tags de sortie)\n",
    "* J'utilise les données après un TF_IDF"
   ]
  },
  {
   "cell_type": "code",
   "execution_count": 7,
   "id": "25dcdad1-c7c0-4a0b-a1d0-d780062e0975",
   "metadata": {},
   "outputs": [
    {
     "data": {
      "text/plain": [
       "OneVsRestClassifier(estimator=MultinomialNB())"
      ]
     },
     "execution_count": 7,
     "metadata": {},
     "output_type": "execute_result"
    }
   ],
   "source": [
    "from sklearn.multiclass import OneVsRestClassifier\n",
    "from sklearn.naive_bayes import MultinomialNB\n",
    "\n",
    "nb_clf = OneVsRestClassifier(MultinomialNB(fit_prior=True, \n",
    "                                           class_prior=None))\n",
    "nb_clf.fit(X_train_vec, y_train)"
   ]
  },
  {
   "cell_type": "code",
   "execution_count": 8,
   "id": "8f0f52d9-a490-4677-b24e-0803d8a8c5dc",
   "metadata": {},
   "outputs": [
    {
     "name": "stdout",
     "output_type": "stream",
     "text": [
      "Hamming loss : 0.01577643026627999\n",
      "Subset Accuracy :  0.04323754284207751\n",
      "F1-score :  0.08445532435740516\n",
      "Jaccard :  0.044089456869009586\n"
     ]
    }
   ],
   "source": [
    "y_pred_nb = nb_clf.predict(X_test_vec)\n",
    "print_score(y_test, y_pred_nb)"
   ]
  },
  {
   "cell_type": "markdown",
   "id": "f7e73bea-17d0-47fe-835f-622b04867b8e",
   "metadata": {},
   "source": [
    "## Modèle Arbre de décision après NMF (Comme réduction de dimension)"
   ]
  },
  {
   "cell_type": "code",
   "execution_count": 9,
   "id": "f21dd6a4-e64f-4080-a9ec-b372f9a340bc",
   "metadata": {},
   "outputs": [],
   "source": [
    "#D'abord réalisation d'une NMF avec le paramètre optimum calculté précédemment (8 Topics)\n",
    "from sklearn.decomposition import NMF\n",
    "k = 8\n",
    "# create the model, specifiying the initialization strategy and the number of topics to produce\n",
    "model = NMF(n_components=k,init=\"nndsvd\",random_state=42,max_iter = 300) \n",
    "# apply the model and extract the two factor matrices\n",
    "W_train = model.fit_transform(X_train_vec)\n",
    "W_test = model.fit_transform(X_test_vec)"
   ]
  },
  {
   "cell_type": "code",
   "execution_count": 10,
   "id": "74c9f2f2-dc5e-4391-b317-592deef34a31",
   "metadata": {},
   "outputs": [
    {
     "data": {
      "text/plain": [
       "DecisionTreeClassifier(random_state=0)"
      ]
     },
     "execution_count": 10,
     "metadata": {},
     "output_type": "execute_result"
    }
   ],
   "source": [
    "#Arbre de décision\n",
    "from sklearn.tree import DecisionTreeClassifier\n",
    "clf = DecisionTreeClassifier(random_state=0)\n",
    "clf.fit(W_train, y_train)"
   ]
  },
  {
   "cell_type": "code",
   "execution_count": 11,
   "id": "f8b7c38c-ae1c-4e4f-a3b9-ea817562a1db",
   "metadata": {},
   "outputs": [
    {
     "name": "stdout",
     "output_type": "stream",
     "text": [
      "Hamming loss : 0.030925388874242024\n",
      "Subset Accuracy :  0.04007382019509623\n",
      "F1-score :  0.11257376305038584\n",
      "Jaccard :  0.059644059644059645\n"
     ]
    }
   ],
   "source": [
    "y_pred_nb = clf.predict(W_test)\n",
    "print_score(y_test, y_pred_nb)"
   ]
  },
  {
   "cell_type": "markdown",
   "id": "05743b38-4db1-4a29-9e82-0e42d0819352",
   "metadata": {},
   "source": [
    "## Modèle Arbre de décision après TF-IDF"
   ]
  },
  {
   "cell_type": "code",
   "execution_count": 17,
   "id": "3bdeccd3-1396-4a8b-aabb-b444b4f56e16",
   "metadata": {},
   "outputs": [
    {
     "data": {
      "text/plain": [
       "DecisionTreeClassifier(random_state=42)"
      ]
     },
     "execution_count": 17,
     "metadata": {},
     "output_type": "execute_result"
    }
   ],
   "source": [
    "#Arbre de décision\n",
    "clf = DecisionTreeClassifier(random_state=42)\n",
    "clf.fit(X_train_vec, y_train)"
   ]
  },
  {
   "cell_type": "code",
   "execution_count": 18,
   "id": "c5bc1556-727c-4762-bc3e-07118269ed20",
   "metadata": {},
   "outputs": [
    {
     "name": "stdout",
     "output_type": "stream",
     "text": [
      "Hamming loss : 0.013831965848839037\n",
      "Subset Accuracy :  0.3329818085947799\n",
      "F1-score :  0.5620573355817875\n",
      "Jaccard :  0.3908760408115398\n"
     ]
    }
   ],
   "source": [
    "y_pred_nb = clf.predict(X_test_vec)\n",
    "print_score(y_test, y_pred_nb)"
   ]
  },
  {
   "cell_type": "code",
   "execution_count": 106,
   "id": "1001f4ea-b2f6-484b-aaef-a223fb7c3a59",
   "metadata": {},
   "outputs": [],
   "source": [
    "#Serialisation du modele\n",
    "pickle.dump(clf, open('decisionTreeClassifier.pickle', 'wb')) #Saving DF"
   ]
  },
  {
   "cell_type": "code",
   "execution_count": 113,
   "id": "dcd68457-7e22-4681-b6f3-fab6583519c7",
   "metadata": {},
   "outputs": [
    {
     "data": {
      "text/plain": [
       "['decisionTreeClassifier.pickle']"
      ]
     },
     "execution_count": 113,
     "metadata": {},
     "output_type": "execute_result"
    }
   ],
   "source": [
    "#Serialisation avec JOBLIB\n",
    "joblib.dump(clf,\"decisionTreeClassifier.pickle\")"
   ]
  },
  {
   "cell_type": "code",
   "execution_count": 115,
   "id": "f2d436c4-b6f7-4758-9564-f13eeb83d8e5",
   "metadata": {},
   "outputs": [
    {
     "data": {
      "text/plain": [
       "'how do you generate dynamic parameterized unit tests in python i have some kind of test data and want to create a unit test for each item my first idea was to do it like this import unittest  l  foo a a bar a b lee b b  class testsequenceunittesttestcase     def testsampleself         for name ab in l             print test name             selfassertequalab  if name  main     unittestmain  the downside of this is that it handles all data in one test i would like to generate one test for each item on the fly any suggestions '"
      ]
     },
     "execution_count": 115,
     "metadata": {},
     "output_type": "execute_result"
    }
   ],
   "source": [
    "df['TitleBody'][9]"
   ]
  },
  {
   "cell_type": "code",
   "execution_count": 103,
   "id": "f726a12b-0a3f-47a7-a3b5-5e11d1eae505",
   "metadata": {},
   "outputs": [
    {
     "name": "stdout",
     "output_type": "stream",
     "text": [
      "My tags ['arrays', 'c++', 'algorithm']\n"
     ]
    }
   ],
   "source": [
    "X_api_vec = vectorizer.transform(X[1])\n",
    "res = clf.predict(X_api_vec)\n",
    "res = mlb.inverse_transform(res)\n",
    "comptagePrediction = {}\n",
    "for x in res:\n",
    "    for i in x:\n",
    "        if (i in comptagePrediction):\n",
    "            comptagePrediction[i] = comptagePrediction[i]+1\n",
    "        else:\n",
    "            comptagePrediction[i] = 1\n",
    "\n",
    "comptagePrediction = sorted(comptagePrediction.items(), key=lambda prediction: prediction[1],reverse=True)\n",
    "\n",
    "print(\"My tags\", list(set(dict(comptagePrediction[0:3]).keys())))"
   ]
  },
  {
   "cell_type": "code",
   "execution_count": 110,
   "id": "a3d62cd4-c592-4979-b5a6-0b7ab17a63c8",
   "metadata": {},
   "outputs": [
    {
     "name": "stdout",
     "output_type": "stream",
     "text": [
      "['set', 'maximum', 'line', 'length', 'pycharm', 'using', 'pycharm', 'windows', 'want', 'change', 'settings', 'limit', 'maximum', 'line', 'length', 'characters', 'opposed', 'default', 'limit', 'characters', 'change', 'maximum', 'amount', 'characters', 'per', 'line', 'pycharm']\n",
      "prediction\n",
      "[('algorithm', 10), ('arrays', 10), ('c++', 10), ('r', 4), ('python', 3), ('c', 3)]\n"
     ]
    }
   ],
   "source": [
    "print(X[1])\n",
    "print(\"prediction\")\n",
    "print(comptagePrediction)"
   ]
  },
  {
   "cell_type": "markdown",
   "id": "7c60bfec-c6fb-4524-ad06-f924f7f434f1",
   "metadata": {},
   "source": [
    "## Modèle Arbre de décision après TruncateSVD\n",
    "* Contrairement à l'ACP TruncateSVD supporte les matrices creuses"
   ]
  },
  {
   "cell_type": "code",
   "execution_count": 14,
   "id": "ae83045d-7314-4a57-812e-0b69febdbbb1",
   "metadata": {},
   "outputs": [
    {
     "data": {
      "text/plain": [
       "DecisionTreeClassifier(random_state=42)"
      ]
     },
     "execution_count": 14,
     "metadata": {},
     "output_type": "execute_result"
    }
   ],
   "source": [
    "from sklearn.decomposition import TruncatedSVD\n",
    "svd = TruncatedSVD(n_components=1000, n_iter=7, random_state=42)\n",
    "svd.fit(X_train_vec)\n",
    "X_train_SVD = svd.transform(X_train_vec)\n",
    "X_test_SVD = svd.transform(X_test_vec)\n",
    "\n",
    "#Arbre de décision\n",
    "clf = DecisionTreeClassifier(random_state=42)\n",
    "clf.fit(X_train_SVD, y_train)"
   ]
  },
  {
   "cell_type": "code",
   "execution_count": 15,
   "id": "2525363f-531b-46de-a3d7-218676a1e9bc",
   "metadata": {},
   "outputs": [
    {
     "name": "stdout",
     "output_type": "stream",
     "text": [
      "Hamming loss : 0.021523859741629316\n",
      "Subset Accuracy :  0.16530450830477195\n",
      "F1-score :  0.35031036129237625\n",
      "Jaccard :  0.21234925229136517\n"
     ]
    }
   ],
   "source": [
    "y_pred_nb = clf.predict(X_test_SVD)\n",
    "print_score(y_test, y_pred_nb)"
   ]
  },
  {
   "cell_type": "code",
   "execution_count": null,
   "id": "5abc4971-ba53-46fc-9e38-a25f8bd9f357",
   "metadata": {},
   "outputs": [],
   "source": [
    "X_train_vec.shape"
   ]
  },
  {
   "cell_type": "markdown",
   "id": "d35e9481-92ba-45c4-9596-1f760ae65eae",
   "metadata": {},
   "source": [
    "## Modèle Arbre de décision après ACP"
   ]
  },
  {
   "cell_type": "code",
   "execution_count": 16,
   "id": "b262861c-b400-4ab7-8bb6-805825315c2f",
   "metadata": {},
   "outputs": [
    {
     "data": {
      "text/plain": [
       "DecisionTreeClassifier(random_state=42)"
      ]
     },
     "execution_count": 16,
     "metadata": {},
     "output_type": "execute_result"
    }
   ],
   "source": [
    "from sklearn import decomposition\n",
    "# choix du nombre de composantes à calculer\n",
    "n_comp = 50\n",
    "\n",
    "features = df.columns\n",
    "\n",
    "# Calcul des composantes principales\n",
    "pca = decomposition.PCA(n_components=n_comp,random_state=42)\n",
    "pca.fit(X_train_vec.toarray())\n",
    "X_train_PCA = pca.transform(X_train_vec.toarray())\n",
    "X_test_PCA = pca.transform(X_test_vec.toarray())\n",
    "\n",
    "#Arbre de décision\n",
    "clf = DecisionTreeClassifier(random_state=42)\n",
    "clf.fit(X_train_PCA, y_train)"
   ]
  },
  {
   "cell_type": "code",
   "execution_count": 17,
   "id": "4f114fb3-5578-44b9-a4a6-7631236d5c58",
   "metadata": {},
   "outputs": [
    {
     "name": "stdout",
     "output_type": "stream",
     "text": [
      "Hamming loss : 0.02165568151858687\n",
      "Subset Accuracy :  0.16293171631953599\n",
      "F1-score :  0.3483021263091083\n",
      "Jaccard :  0.2108752041502546\n"
     ]
    }
   ],
   "source": [
    "y_pred_nb = clf.predict(X_test_PCA)\n",
    "print_score(y_test, y_pred_nb)"
   ]
  },
  {
   "cell_type": "code",
   "execution_count": 13,
   "id": "0ac7c3bd-5991-4a0e-bae9-c271ae479fb4",
   "metadata": {},
   "outputs": [
    {
     "data": {
      "text/plain": [
       "array(['.net', 'ajax', 'algorithm', 'android', 'android-studio',\n",
       "       'angular', 'arrays', 'asp.net', 'bash', 'branch', 'c', 'c#', 'c++',\n",
       "       'class', 'cocoa-touch', 'collections', 'command-line', 'css',\n",
       "       'database', 'dataframe', 'date', 'debugging', 'dictionary',\n",
       "       'django', 'docker', 'dom', 'eclipse', 'exception', 'file', 'forms',\n",
       "       'function', 'generics', 'git', 'go', 'google-chrome', 'html',\n",
       "       'http', 'intellij-idea', 'ios', 'iphone', 'java', 'javascript',\n",
       "       'jquery', 'json', 'language-agnostic', 'linq', 'linux', 'list',\n",
       "       'loops', 'macos', 'matplotlib', 'mongodb', 'multithreading',\n",
       "       'mysql', 'node.js', 'npm', 'numpy', 'object', 'objective-c', 'oop',\n",
       "       'pandas', 'performance', 'php', 'postgresql', 'python', 'r',\n",
       "       'reactjs', 'regex', 'rest', 'ruby', 'ruby-on-rails', 'security',\n",
       "       'shell', 'sorting', 'sql', 'sql-server', 'string', 'swift',\n",
       "       'syntax', 'tsql', 'twitter-bootstrap', 'typescript',\n",
       "       'unit-testing', 'unix', 'url', 'variables', 'version-control',\n",
       "       'vim', 'visual-studio', 'visual-studio-code', 'windows', 'xcode',\n",
       "       'xml'], dtype=object)"
      ]
     },
     "execution_count": 13,
     "metadata": {},
     "output_type": "execute_result"
    }
   ],
   "source": [
    "mlb.classes_"
   ]
  },
  {
   "cell_type": "code",
   "execution_count": 12,
   "id": "80f1f273-243a-4fff-8c2d-e99443a03e73",
   "metadata": {},
   "outputs": [],
   "source": [
    "#Fonction qui compte les bonnes prédictions et les mauvaises prédictions par tags\n",
    "def scoreTags():\n",
    "    resultat = []\n",
    "    for index, word in enumerate(mlb.classes_):\n",
    "        GoodPrediction = 0\n",
    "        BadPrediction = 0\n",
    "        GoodNegative = 0\n",
    "        BadNegative = 0\n",
    "        for i in range(0,len(y_test)):\n",
    "            if (y_test[i][index] == 1):\n",
    "                if (y_test[i][index] == y_pred_nb[i][index]):\n",
    "                    GoodPrediction += 1\n",
    "                else:\n",
    "                    BadPrediction +=1\n",
    "            else :\n",
    "                if (y_test[i][index] == y_pred_nb[i][index]):\n",
    "                    GoodNegative += 1\n",
    "                else:\n",
    "                    BadNegative +=1\n",
    "        resultat.append([word,GoodPrediction,BadPrediction,GoodNegative,BadNegative])\n",
    "    return resultat"
   ]
  },
  {
   "cell_type": "code",
   "execution_count": 13,
   "id": "14b9326b-9368-4195-bfd7-d4c7216d3a40",
   "metadata": {},
   "outputs": [],
   "source": [
    "comptagePrediction = scoreTags()\n",
    "comptagePrediction = sorted(comptagePrediction, key=lambda prediction: prediction[1],reverse=True)"
   ]
  },
  {
   "cell_type": "code",
   "execution_count": 16,
   "id": "737d0f2c-20bf-4e0c-a706-ecc89cecc55a",
   "metadata": {},
   "outputs": [
    {
     "data": {
      "image/png": "[encoded data removed]",
      "text/plain": [
       "<Figure size 936x576 with 1 Axes>"
      ]
     },
     "metadata": {
      "needs_background": "light"
     },
     "output_type": "display_data"
    },
    {
     "data": {
      "image/png": "[encoded data removed]",
      "text/plain": [
       "<Figure size 936x576 with 1 Axes>"
      ]
     },
     "metadata": {
      "needs_background": "light"
     },
     "output_type": "display_data"
    },
    {
     "data": {
      "image/png": "[encoded data removed]",
      "text/plain": [
       "<Figure size 936x576 with 1 Axes>"
      ]
     },
     "metadata": {
      "needs_background": "light"
     },
     "output_type": "display_data"
    }
   ],
   "source": [
    "def plot_top_term(comptage,indice,titre):\n",
    "    top = 10\n",
    "    trieTerme = []\n",
    "    # get the top terms and their weights\n",
    "    trieTerme = sorted(comptagePrediction, key=lambda prediction: prediction[indice],reverse=True)\n",
    "    top_terms = []\n",
    "    top_weights = []\n",
    "    for term_index in trieTerme[0:top]:\n",
    "        top_terms.append( term_index[0] )\n",
    "        top_weights.append( term_index[indice] )\n",
    "    top_terms.reverse()\n",
    "    top_weights.reverse()\n",
    "    fig = plt.figure(figsize=(13,8))\n",
    "    # add the horizontal bar chart\n",
    "    ypos = np.arange(len(top_terms))\n",
    "    ax = plt.barh(ypos, top_weights, align=\"center\", color=\"green\",tick_label=top_terms)\n",
    "    plt.xlabel(titre,fontsize=14)\n",
    "    plt.tight_layout()\n",
    "    plt.show()\n",
    "    \n",
    "plot_top_term(comptagePrediction,1,'Vrai positif')\n",
    "plot_top_term(comptagePrediction,2,'Faux négatif')\n",
    "plot_top_term(comptagePrediction,4,'Faux positif')"
   ]
  },
  {
   "cell_type": "code",
   "execution_count": null,
   "id": "d32f2781-e1aa-436c-9a7b-2ee320d15922",
   "metadata": {},
   "outputs": [],
   "source": []
  }
 ],
 "metadata": {
  "kernelspec": {
   "display_name": "Python 3 (ipykernel)",
   "language": "python",
   "name": "python3"
  },
  "language_info": {
   "codemirror_mode": {
    "name": "ipython",
    "version": 3
   },
   "file_extension": ".py",
   "mimetype": "text/x-python",
   "name": "python",
   "nbconvert_exporter": "python",
   "pygments_lexer": "ipython3",
   "version": "3.8.11"
  }
 },
 "nbformat": 4,
 "nbformat_minor": 5
}
