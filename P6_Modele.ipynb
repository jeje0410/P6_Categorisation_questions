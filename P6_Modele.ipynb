{
 "cells": [
  {
   "cell_type": "code",
   "execution_count": 43,
   "id": "9084175d-df49-4fd4-a8ee-244734969d33",
   "metadata": {},
   "outputs": [],
   "source": [
    "import numpy as np # linear algebra\n",
    "import pandas as pd # data processing, CSV file I/O (e.g. pd.read_csv)\n",
    "import missingno as msno\n",
    "import matplotlib.pyplot as plt\n",
    "from datetime import date\n",
    "today = date.today()\n",
    "from tqdm import tqdm\n",
    "import nltk\n",
    "from nltk.corpus import stopwords\n",
    "from nltk.tokenize import RegexpTokenizer\n",
    "from bs4 import BeautifulSoup\n",
    "from sklearn.feature_extraction.text import CountVectorizer, TfidfVectorizer\n",
    "import sklearn\n",
    "from wordcloud import WordCloud\n",
    "from nltk.stem import PorterStemmer\n",
    "import string\n",
    "from sklearn.decomposition import NMF, LatentDirichletAllocation\n",
    "from sklearn.model_selection import GridSearchCV\n",
    "import pyLDAvis\n",
    "import pyLDAvis.sklearn\n",
    "import gensim\n",
    "from itertools import combinations\n",
    "from sklearn.metrics import accuracy_score, f1_score, hamming_loss,jaccard_score"
   ]
  },
  {
   "cell_type": "code",
   "execution_count": 5,
   "id": "142d9e81-1a10-4d30-bcd5-7843dc6af8cf",
   "metadata": {},
   "outputs": [],
   "source": [
    "#Lecture du Fichier\n",
    "df = pd.read_csv('posts_with_tags_more_frequent.csv', sep = ',', encoding='UTF-8')"
   ]
  },
  {
   "cell_type": "code",
   "execution_count": 44,
   "id": "f52b3dc7-7974-44b5-9c33-2b2ad627dadb",
   "metadata": {},
   "outputs": [],
   "source": [
    "#Fonction de preprocessing\n",
    "stop_words = set(stopwords.words('English'))\n",
    "def removeStopWord(Word_list):\n",
    "    filtered_Word_list = Word_list[:] #make a copy of the Word_list\n",
    "    for Word in Word_list: # iterate over Word_list\n",
    "        if Word.lower() in stop_words: \n",
    "            filtered_Word_list.remove(Word) # remove Word from filtered_Word_list if it is a stopword\n",
    "    return filtered_Word_list\n",
    "\n",
    "# Instantiate stemmers\n",
    "porter = PorterStemmer()\n",
    "#Fonction de lemmatisation\n",
    "def lemmatisation(Word_list):\n",
    "    Words = Word_list[:] #make a copy of the Word_list\n",
    "    Words = [porter.stem(word) for word in Words]\n",
    "    return Words\n",
    "\n",
    "#Fonction qui supprime le tag si celui ci n'appartient au TOP        \n",
    "def removeNotTop100(Word_list):\n",
    "    filtered_Word_list = Word_list[:] #make a copy of the Word_list\n",
    "    for Word in Word_list: # iterate over Word_list\n",
    "        if Word not in Top100: \n",
    "            filtered_Word_list.remove(Word) # remove Word from filtered_Word_list if it is a stopword\n",
    "    if len(filtered_Word_list) == 0:\n",
    "        return None\n",
    "    else:\n",
    "        return filtered_Word_list\n",
    "    \n",
    "#Fonction qui supprime le mot si seulement du numérique        \n",
    "def removeOnlyNumeric(Word_list):\n",
    "    word_list = Word_list[:] #make a copy of the Word_list\n",
    "    for Word in Word_list: # iterate over Word_list\n",
    "        if Word.isnumeric(): \n",
    "            word_list.remove(Word) # remove Word from filtered_Word_list if it is a stopword\n",
    "    return word_list\n",
    "    \n",
    "#Fonction qui traite le C#\n",
    "def processCSharp(Word_list):\n",
    "    word_list = Word_list[:] #make a copy of the Word_list\n",
    "    for index, value in enumerate(word_list):\n",
    "        if value == '#':\n",
    "            word_list.remove(value) # remove Word from filtered_Word_list if it is a stopword\n",
    "            word_list[index-1] = 'c#'\n",
    "    return word_list\n",
    "\n",
    "# Fonction qui ne fait rien pour exploiter le pré traitement que nous avons réalisé\n",
    "def dummy(doc):\n",
    "    return doc\n",
    "\n",
    "#Fonction qui renvoi différents scores\n",
    "def print_score(y_test, y_pred):\n",
    "    print(\"Hamming loss : {}\".format(hamming_loss(y_test, y_pred)))\n",
    "    print('Subset Accuracy : ', accuracy_score(y_test, y_pred, normalize=True, sample_weight=None))\n",
    "    print('F1-score : ', f1_score(y_test, y_pred, average='micro'))\n",
    "    print('Jaccard : ', jaccard_score(y_test, y_pred, average='micro'))\n",
    "    #Revoir les indicateurs avec Jacard"
   ]
  },
  {
   "cell_type": "code",
   "execution_count": 8,
   "id": "96d27c31-7884-4673-9cd6-c0670037b46b",
   "metadata": {},
   "outputs": [],
   "source": [
    "#Préprocessing du champ Tittle et Body\n",
    "df['TitleBody'] = df['TitleBody'].map(lambda x: BeautifulSoup(x, \"html.parser\").get_text())\n",
    "df['TitleBody'] = df['TitleBody'].map(lambda x: x.replace('\\n', ' '))\n",
    "df['TitleBody'] = df['TitleBody'].map(lambda x: x.replace(':', ''))\n",
    "\n",
    "punct = string.punctuation\n",
    "for c in punct:\n",
    "    if c != '#':\n",
    "        df['TitleBody'] = df['TitleBody'].map(lambda x: x.replace(c, ''))\n",
    "\n",
    "#Création des nuages de mots avec NLTK\n",
    "df['TitleBody_final'] = df.apply(lambda row: nltk.word_tokenize(row['TitleBody'],language='english'), axis=1)\n",
    "\n",
    "#Supression des StopWord\n",
    "df['TitleBody_final'] = df.apply(lambda row:removeStopWord(row['TitleBody_final']), axis=1)\n",
    "\n",
    "#Lemmatisation\n",
    "#df['TitleBody_final'] = df.apply(lambda row:lemmatisation(row['TitleBody_final']), axis=1)\n",
    "\n",
    "#Traitement du C#\n",
    "df['TitleBody_final'] = df.apply(lambda row:processCSharp(row['TitleBody_final']), axis=1)\n",
    "\n",
    "#Suppressin des numériques\n",
    "df['TitleBody_final'] = df.apply(lambda row:removeOnlyNumeric(row['TitleBody_final']), axis=1)"
   ]
  },
  {
   "cell_type": "code",
   "execution_count": 9,
   "id": "8b31cfc2-f6a2-4a62-899c-eed40f2a732d",
   "metadata": {},
   "outputs": [
    {
     "data": {
      "text/html": [
       "<div>\n",
       "<style scoped>\n",
       "    .dataframe tbody tr th:only-of-type {\n",
       "        vertical-align: middle;\n",
       "    }\n",
       "\n",
       "    .dataframe tbody tr th {\n",
       "        vertical-align: top;\n",
       "    }\n",
       "\n",
       "    .dataframe thead th {\n",
       "        text-align: right;\n",
       "    }\n",
       "</style>\n",
       "<table border=\"1\" class=\"dataframe\">\n",
       "  <thead>\n",
       "    <tr style=\"text-align: right;\">\n",
       "      <th></th>\n",
       "      <th>Id</th>\n",
       "      <th>BODY</th>\n",
       "      <th>Title</th>\n",
       "      <th>Tags</th>\n",
       "      <th>CreationDate</th>\n",
       "      <th>TitleBody</th>\n",
       "      <th>processed_tags_final</th>\n",
       "      <th>processed_body_final</th>\n",
       "      <th>processed_title_final</th>\n",
       "      <th>TitleBody_final</th>\n",
       "    </tr>\n",
       "  </thead>\n",
       "  <tbody>\n",
       "    <tr>\n",
       "      <th>0</th>\n",
       "      <td>12051</td>\n",
       "      <td>&lt;p&gt;if i inherit from a base class and want to ...</td>\n",
       "      <td>calling the base constructor in c#</td>\n",
       "      <td>&lt;c#&gt;&lt;.net&gt;&lt;inheritance&gt;&lt;constructor&gt;</td>\n",
       "      <td>2008-08-15 07:39:23</td>\n",
       "      <td>calling the base constructor in c# if i inheri...</td>\n",
       "      <td>['c#', '.net']</td>\n",
       "      <td>['inherit', 'base', 'class', 'want', 'pass', '...</td>\n",
       "      <td>['calling', 'base', 'constructor', 'c#']</td>\n",
       "      <td>[calling, base, constructor, c#, inherit, base...</td>\n",
       "    </tr>\n",
       "    <tr>\n",
       "      <th>1</th>\n",
       "      <td>17319422</td>\n",
       "      <td>&lt;p&gt;i am using pycharm on windows and want to c...</td>\n",
       "      <td>how do i set the maximum line length in pycharm?</td>\n",
       "      <td>&lt;python&gt;&lt;pycharm&gt;&lt;pep8&gt;</td>\n",
       "      <td>2013-06-26 12:00:31</td>\n",
       "      <td>how do i set the maximum line length in pychar...</td>\n",
       "      <td>['python']</td>\n",
       "      <td>['using', 'pycharm', 'windows', 'want', 'chang...</td>\n",
       "      <td>['set', 'maximum', 'line', 'length', 'pycharm']</td>\n",
       "      <td>[set, maximum, line, length, pycharm, using, p...</td>\n",
       "    </tr>\n",
       "    <tr>\n",
       "      <th>2</th>\n",
       "      <td>32664</td>\n",
       "      <td>&lt;p&gt;can anyone tell me if there is a way with g...</td>\n",
       "      <td>is there a constraint that restricts my generi...</td>\n",
       "      <td>&lt;c#&gt;&lt;generics&gt;&lt;constraints&gt;</td>\n",
       "      <td>2008-08-28 16:04:49</td>\n",
       "      <td>is there a constraint that restricts my generi...</td>\n",
       "      <td>['c#', 'generics']</td>\n",
       "      <td>['anyone', 'tell', 'way', 'generics', 'limit',...</td>\n",
       "      <td>['constraint', 'restricts', 'generic', 'method...</td>\n",
       "      <td>[constraint, restricts, generic, method, numer...</td>\n",
       "    </tr>\n",
       "    <tr>\n",
       "      <th>3</th>\n",
       "      <td>8763125</td>\n",
       "      <td>&lt;p&gt;i would like to get the keys of a javascrip...</td>\n",
       "      <td>get array of object's keys</td>\n",
       "      <td>&lt;javascript&gt;&lt;ecmascript-5&gt;</td>\n",
       "      <td>2012-01-06 19:12:38</td>\n",
       "      <td>get array of objects keys i would like to get ...</td>\n",
       "      <td>['javascript']</td>\n",
       "      <td>['would', 'like', 'get', 'keys', 'javascript',...</td>\n",
       "      <td>['get', 'array', 'objects', 'keys']</td>\n",
       "      <td>[get, array, objects, keys, would, like, get, ...</td>\n",
       "    </tr>\n",
       "    <tr>\n",
       "      <th>4</th>\n",
       "      <td>33923</td>\n",
       "      <td>&lt;p&gt;whilst starting to learn lisp, i've come ac...</td>\n",
       "      <td>what is tail recursion?</td>\n",
       "      <td>&lt;algorithm&gt;&lt;language-agnostic&gt;&lt;functional-prog...</td>\n",
       "      <td>2008-08-29 03:48:03</td>\n",
       "      <td>what is tail recursion whilst starting to lear...</td>\n",
       "      <td>['algorithm', 'language-agnostic']</td>\n",
       "      <td>['whilst', 'starting', 'learn', 'lisp', 'ive',...</td>\n",
       "      <td>['tail', 'recursion']</td>\n",
       "      <td>[tail, recursion, whilst, starting, learn, lis...</td>\n",
       "    </tr>\n",
       "  </tbody>\n",
       "</table>\n",
       "</div>"
      ],
      "text/plain": [
       "         Id                                               BODY  \\\n",
       "0     12051  <p>if i inherit from a base class and want to ...   \n",
       "1  17319422  <p>i am using pycharm on windows and want to c...   \n",
       "2     32664  <p>can anyone tell me if there is a way with g...   \n",
       "3   8763125  <p>i would like to get the keys of a javascrip...   \n",
       "4     33923  <p>whilst starting to learn lisp, i've come ac...   \n",
       "\n",
       "                                               Title  \\\n",
       "0                 calling the base constructor in c#   \n",
       "1   how do i set the maximum line length in pycharm?   \n",
       "2  is there a constraint that restricts my generi...   \n",
       "3                         get array of object's keys   \n",
       "4                            what is tail recursion?   \n",
       "\n",
       "                                                Tags         CreationDate  \\\n",
       "0               <c#><.net><inheritance><constructor>  2008-08-15 07:39:23   \n",
       "1                            <python><pycharm><pep8>  2013-06-26 12:00:31   \n",
       "2                        <c#><generics><constraints>  2008-08-28 16:04:49   \n",
       "3                         <javascript><ecmascript-5>  2012-01-06 19:12:38   \n",
       "4  <algorithm><language-agnostic><functional-prog...  2008-08-29 03:48:03   \n",
       "\n",
       "                                           TitleBody  \\\n",
       "0  calling the base constructor in c# if i inheri...   \n",
       "1  how do i set the maximum line length in pychar...   \n",
       "2  is there a constraint that restricts my generi...   \n",
       "3  get array of objects keys i would like to get ...   \n",
       "4  what is tail recursion whilst starting to lear...   \n",
       "\n",
       "                 processed_tags_final  \\\n",
       "0                      ['c#', '.net']   \n",
       "1                          ['python']   \n",
       "2                  ['c#', 'generics']   \n",
       "3                      ['javascript']   \n",
       "4  ['algorithm', 'language-agnostic']   \n",
       "\n",
       "                                processed_body_final  \\\n",
       "0  ['inherit', 'base', 'class', 'want', 'pass', '...   \n",
       "1  ['using', 'pycharm', 'windows', 'want', 'chang...   \n",
       "2  ['anyone', 'tell', 'way', 'generics', 'limit',...   \n",
       "3  ['would', 'like', 'get', 'keys', 'javascript',...   \n",
       "4  ['whilst', 'starting', 'learn', 'lisp', 'ive',...   \n",
       "\n",
       "                               processed_title_final  \\\n",
       "0           ['calling', 'base', 'constructor', 'c#']   \n",
       "1    ['set', 'maximum', 'line', 'length', 'pycharm']   \n",
       "2  ['constraint', 'restricts', 'generic', 'method...   \n",
       "3                ['get', 'array', 'objects', 'keys']   \n",
       "4                              ['tail', 'recursion']   \n",
       "\n",
       "                                     TitleBody_final  \n",
       "0  [calling, base, constructor, c#, inherit, base...  \n",
       "1  [set, maximum, line, length, pycharm, using, p...  \n",
       "2  [constraint, restricts, generic, method, numer...  \n",
       "3  [get, array, objects, keys, would, like, get, ...  \n",
       "4  [tail, recursion, whilst, starting, learn, lis...  "
      ]
     },
     "execution_count": 9,
     "metadata": {},
     "output_type": "execute_result"
    }
   ],
   "source": [
    "df.head(5)"
   ]
  },
  {
   "cell_type": "code",
   "execution_count": 36,
   "id": "0e56a815-b097-462d-8174-75826ee7a3e6",
   "metadata": {},
   "outputs": [],
   "source": [
    "#Utilisation de la librairie MultilabelBinarize pour créer un matrice de Tags\n",
    "from sklearn.preprocessing import MultiLabelBinarizer\n",
    "\n",
    "mlb = MultiLabelBinarizer()\n",
    "tags_mlb = mlb.fit_transform(df['processed_tags_final'])"
   ]
  },
  {
   "cell_type": "markdown",
   "id": "3a44026c-4d52-4e14-92c5-e1d201699b1f",
   "metadata": {},
   "source": [
    "## Création du jeu d'entrainement et du jeu de test "
   ]
  },
  {
   "cell_type": "code",
   "execution_count": 12,
   "id": "75e5e585-85bb-4e33-971d-3a5aa364db13",
   "metadata": {},
   "outputs": [],
   "source": [
    "from sklearn.model_selection import train_test_split\n",
    "\n",
    "X = df['TitleBody_final']\n",
    "y = tags_mlb\n",
    "\n",
    "X_train, X_test, y_train, y_test = train_test_split(X, y, \n",
    "                                                    test_size=.25)"
   ]
  },
  {
   "cell_type": "markdown",
   "id": "e194d5e8-5ef1-499a-8ffd-a66ad92f871c",
   "metadata": {},
   "source": [
    "## Vectorisation avec TF-IDF"
   ]
  },
  {
   "cell_type": "code",
   "execution_count": 37,
   "id": "09d38299-1762-4704-985d-6bca94e14581",
   "metadata": {},
   "outputs": [
    {
     "name": "stderr",
     "output_type": "stream",
     "text": [
      "C:\\Users\\jerom\\anaconda3\\envs\\PROJET5\\lib\\site-packages\\sklearn\\feature_extraction\\text.py:516: UserWarning: The parameter 'token_pattern' will not be used since 'tokenizer' is not None'\n",
      "  warnings.warn(\n"
     ]
    }
   ],
   "source": [
    "vectorizer = TfidfVectorizer(tokenizer=dummy,preprocessor=dummy,\n",
    "                            max_features=12000)\n",
    "vectorizer.fit(X_train)\n",
    "X_train_vec = vectorizer.transform(X_train)\n",
    "X_test_vec = vectorizer.transform(X_test)"
   ]
  },
  {
   "cell_type": "code",
   "execution_count": 38,
   "id": "25dcdad1-c7c0-4a0b-a1d0-d780062e0975",
   "metadata": {},
   "outputs": [
    {
     "name": "stderr",
     "output_type": "stream",
     "text": [
      "C:\\Users\\jerom\\anaconda3\\envs\\PROJET5\\lib\\site-packages\\sklearn\\multiclass.py:79: UserWarning: Label 2 is present in all training examples.\n",
      "  warnings.warn(\n",
      "C:\\Users\\jerom\\anaconda3\\envs\\PROJET5\\lib\\site-packages\\sklearn\\multiclass.py:79: UserWarning: Label 10 is present in all training examples.\n",
      "  warnings.warn(\n",
      "C:\\Users\\jerom\\anaconda3\\envs\\PROJET5\\lib\\site-packages\\sklearn\\multiclass.py:79: UserWarning: Label 11 is present in all training examples.\n",
      "  warnings.warn(\n"
     ]
    },
    {
     "data": {
      "text/plain": [
       "OneVsRestClassifier(estimator=MultinomialNB())"
      ]
     },
     "execution_count": 38,
     "metadata": {},
     "output_type": "execute_result"
    }
   ],
   "source": [
    "from sklearn.multiclass import OneVsRestClassifier\n",
    "from sklearn.naive_bayes import MultinomialNB\n",
    "\n",
    "nb_clf = OneVsRestClassifier(MultinomialNB(fit_prior=True, \n",
    "                                           class_prior=None))\n",
    "nb_clf.fit(X_train_vec, y_train)"
   ]
  },
  {
   "cell_type": "code",
   "execution_count": 45,
   "id": "8f0f52d9-a490-4677-b24e-0803d8a8c5dc",
   "metadata": {},
   "outputs": [
    {
     "name": "stdout",
     "output_type": "stream",
     "text": [
      "Hamming loss : 0.13770031565971455\n",
      "Subset Accuracy :  0.10203005536514632\n",
      "F1-score :  0.7489444624878208\n",
      "Jaccard :  0.59865005192108\n"
     ]
    }
   ],
   "source": [
    "y_pred_nb = nb_clf.predict(X_test_vec)\n",
    "print_score(y_test, y_pred_nb)"
   ]
  },
  {
   "cell_type": "code",
   "execution_count": null,
   "id": "03be8bfb-7e2d-425c-8fcd-d0fb72a956bd",
   "metadata": {},
   "outputs": [],
   "source": []
  }
 ],
 "metadata": {
  "kernelspec": {
   "display_name": "Python 3 (ipykernel)",
   "language": "python",
   "name": "python3"
  },
  "language_info": {
   "codemirror_mode": {
    "name": "ipython",
    "version": 3
   },
   "file_extension": ".py",
   "mimetype": "text/x-python",
   "name": "python",
   "nbconvert_exporter": "python",
   "pygments_lexer": "ipython3",
   "version": "3.8.11"
  }
 },
 "nbformat": 4,
 "nbformat_minor": 5
}
