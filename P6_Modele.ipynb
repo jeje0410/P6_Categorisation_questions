{
 "cells": [
  {
   "cell_type": "code",
   "execution_count": 3,
   "id": "9084175d-df49-4fd4-a8ee-244734969d33",
   "metadata": {},
   "outputs": [
    {
     "name": "stderr",
     "output_type": "stream",
     "text": [
      "C:\\Users\\jerom\\anaconda3\\envs\\PROJET5\\lib\\site-packages\\scipy\\sparse\\sparsetools.py:21: DeprecationWarning: `scipy.sparse.sparsetools` is deprecated!\n",
      "scipy.sparse.sparsetools is a private module for scipy.sparse, and should not be used.\n",
      "  _deprecated()\n"
     ]
    }
   ],
   "source": [
    "import numpy as np # linear algebra\n",
    "import pandas as pd # data processing, CSV file I/O (e.g. pd.read_csv)\n",
    "import missingno as msno\n",
    "import matplotlib.pyplot as plt\n",
    "from datetime import date\n",
    "today = date.today()\n",
    "from tqdm import tqdm\n",
    "import nltk\n",
    "from nltk.corpus import stopwords\n",
    "from nltk.tokenize import RegexpTokenizer\n",
    "from nltk.stem import PorterStemmer\n",
    "from bs4 import BeautifulSoup\n",
    "from sklearn.feature_extraction.text import CountVectorizer, TfidfVectorizer\n",
    "import sklearn\n",
    "from wordcloud import WordCloud\n",
    "import string\n",
    "from sklearn.decomposition import NMF, LatentDirichletAllocation\n",
    "from sklearn.model_selection import GridSearchCV\n",
    "import pyLDAvis\n",
    "import pyLDAvis.sklearn\n",
    "import gensim\n",
    "from itertools import combinations\n",
    "from sklearn.metrics import accuracy_score, f1_score, hamming_loss,jaccard_score\n",
    "from sklearn.tree import DecisionTreeClassifier"
   ]
  },
  {
   "cell_type": "code",
   "execution_count": null,
   "id": "142d9e81-1a10-4d30-bcd5-7843dc6af8cf",
   "metadata": {},
   "outputs": [],
   "source": [
    "#Lecture du Fichier\n",
    "#df = pd.read_csv('posts_after_prepocessing.csv', sep = ',', encoding='UTF-8')"
   ]
  },
  {
   "cell_type": "code",
   "execution_count": 4,
   "id": "cf6d5774-b800-442d-a322-43e0cc612536",
   "metadata": {},
   "outputs": [],
   "source": [
    "import pickle\n",
    "with open('df_afterPreprocessing.pickle', 'rb') as file:\n",
    "    df = pickle.load(file)"
   ]
  },
  {
   "cell_type": "code",
   "execution_count": 5,
   "id": "f52b3dc7-7974-44b5-9c33-2b2ad627dadb",
   "metadata": {},
   "outputs": [],
   "source": [
    "#Fonction de preprocessing\n",
    "stop_words = set(stopwords.words('English'))\n",
    "def removeStopWord(Word_list):\n",
    "    filtered_Word_list = Word_list[:] #make a copy of the Word_list\n",
    "    for Word in Word_list: # iterate over Word_list\n",
    "        if Word.lower() in stop_words: \n",
    "            filtered_Word_list.remove(Word) # remove Word from filtered_Word_list if it is a stopword\n",
    "    return filtered_Word_list\n",
    "\n",
    "# Instantiate stemmers\n",
    "porter = PorterStemmer()\n",
    "#Fonction de lemmatisation\n",
    "def lemmatisation(Word_list):\n",
    "    Words = Word_list[:] #make a copy of the Word_list\n",
    "    Words = [porter.stem(word) for word in Words]\n",
    "    return Words\n",
    "\n",
    "#Fonction qui supprime le tag si celui ci n'appartient au TOP        \n",
    "def removeNotTop100(Word_list):\n",
    "    filtered_Word_list = Word_list[:] #make a copy of the Word_list\n",
    "    for Word in Word_list: # iterate over Word_list\n",
    "        if Word not in Top100: \n",
    "            filtered_Word_list.remove(Word) # remove Word from filtered_Word_list if it is a stopword\n",
    "    if len(filtered_Word_list) == 0:\n",
    "        return None\n",
    "    else:\n",
    "        return filtered_Word_list\n",
    "    \n",
    "#Fonction qui supprime le mot si seulement du numérique        \n",
    "def removeOnlyNumeric(Word_list):\n",
    "    word_list = Word_list[:] #make a copy of the Word_list\n",
    "    for Word in Word_list: # iterate over Word_list\n",
    "        if Word.isnumeric(): \n",
    "            word_list.remove(Word) # remove Word from filtered_Word_list if it is a stopword\n",
    "    return word_list\n",
    "    \n",
    "#Fonction qui traite le C#\n",
    "def processCSharp(Word_list):\n",
    "    word_list = Word_list[:] #make a copy of the Word_list\n",
    "    for index, value in enumerate(word_list):\n",
    "        if value == '#':\n",
    "            word_list.remove(value) # remove Word from filtered_Word_list if it is a stopword\n",
    "            word_list[index-1] = 'c#'\n",
    "    return word_list\n",
    "\n",
    "# Fonction qui ne fait rien pour exploiter le pré traitement que nous avons réalisé\n",
    "def dummy(doc):\n",
    "    return doc\n",
    "\n",
    "#Fonction qui renvoi différents scores afin d'évaluer les modèles\n",
    "def print_score(y_test, y_pred):\n",
    "    print(\"Hamming loss : {}\".format(hamming_loss(y_test, y_pred)))\n",
    "    print('Subset Accuracy : ', accuracy_score(y_test, y_pred, normalize=True, sample_weight=None))\n",
    "    print('F1-score : ', f1_score(y_test, y_pred, average='micro'))\n",
    "    print('Jaccard : ', jaccard_score(y_test, y_pred, average='micro'))"
   ]
  },
  {
   "cell_type": "code",
   "execution_count": 6,
   "id": "96d27c31-7884-4673-9cd6-c0670037b46b",
   "metadata": {},
   "outputs": [],
   "source": [
    "#Préprocessing du champ Tittle et Body\n",
    "df['TitleBody'] = df['TitleBody'].map(lambda x: BeautifulSoup(x, \"html.parser\").get_text())\n",
    "df['TitleBody'] = df['TitleBody'].map(lambda x: x.replace('\\n', ' '))\n",
    "df['TitleBody'] = df['TitleBody'].map(lambda x: x.replace(':', ''))\n",
    "\n",
    "punct = string.punctuation\n",
    "for c in punct:\n",
    "    if c != '#':\n",
    "        df['TitleBody'] = df['TitleBody'].map(lambda x: x.replace(c, ''))\n",
    "\n",
    "#Création des nuages de mots avec NLTK\n",
    "df['TitleBody_final'] = df.apply(lambda row: nltk.word_tokenize(row['TitleBody'],language='english'), axis=1)\n",
    "\n",
    "#Supression des StopWord\n",
    "df['TitleBody_final'] = df.apply(lambda row:removeStopWord(row['TitleBody_final']), axis=1)\n",
    "\n",
    "#Lemmatisation\n",
    "#df['TitleBody_final'] = df.apply(lambda row:lemmatisation(row['TitleBody_final']), axis=1)\n",
    "\n",
    "#Traitement du C#\n",
    "df['TitleBody_final'] = df.apply(lambda row:processCSharp(row['TitleBody_final']), axis=1)\n",
    "\n",
    "#Suppressin des numériques\n",
    "df['TitleBody_final'] = df.apply(lambda row:removeOnlyNumeric(row['TitleBody_final']), axis=1)"
   ]
  },
  {
   "cell_type": "code",
   "execution_count": null,
   "id": "8b31cfc2-f6a2-4a62-899c-eed40f2a732d",
   "metadata": {},
   "outputs": [],
   "source": [
    "df.head(5)"
   ]
  },
  {
   "cell_type": "code",
   "execution_count": 7,
   "id": "0e56a815-b097-462d-8174-75826ee7a3e6",
   "metadata": {},
   "outputs": [],
   "source": [
    "#Utilisation de la librairie MultilabelBinarize pour créer un matrice de Tags\n",
    "from sklearn.preprocessing import MultiLabelBinarizer\n",
    "\n",
    "tags = df[\"processed_tags_final\"]\n",
    "\n",
    "mlb = MultiLabelBinarizer()\n",
    "tags_mlb = mlb.fit_transform(df[\"processed_tags_final\"].to_numpy())"
   ]
  },
  {
   "cell_type": "markdown",
   "id": "3a44026c-4d52-4e14-92c5-e1d201699b1f",
   "metadata": {},
   "source": [
    "## Création du jeu d'entrainement et du jeu de test "
   ]
  },
  {
   "cell_type": "code",
   "execution_count": 8,
   "id": "75e5e585-85bb-4e33-971d-3a5aa364db13",
   "metadata": {},
   "outputs": [],
   "source": [
    "from sklearn.model_selection import train_test_split\n",
    "\n",
    "X = df['TitleBody_final']\n",
    "y = tags_mlb\n",
    "\n",
    "X_train, X_test, y_train, y_test = train_test_split(X, y, \n",
    "                                                    test_size=.25)"
   ]
  },
  {
   "cell_type": "markdown",
   "id": "e194d5e8-5ef1-499a-8ffd-a66ad92f871c",
   "metadata": {},
   "source": [
    "## Vectorisation avec TF-IDF"
   ]
  },
  {
   "cell_type": "code",
   "execution_count": 9,
   "id": "09d38299-1762-4704-985d-6bca94e14581",
   "metadata": {},
   "outputs": [
    {
     "name": "stderr",
     "output_type": "stream",
     "text": [
      "C:\\Users\\jerom\\anaconda3\\envs\\PROJET5\\lib\\site-packages\\sklearn\\feature_extraction\\text.py:516: UserWarning: The parameter 'token_pattern' will not be used since 'tokenizer' is not None'\n",
      "  warnings.warn(\n"
     ]
    }
   ],
   "source": [
    "vectorizer = TfidfVectorizer(tokenizer=dummy,preprocessor=dummy,\n",
    "                            max_features=12000)\n",
    "vectorizer.fit(X_train)\n",
    "X_train_vec = vectorizer.transform(X_train)\n",
    "X_test_vec = vectorizer.transform(X_test)"
   ]
  },
  {
   "cell_type": "markdown",
   "id": "17f77f1c-d2ca-4166-ae47-f3e6fb024029",
   "metadata": {},
   "source": [
    "## Modèle Naive Bayse après TF_IDF\n",
    "* Utilisation de la méthode OneVsRest qui calcule toutes les étiquettes de sortie (Attention aux performances car n modèles suivant les tags de sortie)\n",
    "* J'utilise les données après un TF_IDF"
   ]
  },
  {
   "cell_type": "code",
   "execution_count": null,
   "id": "25dcdad1-c7c0-4a0b-a1d0-d780062e0975",
   "metadata": {},
   "outputs": [],
   "source": [
    "from sklearn.multiclass import OneVsRestClassifier\n",
    "from sklearn.naive_bayes import MultinomialNB\n",
    "\n",
    "nb_clf = OneVsRestClassifier(MultinomialNB(fit_prior=True, \n",
    "                                           class_prior=None))\n",
    "nb_clf.fit(X_train_vec, y_train)"
   ]
  },
  {
   "cell_type": "code",
   "execution_count": null,
   "id": "8f0f52d9-a490-4677-b24e-0803d8a8c5dc",
   "metadata": {},
   "outputs": [],
   "source": [
    "y_pred_nb = nb_clf.predict(X_test_vec)\n",
    "print_score(y_test, y_pred_nb)"
   ]
  },
  {
   "cell_type": "markdown",
   "id": "f7e73bea-17d0-47fe-835f-622b04867b8e",
   "metadata": {},
   "source": [
    "## Modèle Arbre de décision après NMF (Comme réduction de dimension)"
   ]
  },
  {
   "cell_type": "code",
   "execution_count": null,
   "id": "f21dd6a4-e64f-4080-a9ec-b372f9a340bc",
   "metadata": {},
   "outputs": [],
   "source": [
    "#D'abord réalisation d'une NMF avec le paramètre optimum calculté précédemment (8 Topics)\n",
    "from sklearn.decomposition import NMF\n",
    "k = 8\n",
    "# create the model, specifiying the initialization strategy and the number of topics to produce\n",
    "model = NMF(n_components=k,init=\"nndsvd\",random_state=42,max_iter = 300) \n",
    "# apply the model and extract the two factor matrices\n",
    "W_train = model.fit_transform(X_train_vec)\n",
    "W_test = model.fit_transform(X_test_vec)"
   ]
  },
  {
   "cell_type": "code",
   "execution_count": null,
   "id": "74c9f2f2-dc5e-4391-b317-592deef34a31",
   "metadata": {},
   "outputs": [],
   "source": [
    "#Arbre de décision\n",
    "from sklearn.tree import DecisionTreeClassifier\n",
    "clf = DecisionTreeClassifier(random_state=0)\n",
    "clf.fit(W_train, y_train)"
   ]
  },
  {
   "cell_type": "code",
   "execution_count": null,
   "id": "f8b7c38c-ae1c-4e4f-a3b9-ea817562a1db",
   "metadata": {},
   "outputs": [],
   "source": [
    "y_pred_nb = clf.predict(W_test)\n",
    "print_score(y_test, y_pred_nb)"
   ]
  },
  {
   "cell_type": "markdown",
   "id": "05743b38-4db1-4a29-9e82-0e42d0819352",
   "metadata": {},
   "source": [
    "## Modèle Arbre de décision sans NMF"
   ]
  },
  {
   "cell_type": "code",
   "execution_count": null,
   "id": "3bdeccd3-1396-4a8b-aabb-b444b4f56e16",
   "metadata": {},
   "outputs": [],
   "source": [
    "#Arbre de décision\n",
    "clf = DecisionTreeClassifier(random_state=42)\n",
    "clf.fit(X_train_vec, y_train)"
   ]
  },
  {
   "cell_type": "code",
   "execution_count": null,
   "id": "c5bc1556-727c-4762-bc3e-07118269ed20",
   "metadata": {},
   "outputs": [],
   "source": [
    "y_pred_nb = clf.predict(X_test_vec)\n",
    "print_score(y_test, y_pred_nb)"
   ]
  },
  {
   "cell_type": "markdown",
   "id": "7c60bfec-c6fb-4524-ad06-f924f7f434f1",
   "metadata": {},
   "source": [
    "## Modèle Arbre de décision après TruncateSVD\n",
    "* Contrairement à l'ACP TruncateSVD supporte les matrices creuses"
   ]
  },
  {
   "cell_type": "code",
   "execution_count": null,
   "id": "ae83045d-7314-4a57-812e-0b69febdbbb1",
   "metadata": {},
   "outputs": [],
   "source": [
    "from sklearn.decomposition import TruncatedSVD\n",
    "svd = TruncatedSVD(n_components=1000, n_iter=7, random_state=42)\n",
    "svd.fit(X_train_vec)\n",
    "X_train_SVD = svd.transform(X_train_vec)\n",
    "X_test_SVD = svd.transform(X_test_vec)\n",
    "\n",
    "#Arbre de décision\n",
    "clf = DecisionTreeClassifier(random_state=42)\n",
    "clf.fit(X_train_SVD, y_train)"
   ]
  },
  {
   "cell_type": "code",
   "execution_count": null,
   "id": "2525363f-531b-46de-a3d7-218676a1e9bc",
   "metadata": {},
   "outputs": [],
   "source": [
    "y_pred_nb = clf.predict(X_test_SVD)\n",
    "print_score(y_test, y_pred_nb)"
   ]
  },
  {
   "cell_type": "code",
   "execution_count": null,
   "id": "5abc4971-ba53-46fc-9e38-a25f8bd9f357",
   "metadata": {},
   "outputs": [],
   "source": [
    "X_train_vec.shape"
   ]
  },
  {
   "cell_type": "markdown",
   "id": "d35e9481-92ba-45c4-9596-1f760ae65eae",
   "metadata": {},
   "source": [
    "## Modèle Arbre de décision après ACP"
   ]
  },
  {
   "cell_type": "code",
   "execution_count": 10,
   "id": "b262861c-b400-4ab7-8bb6-805825315c2f",
   "metadata": {},
   "outputs": [
    {
     "data": {
      "text/plain": [
       "DecisionTreeClassifier(random_state=42)"
      ]
     },
     "execution_count": 10,
     "metadata": {},
     "output_type": "execute_result"
    }
   ],
   "source": [
    "from sklearn import decomposition\n",
    "# choix du nombre de composantes à calculer\n",
    "n_comp = 50\n",
    "\n",
    "features = df.columns\n",
    "\n",
    "# Calcul des composantes principales\n",
    "pca = decomposition.PCA(n_components=n_comp,random_state=42)\n",
    "pca.fit(X_train_vec.toarray())\n",
    "X_train_PCA = pca.transform(X_train_vec.toarray())\n",
    "X_test_PCA = pca.transform(X_test_vec.toarray())\n",
    "\n",
    "#Arbre de décision\n",
    "clf = DecisionTreeClassifier(random_state=42)\n",
    "clf.fit(X_train_PCA, y_train)"
   ]
  },
  {
   "cell_type": "code",
   "execution_count": 11,
   "id": "4f114fb3-5578-44b9-a4a6-7631236d5c58",
   "metadata": {},
   "outputs": [
    {
     "name": "stdout",
     "output_type": "stream",
     "text": [
      "Hamming loss : 0.021903506459267072\n",
      "Subset Accuracy :  0.15317690482467702\n",
      "F1-score :  0.3414711477488903\n",
      "Jaccard :  0.2058879755304913\n"
     ]
    }
   ],
   "source": [
    "y_pred_nb = clf.predict(X_test_PCA)\n",
    "print_score(y_test, y_pred_nb)"
   ]
  },
  {
   "cell_type": "code",
   "execution_count": null,
   "id": "0ac7c3bd-5991-4a0e-bae9-c271ae479fb4",
   "metadata": {},
   "outputs": [],
   "source": [
    "mlb.classes_"
   ]
  },
  {
   "cell_type": "code",
   "execution_count": 21,
   "id": "80f1f273-243a-4fff-8c2d-e99443a03e73",
   "metadata": {},
   "outputs": [],
   "source": [
    "#Fonction qui compte les bonnes prédictions et les mauvaises prédictions par tags\n",
    "def scoreTags():\n",
    "    resultat = []\n",
    "    for index, word in enumerate(mlb.classes_):\n",
    "        GoodPrediction = 0\n",
    "        BadPrediction = 0\n",
    "        for i in range(0,len(y_test)):\n",
    "            if (y_test[i][index] == 1):\n",
    "                if (y_test[i][index] == y_pred_nb[i][index]):\n",
    "                    GoodPrediction += 1\n",
    "                else:\n",
    "                    BadPrediction +=1\n",
    "        resultat.append((word,GoodPrediction,BadPrediction))\n",
    "    return resultat"
   ]
  },
  {
   "cell_type": "code",
   "execution_count": 22,
   "id": "14b9326b-9368-4195-bfd7-d4c7216d3a40",
   "metadata": {},
   "outputs": [],
   "source": [
    "comptagePrediction = scoreTags()"
   ]
  },
  {
   "cell_type": "code",
   "execution_count": null,
   "id": "548cfe16-7a8a-4eae-a5ea-6c4614d51c51",
   "metadata": {},
   "outputs": [],
   "source": [
    "for res in y_test:"
   ]
  },
  {
   "cell_type": "code",
   "execution_count": null,
   "id": "a8b44fb0-cdca-4972-aa47-f9db92e65523",
   "metadata": {},
   "outputs": [],
   "source": [
    "len(y_test)"
   ]
  },
  {
   "cell_type": "code",
   "execution_count": 23,
   "id": "98a8adf4-4a3b-4cee-b9a6-5b77750b0520",
   "metadata": {},
   "outputs": [
    {
     "data": {
      "text/plain": [
       "[('.net', 12, 121),\n",
       " ('ajax', 3, 20),\n",
       " ('algorithm', 2, 29),\n",
       " ('android', 120, 114),\n",
       " ('android-studio', 10, 8),\n",
       " ('angular', 8, 38),\n",
       " ('angularjs', 1, 34),\n",
       " ('arrays', 43, 54),\n",
       " ('asp.net', 3, 26),\n",
       " ('asp.net-mvc', 2, 31),\n",
       " ('bash', 46, 75),\n",
       " ('branch', 5, 22),\n",
       " ('c', 10, 49),\n",
       " ('c#', 78, 190),\n",
       " ('c++', 33, 96),\n",
       " ('c++11', 1, 17),\n",
       " ('class', 0, 19),\n",
       " ('cocoa-touch', 0, 20),\n",
       " ('collections', 1, 23),\n",
       " ('command-line', 7, 33),\n",
       " ('css', 102, 66),\n",
       " ('database', 1, 30),\n",
       " ('dataframe', 7, 26),\n",
       " ('date', 12, 30),\n",
       " ('datetime', 8, 29),\n",
       " ('debugging', 0, 20),\n",
       " ('dictionary', 7, 30),\n",
       " ('django', 0, 23),\n",
       " ('docker', 19, 13),\n",
       " ('dom', 3, 17),\n",
       " ('eclipse', 5, 26),\n",
       " ('exception', 2, 25),\n",
       " ('file', 3, 26),\n",
       " ('forms', 1, 16),\n",
       " ('function', 2, 26),\n",
       " ('generics', 1, 15),\n",
       " ('git', 234, 25),\n",
       " ('github', 12, 44),\n",
       " ('go', 0, 17),\n",
       " ('google-chrome', 1, 24),\n",
       " ('html', 71, 135),\n",
       " ('http', 2, 32),\n",
       " ('intellij-idea', 1, 17),\n",
       " ('ios', 21, 79),\n",
       " ('iphone', 2, 23),\n",
       " ('java', 178, 178),\n",
       " ('java-8', 0, 15),\n",
       " ('javascript', 273, 214),\n",
       " ('jquery', 60, 88),\n",
       " ('json', 17, 48),\n",
       " ('language-agnostic', 0, 21),\n",
       " ('linq', 2, 19),\n",
       " ('linux', 10, 73),\n",
       " ('list', 19, 33),\n",
       " ('loops', 0, 14),\n",
       " ('macos', 6, 32),\n",
       " ('matplotlib', 1, 23),\n",
       " ('mongodb', 1, 10),\n",
       " ('multithreading', 3, 26),\n",
       " ('mysql', 39, 35),\n",
       " ('node.js', 28, 60),\n",
       " ('npm', 12, 11),\n",
       " ('numpy', 7, 17),\n",
       " ('object', 3, 16),\n",
       " ('objective-c', 4, 47),\n",
       " ('oop', 1, 22),\n",
       " ('pandas', 20, 19),\n",
       " ('performance', 1, 45),\n",
       " ('php', 37, 86),\n",
       " ('postgresql', 3, 28),\n",
       " ('python', 288, 161),\n",
       " ('python-3.x', 6, 15),\n",
       " ('r', 3, 33),\n",
       " ('reactjs', 8, 32),\n",
       " ('regex', 6, 43),\n",
       " ('rest', 2, 23),\n",
       " ('ruby', 3, 41),\n",
       " ('ruby-on-rails', 1, 25),\n",
       " ('security', 0, 21),\n",
       " ('shell', 16, 65),\n",
       " ('sorting', 0, 17),\n",
       " ('sql', 47, 73),\n",
       " ('sql-server', 38, 31),\n",
       " ('string', 51, 93),\n",
       " ('swift', 0, 43),\n",
       " ('syntax', 0, 28),\n",
       " ('tsql', 7, 24),\n",
       " ('twitter-bootstrap', 6, 14),\n",
       " ('typescript', 1, 38),\n",
       " ('unit-testing', 2, 18),\n",
       " ('unix', 3, 40),\n",
       " ('url', 5, 13),\n",
       " ('variables', 0, 14),\n",
       " ('version-control', 3, 20),\n",
       " ('vim', 6, 28),\n",
       " ('visual-studio', 16, 16),\n",
       " ('visual-studio-code', 2, 15),\n",
       " ('windows', 4, 33),\n",
       " ('xcode', 2, 43),\n",
       " ('xml', 1, 22)]"
      ]
     },
     "execution_count": 23,
     "metadata": {},
     "output_type": "execute_result"
    }
   ],
   "source": [
    "comptagePrediction"
   ]
  },
  {
   "cell_type": "code",
   "execution_count": null,
   "id": "737d0f2c-20bf-4e0c-a706-ecc89cecc55a",
   "metadata": {},
   "outputs": [],
   "source": []
  }
 ],
 "metadata": {
  "kernelspec": {
   "display_name": "Python 3 (ipykernel)",
   "language": "python",
   "name": "python3"
  },
  "language_info": {
   "codemirror_mode": {
    "name": "ipython",
    "version": 3
   },
   "file_extension": ".py",
   "mimetype": "text/x-python",
   "name": "python",
   "nbconvert_exporter": "python",
   "pygments_lexer": "ipython3",
   "version": "3.8.11"
  }
 },
 "nbformat": 4,
 "nbformat_minor": 5
}
