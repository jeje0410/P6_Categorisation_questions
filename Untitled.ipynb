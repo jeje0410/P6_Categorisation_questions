{
 "cells": [
  {
   "cell_type": "code",
   "execution_count": 2,
   "id": "83a74d1b-9035-4ee0-9eae-d4dc68fce163",
   "metadata": {},
   "outputs": [],
   "source": [
    "from nltk.corpus import stopwords\n",
    "\n",
    "#Fonction de preprocessing\n",
    "stop_words = set(stopwords.words('English'))\n",
    "def removeStopWord(Word_list):\n",
    "    filtered_Word_list = Word_list[:] #make a copy of the Word_list\n",
    "    for Word in Word_list: # iterate over Word_list\n",
    "        if Word.lower() in stop_words: \n",
    "            filtered_Word_list.remove(Word) # remove Word from filtered_Word_list if it is a stopword\n",
    "    return filtered_Word_list\n",
    "\n",
    "    \n",
    "#Fonction qui supprime le mot si seulement du numérique        \n",
    "def removeOnlyNumeric(Word_list):\n",
    "    word_list = Word_list[:] #make a copy of the Word_list\n",
    "    for Word in Word_list: # iterate over Word_list\n",
    "        if Word.isnumeric(): \n",
    "            word_list.remove(Word) # remove Word from filtered_Word_list if it is a stopword\n",
    "    return word_list\n",
    "    \n",
    "\n",
    "# Fonction qui ne fait rien pour exploiter le pré traitement que nous avons réalisé\n",
    "def dummy(doc):\n",
    "    return doc\n"
   ]
  },
  {
   "cell_type": "code",
   "execution_count": null,
   "id": "b7b0e7bf-cb16-4914-a0f7-15628c79396f",
   "metadata": {},
   "outputs": [],
   "source": []
  }
 ],
 "metadata": {
  "kernelspec": {
   "display_name": "Python 3 (ipykernel)",
   "language": "python",
   "name": "python3"
  },
  "language_info": {
   "codemirror_mode": {
    "name": "ipython",
    "version": 3
   },
   "file_extension": ".py",
   "mimetype": "text/x-python",
   "name": "python",
   "nbconvert_exporter": "python",
   "pygments_lexer": "ipython3",
   "version": "3.8.11"
  }
 },
 "nbformat": 4,
 "nbformat_minor": 5
}
