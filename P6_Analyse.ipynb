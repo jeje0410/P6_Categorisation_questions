{
 "cells": [
  {
   "cell_type": "code",
   "execution_count": 40,
   "id": "55b3de2e-e1ec-4606-883d-e8b9dc81a322",
   "metadata": {},
   "outputs": [],
   "source": [
    "import numpy as np # linear algebra\n",
    "import pandas as pd # data processing, CSV file I/O (e.g. pd.read_csv)\n",
    "import missingno as msno\n",
    "import matplotlib.pyplot as plt\n",
    "from datetime import date\n",
    "today = date.today()\n",
    "from tqdm import tqdm\n",
    "import nltk\n",
    "from nltk.corpus import stopwords\n",
    "from nltk.tokenize import RegexpTokenizer\n",
    "from bs4 import BeautifulSoup\n",
    "from sklearn.feature_extraction.text import CountVectorizer, TfidfVectorizer\n",
    "import sklearn\n",
    "from wordcloud import WordCloud\n",
    "from nltk.stem import PorterStemmer\n",
    "import string\n",
    "from sklearn.decomposition import NMF, LatentDirichletAllocation\n",
    "from sklearn.model_selection import GridSearchCV\n",
    "import pyLDAvis\n",
    "import pyLDAvis.sklearn\n",
    "import gensim\n",
    "from itertools import combinations\n"
   ]
  },
  {
   "cell_type": "markdown",
   "id": "97e739d1-c53b-4c9a-aede-742789cdc723",
   "metadata": {},
   "source": [
    "### Fonction de préprocessing\n",
    "* RemoveStopWord : Supression des mots qui sont dans les Stop Word English\n",
    "* Lemmatisation : Fonction qui trouve la racine des mots\n",
    "* RemoveTop100 : Fonction qui supprime les mots qui ne sont pas dans le TOP 100 (Utilisé pour les Tags)"
   ]
  },
  {
   "cell_type": "code",
   "execution_count": 2,
   "id": "5bdf7fff-c7d5-4c72-a9d3-2b0668f316a1",
   "metadata": {},
   "outputs": [],
   "source": [
    "#Fonction de preprocessing\n",
    "stop_words = set(stopwords.words('English'))\n",
    "def removeStopWord(Word_list):\n",
    "    filtered_Word_list = Word_list[:] #make a copy of the Word_list\n",
    "    for Word in Word_list: # iterate over Word_list\n",
    "        if Word.lower() in stop_words: \n",
    "            filtered_Word_list.remove(Word) # remove Word from filtered_Word_list if it is a stopword\n",
    "    return filtered_Word_list\n",
    "\n",
    "# Instantiate stemmers\n",
    "porter = PorterStemmer()\n",
    "#Fonction de lemmatisation\n",
    "def lemmatisation(Word_list):\n",
    "    Words = Word_list[:] #make a copy of the Word_list\n",
    "    Words = [porter.stem(word) for word in Words]\n",
    "    return Words\n",
    "\n",
    "#Fonction qui supprime le tag si celui ci n'appartient au TOP        \n",
    "def removeNotTop100(Word_list):\n",
    "    filtered_Word_list = Word_list[:] #make a copy of the Word_list\n",
    "    for Word in Word_list: # iterate over Word_list\n",
    "        if Word not in Top100: \n",
    "            filtered_Word_list.remove(Word) # remove Word from filtered_Word_list if it is a stopword\n",
    "    if len(filtered_Word_list) == 0:\n",
    "        return None\n",
    "    else:\n",
    "        return filtered_Word_list\n",
    "    \n",
    "#Fonction qui traite le C#\n",
    "def processCSharp(Word_list):\n",
    "    word_list = Word_list[:] #make a copy of the Word_list\n",
    "    for index, value in enumerate(word_list):\n",
    "        if value == '#':\n",
    "            word_list.remove(value) # remove Word from filtered_Word_list if it is a stopword\n",
    "            word_list[index-1] = 'c#'\n",
    "    return word_list"
   ]
  },
  {
   "cell_type": "code",
   "execution_count": 3,
   "id": "123cbf14-4c42-479d-8bcc-5967141f67f7",
   "metadata": {},
   "outputs": [],
   "source": [
    "#Lecture du Fichier\n",
    "df = pd.read_csv('QueryResults.csv', sep = ',', encoding='UTF-8')\n",
    "\n",
    "#Lecture du Fichier de tags\n",
    "#df_tags1 = pd.read_csv('Tags1.csv', sep = ',', encoding='UTF-8')\n",
    "#df_tags2 = pd.read_csv('Tags2.csv', sep = ',', encoding='UTF-8')\n",
    "\n",
    "#df_tags_full = pd.concat([df_tags1, df_tags2], axis=0)\n",
    "\n"
   ]
  },
  {
   "cell_type": "code",
   "execution_count": 4,
   "id": "763e3a5c-8053-497c-bfe1-b7cfb6b0d151",
   "metadata": {},
   "outputs": [
    {
     "name": "stdout",
     "output_type": "stream",
     "text": [
      "(16413, 5)\n",
      "         Id                                               BODY  \\\n",
      "0     12051  <p>If I inherit from a base class and want to ...   \n",
      "1  17319422  <p>I am using PyCharm on Windows and want to c...   \n",
      "2     32664  <p>Can anyone tell me if there is a way with g...   \n",
      "3   8763125  <p>I would like to get the keys of a JavaScrip...   \n",
      "4     12865  <p>Got a bluescreen in windows while cloning a...   \n",
      "\n",
      "                                               Title  \\\n",
      "0                 Calling the base constructor in C#   \n",
      "1   How do I set the maximum line length in PyCharm?   \n",
      "2  Is there a constraint that restricts my generi...   \n",
      "3                         Get array of object's keys   \n",
      "4                 Mercurial stuck \"waiting for lock\"   \n",
      "\n",
      "                                   Tags         CreationDate  \n",
      "0  <c#><.net><inheritance><constructor>  2008-08-15 07:39:23  \n",
      "1               <python><pycharm><pep8>  2013-06-26 12:00:31  \n",
      "2           <c#><generics><constraints>  2008-08-28 16:04:49  \n",
      "3            <javascript><ecmascript-5>  2012-01-06 19:12:38  \n",
      "4                           <mercurial>  2008-08-15 23:01:16  \n"
     ]
    }
   ],
   "source": [
    "print(df.shape)\n",
    "print(df.head(5))"
   ]
  },
  {
   "cell_type": "code",
   "execution_count": null,
   "id": "5c08fa0f-d112-4aa4-8f4f-c72c51ff425d",
   "metadata": {},
   "outputs": [],
   "source": [
    "df.info()"
   ]
  },
  {
   "cell_type": "code",
   "execution_count": null,
   "id": "436b8d6f-5ed7-43a7-8466-49d71c14f3b6",
   "metadata": {},
   "outputs": [],
   "source": [
    "df.isna().mean()"
   ]
  },
  {
   "cell_type": "code",
   "execution_count": null,
   "id": "067945a1-2c3c-40d7-b2b8-f508f3d6648f",
   "metadata": {},
   "outputs": [],
   "source": [
    "#Téléchargement des packages nltk\n",
    "nltk.download()"
   ]
  },
  {
   "cell_type": "markdown",
   "id": "e5b19aa3-3e8d-48fa-8a32-e33b2f83dd27",
   "metadata": {},
   "source": [
    "## Mise en minuscule"
   ]
  },
  {
   "cell_type": "code",
   "execution_count": 5,
   "id": "d0af1324-bb01-4045-aa77-ba35b3e9c102",
   "metadata": {},
   "outputs": [],
   "source": [
    "df[\"BODY\"] = df[\"BODY\"].str.lower()\n",
    "df[\"Tags\"] = df[\"Tags\"].str.lower()\n",
    "df[\"Title\"] = df[\"Title\"].str.lower()"
   ]
  },
  {
   "cell_type": "code",
   "execution_count": 6,
   "id": "da2db29f-1b29-47e6-8a04-ec63a1a40ebd",
   "metadata": {},
   "outputs": [],
   "source": [
    "df[\"TitleBody\"] = df[\"Title\"] + \" \" + df[\"BODY\"]"
   ]
  },
  {
   "cell_type": "markdown",
   "id": "59a229a9-5b96-4763-803a-852607ee9866",
   "metadata": {},
   "source": [
    "# Traitement du champs Tags\n",
    "* On détermine les 100 Tags les plus utlisés\n",
    "* On supprime tous les Tags qui ne font pas partis de ce TOP 100\n",
    "* Supression des lignes Tags"
   ]
  },
  {
   "cell_type": "markdown",
   "id": "4cef0572-3990-4dc6-8e33-391f34a59a56",
   "metadata": {},
   "source": [
    "## Première méthode avec le CountVectorizer"
   ]
  },
  {
   "cell_type": "code",
   "execution_count": null,
   "id": "35018f85-3974-456e-979a-0c6bb61419bf",
   "metadata": {},
   "outputs": [],
   "source": [
    "# Processing tags\n",
    "df[\"Tags1\"] = df[\"Tags\"].replace({\"<\" : \" \"},\n",
    "                                     regex=True)\n",
    "df[\"Tags1\"] = df[\"Tags1\"].replace({\">\" : \",\"},\n",
    "                                     regex=True)\n",
    "df[\"Tags1\"] = df[\"Tags1\"].str.rstrip(',')"
   ]
  },
  {
   "cell_type": "code",
   "execution_count": null,
   "id": "50b806c2-29c2-4b36-866b-3fe963ae1dee",
   "metadata": {},
   "outputs": [],
   "source": [
    "vectorizer = CountVectorizer(max_features=100)\n",
    "bow_tags = vectorizer.fit_transform(df[\"Tags1\"]).toarray()\n",
    "df_tags = pd.DataFrame(bow_tags, columns=vectorizer.get_feature_names_out())\n",
    "df_tags = pd.DataFrame(df_tags.sum(), columns=[\"Value\"])"
   ]
  },
  {
   "cell_type": "code",
   "execution_count": null,
   "id": "fe445e1c-b65a-42ca-8775-0db961e7fa21",
   "metadata": {},
   "outputs": [],
   "source": [
    "top_20_tags_word = df_tags.sort_values(\"Value\", ascending=False)[:30]\n",
    "\n",
    "plt.figure(figsize=(10,5))\n",
    "plt.barh(y=top_20_tags_word.index, width=top_20_tags_word.Value)\n",
    "plt.title(\"Histogramme des 20 tags les plus représentés (Bag-Of-Words)\")\n",
    "plt.show()"
   ]
  },
  {
   "cell_type": "code",
   "execution_count": null,
   "id": "4e873983-a46c-48b4-941e-9a265183b459",
   "metadata": {},
   "outputs": [],
   "source": [
    "tags_more_frequent = df_tags.loc[df_tags[\"Value\"] >= 150].sort_values(\"Value\", ascending=False).index.tolist()"
   ]
  },
  {
   "cell_type": "code",
   "execution_count": null,
   "id": "515c87b9-ce68-42c1-92fd-2af5faec98d6",
   "metadata": {},
   "outputs": [],
   "source": [
    "tags_only = df[\"Tags1\"].str.split(\",\", expand=True)\n",
    "df = pd.merge(df, tags_only,left_index=True,right_index=True)\n",
    "df.columns = [\"Id\", \"Title\", \"Body\", \"Tags\",\"CreationDate\",\"Tags1\" ,\"Tags_1\", \"Tags_2\", \"Tags_3\", \"Tags_4\", \"Tags_5\"]"
   ]
  },
  {
   "cell_type": "code",
   "execution_count": null,
   "id": "e11d1761-3f26-4c06-9b49-953db2261167",
   "metadata": {},
   "outputs": [],
   "source": [
    "tags = [\"Tags_1\", \"Tags_2\", \"Tags_3\", \"Tags_4\", \"Tags_5\"]\n",
    "\n",
    "for i in tags_more_frequent:\n",
    "    for j in tags:\n",
    "        more_frequent = df.loc[df[j].str.contains(i, na=True)]\n",
    "        \n",
    "more_frequent.drop([\"Tags_1\", \"Tags_2\", \"Tags_3\", \"Tags_4\", \"Tags_5\"], axis=1, inplace=True)"
   ]
  },
  {
   "cell_type": "markdown",
   "id": "6608b74b-671e-476b-ad66-f4664692369a",
   "metadata": {},
   "source": [
    "## Deuxième méthode avec le TOKENIZER et l'expression régulière"
   ]
  },
  {
   "cell_type": "code",
   "execution_count": null,
   "id": "ff6c4cc4-f380-4659-8432-d016bfc9e639",
   "metadata": {},
   "outputs": [],
   "source": [
    "#Expression régulière pour prendre uniquement les valeurs entre <>\n",
    "tokenizer = RegexpTokenizer('(?<=\\<).*?(?=\\>)')\n",
    "\n",
    "#Création de la colonne avec ces valeurs\n",
    "df['tags_words'] = df.apply(lambda row: tokenizer.tokenize(row['Tags']), axis=1)\n",
    "\n",
    "#Comptage de l'utlisation des mots\n",
    "Top_Word = nltk.FreqDist()\n",
    "Top100 = []\n",
    "for x in df['tags_words']:\n",
    "    Top_Word += nltk.FreqDist(x)\n",
    "\n",
    "for i in Top_Word.most_common()[0:100]:\n",
    "    Top100.append(i[0])"
   ]
  },
  {
   "cell_type": "code",
   "execution_count": null,
   "id": "1e8d1d9b-b0f7-4dde-8f20-3ebcf1b8f022",
   "metadata": {},
   "outputs": [],
   "source": [
    "#Suppression des Tags qui ne sont pas dans le TOP\n",
    "df['processed_tags_final'] = df.apply(lambda row:removeNotTop100(row['tags_words']), axis=1)"
   ]
  },
  {
   "cell_type": "code",
   "execution_count": null,
   "id": "9ba129dd-b087-44f7-8058-299e6c9a88f4",
   "metadata": {},
   "outputs": [],
   "source": [
    "#Suppression des lignes sans Tags\n",
    "df = df.dropna()"
   ]
  },
  {
   "cell_type": "markdown",
   "id": "45687e19-198a-4b58-8cf7-674252951342",
   "metadata": {
    "tags": []
   },
   "source": [
    "## Affichage d'un WORDCLOUD sur la feature TAGS"
   ]
  },
  {
   "cell_type": "code",
   "execution_count": null,
   "id": "966e0e4f-22aa-43f7-aa2c-1a1fb41a07a4",
   "metadata": {},
   "outputs": [],
   "source": [
    "wordcloud = WordCloud(width = 800, height = 1000,\n",
    "                max_words=1000,\n",
    "                background_color ='white',\n",
    "                min_font_size = 12,\n",
    "                colormap=\"Set2\").generate(str(df['processed_tags_final']))\n",
    " \n",
    "# plot the WordCloud image                      \n",
    "plt.figure(figsize = (8, 8), facecolor = None)\n",
    "plt.imshow(wordcloud)\n",
    "plt.axis(\"off\")\n",
    "plt.tight_layout(pad = 0)\n",
    " \n",
    "plt.show()"
   ]
  },
  {
   "cell_type": "code",
   "execution_count": null,
   "id": "1dc2a41c-8cf7-4f09-8b8c-6785a6d43455",
   "metadata": {},
   "outputs": [],
   "source": [
    "wordcloud = WordCloud(width = 800, height = 1000,\n",
    "                max_words=1000,\n",
    "                background_color ='white',\n",
    "                min_font_size = 12,\n",
    "                colormap=\"Set2\").generate(str(df['processed_tags_final']))\n",
    " \n",
    "# plot the WordCloud image                      \n",
    "plt.figure(figsize = (8, 8), facecolor = None)\n",
    "plt.imshow(wordcloud)\n",
    "plt.axis(\"off\")\n",
    "plt.tight_layout(pad = 0)\n",
    " \n",
    "plt.show()"
   ]
  },
  {
   "cell_type": "markdown",
   "id": "064223f7-88e1-4b94-ba61-0689233f354b",
   "metadata": {},
   "source": [
    "# Préprocesing du champs BODY\n",
    "* Utilisation de BEAUTIFULSOUP pour le traitement HTML\n",
    "* Puis remplacement des retours chariots et des :\n",
    "* Création du nuage de mots\n",
    "* Supression des StopWord Anglais"
   ]
  },
  {
   "cell_type": "code",
   "execution_count": null,
   "id": "ec14cb00-7795-4849-bcdd-194ba66bc0de",
   "metadata": {},
   "outputs": [],
   "source": [
    "#Préprocessing du champ BODY\n",
    "df['processed_body'] = df['BODY'].map(lambda x: BeautifulSoup(x, \"html.parser\").get_text())\n",
    "df['processed_body'] = df['processed_body'].map(lambda x: x.replace('\\n', ' '))\n",
    "df['processed_body'] = df['processed_body'].map(lambda x: x.replace(':', ''))\n",
    "\n",
    "punct = string.punctuation\n",
    "for c in punct:\n",
    "    if c != '#':\n",
    "        df['processed_body'] = df['processed_body'].map(lambda x: x.replace(c, ''))\n",
    "\n",
    "#Création des nuages de mots avec NLTK\n",
    "df['processed_body2'] = df.apply(lambda row: nltk.word_tokenize(row['processed_body'],language='english'), axis=1)\n",
    "\n",
    "#Supression des StopWord\n",
    "df['processed_body_final'] = df.apply(lambda row:removeStopWord(row['processed_body2']), axis=1)\n",
    "\n",
    "#Lemmatisation\n",
    "df['processed_body_final'] = df.apply(lambda row:lemmatisation(row['processed_body_final']), axis=1)"
   ]
  },
  {
   "cell_type": "code",
   "execution_count": null,
   "id": "8460f6fc-9576-476c-a334-000aa441d3af",
   "metadata": {},
   "outputs": [],
   "source": [
    "#Préprocessing du champ BODY\n",
    "df['processed_body'] = df['BODY'].map(lambda x: BeautifulSoup(x, \"html.parser\").get_text())\n",
    "df['processed_body'] = df['processed_body'].map(lambda x: x.replace('\\n', ' '))\n",
    "df['processed_body'] = df['processed_body'].map(lambda x: x.replace(':', ''))\n",
    "\n",
    "#Création des nuages de mots avec NLTK\n",
    "df['processed_body2'] = df.apply(lambda row: nltk.word_tokenize(row['processed_body'],language='english'), axis=1)\n",
    "\n",
    "#Supression des StopWord\n",
    "df['processed_body_final'] = df.apply(lambda row:removeStopWord(row['processed_body2']), axis=1)\n",
    "\n",
    "#Lemmatisation\n",
    "df['processed_body_final'] = df.apply(lambda row:lemmatisation(row['processed_body_final']), axis=1)"
   ]
  },
  {
   "cell_type": "code",
   "execution_count": null,
   "id": "6a6d96b0-7bf3-42e2-994d-42d9656d8372",
   "metadata": {},
   "outputs": [],
   "source": [
    "stop_words = set(stopwords.words('English'))\n",
    "def removeStopWord(Word_list):\n",
    "    filtered_Word_list = Word_list[:] #make a copy of the Word_list\n",
    "    for Word in Word_list: # iterate over Word_list\n",
    "        if Word.lower() in stop_words: \n",
    "            filtered_Word_list.remove(Word) # remove Word from filtered_Word_list if it is a stopword\n",
    "    return filtered_Word_list\n",
    "\n",
    "#Fonction de lemmatisation\n",
    "def lemmatisation(Word_list):\n",
    "    Words = Word_list[:] #make a copy of the Word_list\n",
    "    Words = [lancaster.stem(word) for word in Words]\n",
    "    return Words"
   ]
  },
  {
   "cell_type": "markdown",
   "id": "2c829e99-3472-4a7d-ae7c-d68010e6e760",
   "metadata": {},
   "source": [
    "### Création d'un nuage de mots pour le BODY"
   ]
  },
  {
   "cell_type": "code",
   "execution_count": null,
   "id": "caee45e6-614e-423e-b08c-470843e0615b",
   "metadata": {},
   "outputs": [],
   "source": [
    "wordcloud = WordCloud(width = 800, height = 1000,\n",
    "                max_words=1000,\n",
    "                background_color ='white',\n",
    "                min_font_size = 12,\n",
    "                colormap=\"Set2\").generate(str(df['processed_body_final']))\n",
    " \n",
    "# plot the WordCloud image                      \n",
    "plt.figure(figsize = (8, 8), facecolor = None)\n",
    "plt.imshow(wordcloud)\n",
    "plt.axis(\"off\")\n",
    "plt.tight_layout(pad = 0)\n",
    " \n",
    "plt.show()"
   ]
  },
  {
   "cell_type": "code",
   "execution_count": null,
   "id": "b2f4986b-188e-4bff-80a2-bcb9e1403858",
   "metadata": {},
   "outputs": [],
   "source": [
    "wordcloud = WordCloud(width = 800, height = 1000,\n",
    "                max_words=1000,\n",
    "                background_color ='white',\n",
    "                min_font_size = 12,\n",
    "                colormap=\"Set2\").generate(str(df['processed_body_final']))\n",
    " \n",
    "# plot the WordCloud image                      \n",
    "plt.figure(figsize = (8, 8), facecolor = None)\n",
    "plt.imshow(wordcloud)\n",
    "plt.axis(\"off\")\n",
    "plt.tight_layout(pad = 0)\n",
    " \n",
    "plt.show()"
   ]
  },
  {
   "cell_type": "markdown",
   "id": "7ae43d2e-fa4c-466b-b618-353dbcd6dde3",
   "metadata": {},
   "source": [
    "# Préprocesing du champs Titre\n",
    "\n",
    "* Remplacement des retours chariots et des :\n",
    "* Création du nuage de mots\n",
    "* Supression des StopWord Anglais"
   ]
  },
  {
   "cell_type": "code",
   "execution_count": null,
   "id": "f3521206-c260-49d4-9c89-8d36515f28a2",
   "metadata": {},
   "outputs": [],
   "source": [
    "#Préprocessing du champ Title\n",
    "df['processed_title'] = df['Title'].map(lambda x: x.replace('\\n', ' '))\n",
    "\n",
    "punct = string.punctuation\n",
    "for c in punct:\n",
    "    if c != '#':\n",
    "        df['processed_title'] = df['processed_title'].map(lambda x: x.replace(c, ''))\n",
    "\n",
    "df['processed_title'] = df['processed_title'].map(lambda x: x.replace(':', ''))\n",
    "\n",
    "#Création des nuages de mots avec NLTK\n",
    "df['processed_title2'] = df.apply(lambda row: nltk.word_tokenize(row['processed_title']), axis=1)\n",
    "\n",
    "#Supression des StopWord\n",
    "df['processed_title_final'] = df.apply(lambda row:removeStopWord(row['processed_title2']), axis=1)\n",
    "\n",
    "#Lemmatisation\n",
    "df['processed_title_final'] = df.apply(lambda row:lemmatisation(row['processed_title_final']), axis=1)\n",
    "\n",
    "#Traitement du C#\n",
    "df['processed_title_final'] = df.apply(lambda row:processCSharp(row['processed_title_final']), axis=1)\n"
   ]
  },
  {
   "cell_type": "code",
   "execution_count": null,
   "id": "7000e833-e5f9-4608-aa35-d5c6586efa7f",
   "metadata": {},
   "outputs": [],
   "source": [
    "#Suppression des colonnes inutiles\n",
    "df.drop({'processed_body','processed_body2','tags_words','processed_title','processed_title2'}, axis=1, inplace=True)"
   ]
  },
  {
   "cell_type": "code",
   "execution_count": null,
   "id": "9d7a6fa1-135f-40b9-aa4f-73361a71e497",
   "metadata": {},
   "outputs": [],
   "source": [
    "wordcloud = WordCloud(width = 800, height = 1000,\n",
    "                max_words=1000,\n",
    "                background_color ='white',\n",
    "                min_font_size = 12,\n",
    "                colormap=\"Set2\").generate(str(df['processed_title_final']))\n",
    " \n",
    "# plot the WordCloud image                      \n",
    "plt.figure(figsize = (8, 8), facecolor = None)\n",
    "plt.imshow(wordcloud)\n",
    "plt.axis(\"off\")\n",
    "plt.tight_layout(pad = 0)\n",
    " \n",
    "plt.show()"
   ]
  },
  {
   "cell_type": "code",
   "execution_count": null,
   "id": "52f20296-d9e8-4d76-afc7-2c3d452d30ae",
   "metadata": {},
   "outputs": [],
   "source": [
    "df.head(5)"
   ]
  },
  {
   "cell_type": "markdown",
   "id": "21472dba-2e44-4e01-99d3-b1dfe08d13d4",
   "metadata": {},
   "source": [
    "# Création du jeu de test et d'entrainement"
   ]
  },
  {
   "cell_type": "code",
   "execution_count": null,
   "id": "480c22bc-e0c0-4ae7-8942-0288676f9a16",
   "metadata": {},
   "outputs": [],
   "source": [
    "from sklearn.model_selection import train_test_split\n",
    "df_train, df_test = train_test_split(df,test_size=0.2,random_state=42)"
   ]
  },
  {
   "cell_type": "code",
   "execution_count": null,
   "id": "e0a55ab4-a678-46ae-aaae-f48851ee33a8",
   "metadata": {},
   "outputs": [],
   "source": [
    "from sklearn.datasets import make_multilabel_classification\n",
    "from sklearn.neural_network import MLPClassifier\n",
    "from sklearn.tree import DecisionTreeClassifier\n",
    "from sklearn.metrics import accuracy_score\n",
    "\n",
    "\n",
    "\n",
    "\n",
    "mlp1 = MLPClassifier(hidden_layer_sizes=(200, ), max_iter=200, random_state=1)\n",
    "mlp1.fit(df_train.loc[:,{'processed_title_final','processed_body_final'}].to_numpy(), df_train.loc[:,'processed_tags_final'].to_numpy())\n",
    "y_pred1 = mlp1.predict(df_test.loc['processed_title_final','processed_body_final'].to_numpy())\n",
    "\n",
    "#mlp2 = MLPClassifier(hidden_layer_sizes=(200, ), max_iter=200, random_state=1)\n",
    "#mlp2.partial_fit(df_train.loc[:,{'processed_title_final','processed_body_final'}],df_train.loc[:,'processed_tags_final'], classes=list(range(df_train.loc[:,'processed_tags_final'].shape[1])))\n",
    "#y_pred2 = mlp2.predict(x_test)\n",
    "\n",
    "print('Using `fit`:')\n",
    "print(accuracy_score(y_test, y_pred1))\n",
    "\n",
    "#print('Using `partial_fit`:')\n",
    "#print(accuracy_score(y_test, y_pred2))"
   ]
  },
  {
   "cell_type": "code",
   "execution_count": null,
   "id": "f6a037f6-91ac-4e7c-a410-c4c495b29303",
   "metadata": {},
   "outputs": [],
   "source": [
    "df_train.loc[:,'processed_tags_final'].shape[1]"
   ]
  },
  {
   "cell_type": "code",
   "execution_count": null,
   "id": "4b41f5af-c088-4ba4-b919-d824deebcb7d",
   "metadata": {},
   "outputs": [],
   "source": [
    "X, y = make_multilabel_classification(n_samples=1000, n_features=10,\n",
    "                                      n_classes=5, n_labels=2,\n",
    "                                      allow_unlabeled=False, random_state=1)"
   ]
  },
  {
   "cell_type": "markdown",
   "id": "b456e09a-b4e5-4df7-bf3f-ae08bb698b70",
   "metadata": {},
   "source": [
    "# Extraction des TOPICS avec NMF "
   ]
  },
  {
   "cell_type": "code",
   "execution_count": 8,
   "id": "e8d3f437-2c81-4952-bb26-314b69ca706c",
   "metadata": {},
   "outputs": [],
   "source": [
    "# Fonction qui ne fait rien pour exploiter le pré traitement que nous avons réalisé\n",
    "def dummy(doc):\n",
    "    return doc"
   ]
  },
  {
   "cell_type": "code",
   "execution_count": 10,
   "id": "2d480966-bb7c-4361-974f-18325352f5ad",
   "metadata": {},
   "outputs": [],
   "source": [
    "#Préprocessing du champ BODY\n",
    "df['TitleBody'] = df['TitleBody'].map(lambda x: BeautifulSoup(x, \"html.parser\").get_text())\n",
    "df['TitleBody'] = df['TitleBody'].map(lambda x: x.replace('\\n', ' '))\n",
    "df['TitleBody'] = df['TitleBody'].map(lambda x: x.replace(':', ''))\n",
    "\n",
    "punct = string.punctuation\n",
    "for c in punct:\n",
    "    if c != '#':\n",
    "        df['TitleBody'] = df['TitleBody'].map(lambda x: x.replace(c, ''))\n",
    "\n",
    "#Création des nuages de mots avec NLTK\n",
    "df['TitleBody_final'] = df.apply(lambda row: nltk.word_tokenize(row['TitleBody'],language='english'), axis=1)\n",
    "\n",
    "#Supression des StopWord\n",
    "df['TitleBody_final'] = df.apply(lambda row:removeStopWord(row['TitleBody_final']), axis=1)\n",
    "\n",
    "#Lemmatisation\n",
    "df['TitleBody_final'] = df.apply(lambda row:lemmatisation(row['TitleBody_final']), axis=1)\n",
    "\n",
    "#Traitement du C#\n",
    "df['TitleBody_final'] = df.apply(lambda row:processCSharp(row['TitleBody_final']), axis=1)"
   ]
  },
  {
   "cell_type": "code",
   "execution_count": null,
   "id": "90a68eba-b5bd-4bbc-8353-691ad688886a",
   "metadata": {},
   "outputs": [],
   "source": [
    "df.head(5)"
   ]
  },
  {
   "cell_type": "markdown",
   "id": "06ab47b1-72ac-42e1-8ce4-a68991e21845",
   "metadata": {},
   "source": [
    "## Première étape on vectorize avec TF-IDF"
   ]
  },
  {
   "cell_type": "code",
   "execution_count": 30,
   "id": "08778d9b-eebe-42d1-a3b4-e19259bfb18f",
   "metadata": {},
   "outputs": [],
   "source": [
    "tfidf_vectorizer = TfidfVectorizer(max_features=12000,tokenizer=dummy,\n",
    "        preprocessor=dummy)\n",
    "tfidf = tfidf_vectorizer.fit_transform(df[\"TitleBody_final\"])\n",
    "tfidf_feature_names = tfidf_vectorizer.get_feature_names_out()"
   ]
  },
  {
   "cell_type": "markdown",
   "id": "5e93cca1-f599-4d9b-a1d2-4c59f22112ca",
   "metadata": {},
   "source": [
    "## Puis on calcul les topics avec NMF"
   ]
  },
  {
   "cell_type": "code",
   "execution_count": null,
   "id": "d7a803f9-f665-40a9-9f57-e176ecc7eb25",
   "metadata": {},
   "outputs": [],
   "source": [
    "from sklearn.decomposition import NMF\n",
    "k = 10\n",
    "# create the model, specifiying the initialization strategy and the number of topics to produce\n",
    "model = NMF(n_components=k,random_state=42) \n",
    "# apply the model and extract the two factor matrices\n",
    "W = model.fit_transform(tfidf)\n",
    "H = model.components_"
   ]
  },
  {
   "cell_type": "code",
   "execution_count": null,
   "id": "bb23c8d5-7afd-4f51-aa40-be024c00aaab",
   "metadata": {},
   "outputs": [],
   "source": [
    "W.shape"
   ]
  },
  {
   "cell_type": "code",
   "execution_count": null,
   "id": "8fc1cce2-7ef8-41bf-a2fb-a9d6b6c8b0b6",
   "metadata": {},
   "outputs": [],
   "source": [
    "W[0,:].round(2)"
   ]
  },
  {
   "cell_type": "code",
   "execution_count": null,
   "id": "02aa80ee-6d8e-4833-bbdd-74bc65e2fb21",
   "metadata": {},
   "outputs": [],
   "source": [
    "H.shape"
   ]
  },
  {
   "cell_type": "code",
   "execution_count": null,
   "id": "6bf31da2-385e-42f2-8b78-c9b888d3dc99",
   "metadata": {},
   "outputs": [],
   "source": [
    "def get_descriptor( terms, H, topic_index, top ):\n",
    "    # reverse sort the values to sort the indices\n",
    "    top_indices = np.argsort( H[topic_index,:] )[::-1]\n",
    "    # now get the terms corresponding to the top-ranked indices\n",
    "    top_terms = []\n",
    "    for term_index in top_indices[0:top]:\n",
    "        top_terms.append( tfidf_feature_names[term_index] )\n",
    "    return top_terms"
   ]
  },
  {
   "cell_type": "code",
   "execution_count": null,
   "id": "311b3c63-d626-4a7b-a5d1-b445f9936e07",
   "metadata": {},
   "outputs": [],
   "source": [
    "descriptors = []\n",
    "for topic_index in range(k):\n",
    "    descriptors.append( get_descriptor( tfidf_feature_names, H, topic_index, 10 ) )\n",
    "    str_descriptor = \", \".join( descriptors[topic_index] )\n",
    "    print(\"Topic %02d: %s\" % ( topic_index+1, str_descriptor ) )"
   ]
  },
  {
   "cell_type": "code",
   "execution_count": null,
   "id": "0da73e68-30e8-4dd9-8b89-4ee53144b414",
   "metadata": {},
   "outputs": [],
   "source": [
    "def plot_top_term_weights( tfidf_feature_names, H, topic_index, top ):\n",
    "    # get the top terms and their weights\n",
    "    top_indices = np.argsort( H[topic_index,:] )[::-1]\n",
    "    top_terms = []\n",
    "    top_weights = []\n",
    "    for term_index in top_indices[0:top]:\n",
    "        top_terms.append( tfidf_feature_names[term_index] )\n",
    "        top_weights.append( H[topic_index,term_index] )\n",
    "    # note we reverse the ordering for the plot\n",
    "    top_terms.reverse()\n",
    "    top_weights.reverse()\n",
    "    # create the plot\n",
    "    fig = plt.figure(figsize=(13,8))\n",
    "    # add the horizontal bar chart\n",
    "    ypos = np.arange(top)\n",
    "    ax = plt.barh(ypos, top_weights, align=\"center\", color=\"green\",tick_label=top_terms)\n",
    "    plt.xlabel(\"Term Weight\",fontsize=14)\n",
    "    plt.tight_layout()\n",
    "    plt.show()"
   ]
  },
  {
   "cell_type": "code",
   "execution_count": null,
   "id": "0e94047e-ca7c-48df-a0cc-1ad5dcaa553e",
   "metadata": {},
   "outputs": [],
   "source": [
    "plot_top_term_weights(tfidf_feature_names, H, 9, 15)"
   ]
  },
  {
   "cell_type": "code",
   "execution_count": null,
   "id": "73d53368-1acc-40db-b9ee-5b4bac126f1b",
   "metadata": {},
   "outputs": [],
   "source": [
    "plot_top_term_weights(tfidf_feature_names, H, 4, 15)"
   ]
  },
  {
   "cell_type": "markdown",
   "id": "0446c4e5-9f6b-431c-9bca-d7ee27905f9f",
   "metadata": {},
   "source": [
    "### Selection du nombre de TOPIC"
   ]
  },
  {
   "cell_type": "code",
   "execution_count": 48,
   "id": "b6d134e2-3c0a-49e6-9c57-cec302d7e9be",
   "metadata": {},
   "outputs": [
    {
     "name": "stdout",
     "output_type": "stream",
     "text": [
      "Applying NMF for k=20 ...\n",
      "Applying NMF for k=21 ...\n",
      "Applying NMF for k=22 ...\n",
      "Applying NMF for k=23 ...\n",
      "Applying NMF for k=24 ...\n",
      "Applying NMF for k=25 ...\n",
      "Applying NMF for k=26 ...\n",
      "Applying NMF for k=27 ...\n"
     ]
    },
    {
     "name": "stderr",
     "output_type": "stream",
     "text": [
      "C:\\Users\\jerom\\anaconda3\\envs\\PROJET5\\lib\\site-packages\\sklearn\\decomposition\\_nmf.py:1637: ConvergenceWarning: Maximum number of iterations 200 reached. Increase it to improve convergence.\n",
      "  warnings.warn(\n"
     ]
    },
    {
     "name": "stdout",
     "output_type": "stream",
     "text": [
      "Applying NMF for k=28 ...\n",
      "Applying NMF for k=29 ...\n",
      "Applying NMF for k=30 ...\n",
      "Applying NMF for k=31 ...\n",
      "Applying NMF for k=32 ...\n"
     ]
    },
    {
     "name": "stderr",
     "output_type": "stream",
     "text": [
      "C:\\Users\\jerom\\anaconda3\\envs\\PROJET5\\lib\\site-packages\\sklearn\\decomposition\\_nmf.py:1637: ConvergenceWarning: Maximum number of iterations 200 reached. Increase it to improve convergence.\n",
      "  warnings.warn(\n"
     ]
    },
    {
     "name": "stdout",
     "output_type": "stream",
     "text": [
      "Applying NMF for k=33 ...\n",
      "Applying NMF for k=34 ...\n",
      "Applying NMF for k=35 ...\n"
     ]
    }
   ],
   "source": [
    "kmin, kmax = 20, 35\n",
    "topic_models = []\n",
    "# try each value of k\n",
    "for k in range(kmin,kmax+1):\n",
    "    print(\"Applying NMF for k=%d ...\" % k )\n",
    "    # run NMF\n",
    "    model = NMF( init=\"nndsvd\", n_components=k ) \n",
    "    W = model.fit_transform(tfidf)\n",
    "    H = model.components_    \n",
    "    # store for later\n",
    "    topic_models.append( (k,W,H) )"
   ]
  },
  {
   "cell_type": "code",
   "execution_count": 47,
   "id": "1b1647d0-5077-40c7-987d-ce7e25724d0f",
   "metadata": {},
   "outputs": [],
   "source": [
    "#Création du modèle Word2vec\n",
    "w2v_model = gensim.models.Word2Vec(df[\"TitleBody_final\"].values, vector_size=500, min_count=20, sg=1)"
   ]
  },
  {
   "cell_type": "code",
   "execution_count": 33,
   "id": "d69398c2-b910-44e4-8ff9-84e4f65c6b44",
   "metadata": {},
   "outputs": [],
   "source": [
    "def calculate_coherence( w2v_model, term_rankings ):\n",
    "    overall_coherence = 0.0\n",
    "    for topic_index in range(len(term_rankings)):\n",
    "        # check each pair of terms\n",
    "        pair_scores = []\n",
    "        for pair in combinations( term_rankings[topic_index], 2 ):\n",
    "            pair_scores.append( w2v_model.wv.similarity(pair[0], pair[1]) )\n",
    "        # get the mean for all pairs in this topic\n",
    "        topic_score = sum(pair_scores) / len(pair_scores)\n",
    "        overall_coherence += topic_score\n",
    "    # get the mean score across all topics\n",
    "    return overall_coherence / len(term_rankings)\n",
    "\n",
    "def get_descriptor( all_terms, H, topic_index, top ):\n",
    "    # reverse sort the values to sort the indices\n",
    "    top_indices = np.argsort( H[topic_index,:] )[::-1]\n",
    "    # now get the terms corresponding to the top-ranked indices\n",
    "    top_terms = []\n",
    "    for term_index in top_indices[0:top]:\n",
    "        top_terms.append( all_terms[term_index] )\n",
    "    return top_terms"
   ]
  },
  {
   "cell_type": "code",
   "execution_count": 49,
   "id": "7e19c858-dfac-4e09-960c-1734e99c2171",
   "metadata": {},
   "outputs": [
    {
     "name": "stdout",
     "output_type": "stream",
     "text": [
      "K=20: Coherence=0.3297\n",
      "K=21: Coherence=0.3283\n",
      "K=22: Coherence=0.3316\n",
      "K=23: Coherence=0.3345\n",
      "K=24: Coherence=0.3284\n",
      "K=25: Coherence=0.3309\n",
      "K=26: Coherence=0.3328\n",
      "K=27: Coherence=0.3293\n",
      "K=28: Coherence=0.3332\n",
      "K=29: Coherence=0.3339\n",
      "K=30: Coherence=0.3323\n",
      "K=31: Coherence=0.3330\n",
      "K=32: Coherence=0.3317\n",
      "K=33: Coherence=0.3397\n",
      "K=34: Coherence=0.3325\n",
      "K=35: Coherence=0.3439\n"
     ]
    }
   ],
   "source": [
    "k_values = []\n",
    "coherences = []\n",
    "for (k,W,H) in topic_models:\n",
    "    # Get all of the topic descriptors - the term_rankings, based on top 10 terms\n",
    "    term_rankings = []\n",
    "    for topic_index in range(k):\n",
    "        term_rankings.append( get_descriptor( tfidf_feature_names, H, topic_index, 10 ) )\n",
    "    # Now calculate the coherence based on our Word2vec model\n",
    "    k_values.append( k )\n",
    "    coherences.append( calculate_coherence( w2v_model, term_rankings ) )\n",
    "    print(\"K=%02d: Coherence=%.4f\" % ( k, coherences[-1] ) )"
   ]
  },
  {
   "cell_type": "code",
   "execution_count": 50,
   "id": "7f0c4e5a-2006-47b8-b17a-9e4ee1dab000",
   "metadata": {},
   "outputs": [
    {
     "data": {
      "image/png": "[encoded data removed]",
      "text/plain": [
       "<Figure size 936x504 with 1 Axes>"
      ]
     },
     "metadata": {
      "needs_background": "light"
     },
     "output_type": "display_data"
    }
   ],
   "source": [
    "fig = plt.figure(figsize=(13,7))\n",
    "# create the line plot\n",
    "ax = plt.plot( k_values, coherences )\n",
    "plt.xticks(k_values)\n",
    "plt.xlabel(\"Number of Topics\")\n",
    "plt.ylabel(\"Mean Coherence\")\n",
    "# add the points\n",
    "plt.scatter(k_values, coherences, s=120)\n",
    "# find and annotate the maximum point on the plot\n",
    "ymax = max(coherences)\n",
    "xpos = coherences.index(ymax)\n",
    "best_k = k_values[xpos]\n",
    "plt.annotate(\"k=%d\" % best_k, xy=(best_k, ymax), xytext=(best_k, ymax), textcoords=\"offset points\", fontsize=16)\n",
    "# show the plot\n",
    "plt.show()"
   ]
  },
  {
   "cell_type": "markdown",
   "id": "26ae1848-1b6d-471f-9c4f-9b68016a2983",
   "metadata": {},
   "source": [
    "# LDA : Latent Dirichlet Allocation\n",
    "* Détermination des TOPICS\n",
    "Quels sont les thèmes, les distributions de chaque mot sur les thèmes, la fréquence d’apparition de chaque thème sur le corpus"
   ]
  },
  {
   "cell_type": "code",
   "execution_count": 11,
   "id": "a58cc47e-8dd4-498b-b9ff-bb5fac8b0ca0",
   "metadata": {},
   "outputs": [],
   "source": [
    "bow_vectorizer = CountVectorizer(ngram_range = (1,1),\n",
    "                                 tokenizer=dummy,preprocessor=dummy)\n",
    "docs_bow = bow_vectorizer.fit_transform(df[\"TitleBody_final\"])"
   ]
  },
  {
   "cell_type": "code",
   "execution_count": 12,
   "id": "5d93c2c7-0ec2-4ce9-9b4e-48223dd3cf57",
   "metadata": {},
   "outputs": [
    {
     "name": "stdout",
     "output_type": "stream",
     "text": [
      "Fitting 5 folds for each of 12 candidates, totalling 60 fits\n",
      "[CV] END learning_decay=0.7, learning_method=batch, n_components=8; total time= 1.1min\n",
      "[CV] END learning_decay=0.7, learning_method=batch, n_components=8; total time= 1.1min\n",
      "[CV] END learning_decay=0.7, learning_method=batch, n_components=8; total time= 1.2min\n",
      "[CV] END learning_decay=0.7, learning_method=batch, n_components=8; total time= 1.1min\n",
      "[CV] END learning_decay=0.7, learning_method=batch, n_components=8; total time= 1.1min\n",
      "[CV] END learning_decay=0.7, learning_method=batch, n_components=9; total time= 1.1min\n",
      "[CV] END learning_decay=0.7, learning_method=batch, n_components=9; total time= 1.2min\n",
      "[CV] END learning_decay=0.7, learning_method=batch, n_components=9; total time= 1.1min\n",
      "[CV] END learning_decay=0.7, learning_method=batch, n_components=9; total time= 1.1min\n",
      "[CV] END learning_decay=0.7, learning_method=batch, n_components=9; total time= 1.1min\n",
      "[CV] END learning_decay=0.7, learning_method=batch, n_components=10; total time= 1.1min\n",
      "[CV] END learning_decay=0.7, learning_method=batch, n_components=10; total time= 1.1min\n",
      "[CV] END learning_decay=0.7, learning_method=batch, n_components=10; total time= 1.1min\n",
      "[CV] END learning_decay=0.7, learning_method=batch, n_components=10; total time= 1.1min\n",
      "[CV] END learning_decay=0.7, learning_method=batch, n_components=10; total time= 1.1min\n",
      "[CV] END learning_decay=0.7, learning_method=online, n_components=8; total time=  59.0s\n",
      "[CV] END learning_decay=0.7, learning_method=online, n_components=8; total time=  57.8s\n",
      "[CV] END learning_decay=0.7, learning_method=online, n_components=8; total time=  55.5s\n",
      "[CV] END learning_decay=0.7, learning_method=online, n_components=8; total time=  54.4s\n",
      "[CV] END learning_decay=0.7, learning_method=online, n_components=8; total time=  53.3s\n",
      "[CV] END learning_decay=0.7, learning_method=online, n_components=9; total time=  54.9s\n",
      "[CV] END learning_decay=0.7, learning_method=online, n_components=9; total time=  59.8s\n",
      "[CV] END learning_decay=0.7, learning_method=online, n_components=9; total time=  59.3s\n",
      "[CV] END learning_decay=0.7, learning_method=online, n_components=9; total time=  59.8s\n",
      "[CV] END learning_decay=0.7, learning_method=online, n_components=9; total time=  55.7s\n",
      "[CV] END learning_decay=0.7, learning_method=online, n_components=10; total time=  48.1s\n",
      "[CV] END learning_decay=0.7, learning_method=online, n_components=10; total time=  48.0s\n",
      "[CV] END learning_decay=0.7, learning_method=online, n_components=10; total time=  48.1s\n",
      "[CV] END learning_decay=0.7, learning_method=online, n_components=10; total time=  48.5s\n",
      "[CV] END learning_decay=0.7, learning_method=online, n_components=10; total time=  47.9s\n",
      "[CV] END learning_decay=0.9, learning_method=batch, n_components=8; total time= 1.2min\n",
      "[CV] END learning_decay=0.9, learning_method=batch, n_components=8; total time= 1.1min\n",
      "[CV] END learning_decay=0.9, learning_method=batch, n_components=8; total time= 1.1min\n",
      "[CV] END learning_decay=0.9, learning_method=batch, n_components=8; total time= 1.1min\n",
      "[CV] END learning_decay=0.9, learning_method=batch, n_components=8; total time= 1.1min\n",
      "[CV] END learning_decay=0.9, learning_method=batch, n_components=9; total time= 1.1min\n",
      "[CV] END learning_decay=0.9, learning_method=batch, n_components=9; total time= 1.3min\n",
      "[CV] END learning_decay=0.9, learning_method=batch, n_components=9; total time= 1.3min\n",
      "[CV] END learning_decay=0.9, learning_method=batch, n_components=9; total time= 1.1min\n",
      "[CV] END learning_decay=0.9, learning_method=batch, n_components=9; total time= 1.2min\n",
      "[CV] END learning_decay=0.9, learning_method=batch, n_components=10; total time= 1.1min\n",
      "[CV] END learning_decay=0.9, learning_method=batch, n_components=10; total time= 1.1min\n",
      "[CV] END learning_decay=0.9, learning_method=batch, n_components=10; total time= 1.1min\n",
      "[CV] END learning_decay=0.9, learning_method=batch, n_components=10; total time= 1.1min\n",
      "[CV] END learning_decay=0.9, learning_method=batch, n_components=10; total time= 1.1min\n",
      "[CV] END learning_decay=0.9, learning_method=online, n_components=8; total time=  54.0s\n",
      "[CV] END learning_decay=0.9, learning_method=online, n_components=8; total time=  56.1s\n",
      "[CV] END learning_decay=0.9, learning_method=online, n_components=8; total time=  54.8s\n",
      "[CV] END learning_decay=0.9, learning_method=online, n_components=8; total time=  54.3s\n",
      "[CV] END learning_decay=0.9, learning_method=online, n_components=8; total time=  54.4s\n",
      "[CV] END learning_decay=0.9, learning_method=online, n_components=9; total time=  54.3s\n",
      "[CV] END learning_decay=0.9, learning_method=online, n_components=9; total time= 1.0min\n",
      "[CV] END learning_decay=0.9, learning_method=online, n_components=9; total time= 1.0min\n",
      "[CV] END learning_decay=0.9, learning_method=online, n_components=9; total time= 1.0min\n",
      "[CV] END learning_decay=0.9, learning_method=online, n_components=9; total time= 1.0min\n",
      "[CV] END learning_decay=0.9, learning_method=online, n_components=10; total time=  41.0s\n",
      "[CV] END learning_decay=0.9, learning_method=online, n_components=10; total time=  44.3s\n",
      "[CV] END learning_decay=0.9, learning_method=online, n_components=10; total time=  43.9s\n",
      "[CV] END learning_decay=0.9, learning_method=online, n_components=10; total time=  43.3s\n",
      "[CV] END learning_decay=0.9, learning_method=online, n_components=10; total time=  41.2s\n"
     ]
    },
    {
     "data": {
      "text/plain": [
       "GridSearchCV(cv=5,\n",
       "             estimator=LatentDirichletAllocation(batch_size=400,\n",
       "                                                 random_state=42),\n",
       "             param_grid={'learning_decay': [0.7, 0.9],\n",
       "                         'learning_method': ['batch', 'online'],\n",
       "                         'n_components': [8, 9, 10]},\n",
       "             verbose=2)"
      ]
     },
     "execution_count": 12,
     "metadata": {},
     "output_type": "execute_result"
    }
   ],
   "source": [
    "lda = LatentDirichletAllocation(random_state=42,\n",
    "                                batch_size=400)\n",
    "params = {'n_components' : [8, 9, 10],\n",
    "          \"learning_decay\" : [0.7, 0.9],\n",
    "          \"learning_method\" : [\"batch\", \"online\"]}\n",
    "\n",
    "gridsearch_lda = GridSearchCV(lda,\n",
    "                              param_grid=params,\n",
    "                              cv=5,\n",
    "                              verbose=2)\n",
    "gridsearch_lda.fit(docs_bow)\n",
    "\n",
    "#1 heure d'exécution. Résultat obtenu\n",
    "#Best Model's Params:  {'learning_decay': 0.9, 'learning_method': 'online', 'n_components': 8}\n",
    "#Best Log Likelihood Score:  -1689928.643148844"
   ]
  },
  {
   "cell_type": "code",
   "execution_count": 13,
   "id": "2f6413c5-1159-48dd-8014-8d6112f0e48b",
   "metadata": {},
   "outputs": [
    {
     "name": "stdout",
     "output_type": "stream",
     "text": [
      "Best Model's Params:  {'learning_decay': 0.9, 'learning_method': 'online', 'n_components': 8}\n",
      "Best Log Likelihood Score:  -1689928.643148844\n"
     ]
    }
   ],
   "source": [
    "best_lda_model = gridsearch_lda.best_estimator_\n",
    "\n",
    "print(\"Best Model's Params: \", gridsearch_lda.best_params_)\n",
    "print(\"Best Log Likelihood Score: \", gridsearch_lda.best_score_)"
   ]
  },
  {
   "cell_type": "code",
   "execution_count": 51,
   "id": "4e78a222-d8e2-494a-bd80-3c53e606510c",
   "metadata": {},
   "outputs": [
    {
     "name": "stderr",
     "output_type": "stream",
     "text": [
      "C:\\Users\\jerom\\anaconda3\\envs\\PROJET5\\lib\\site-packages\\sklearn\\utils\\deprecation.py:87: FutureWarning: Function get_feature_names is deprecated; get_feature_names is deprecated in 1.0 and will be removed in 1.2. Please use get_feature_names_out instead.\n",
      "  warnings.warn(msg, category=FutureWarning)\n",
      "C:\\Users\\jerom\\anaconda3\\envs\\PROJET5\\lib\\site-packages\\pyLDAvis\\_prepare.py:246: FutureWarning: In a future version of pandas all arguments of DataFrame.drop except for the argument 'labels' will be keyword-only\n",
      "  default_term_info = default_term_info.sort_values(\n",
      "C:\\Users\\jerom\\anaconda3\\envs\\PROJET5\\lib\\site-packages\\sklearn\\manifold\\_t_sne.py:780: FutureWarning: The default initialization in TSNE will change from 'random' to 'pca' in 1.2.\n",
      "  warnings.warn(\n",
      "C:\\Users\\jerom\\anaconda3\\envs\\PROJET5\\lib\\site-packages\\sklearn\\manifold\\_t_sne.py:790: FutureWarning: The default learning rate in TSNE will change from 200.0 to 'auto' in 1.2.\n",
      "  warnings.warn(\n",
      "C:\\Users\\jerom\\anaconda3\\envs\\PROJET5\\lib\\site-packages\\sklearn\\manifold\\_t_sne.py:819: FutureWarning: 'square_distances' has been introduced in 0.24 to help phase out legacy squaring behavior. The 'legacy' setting will be removed in 1.1 (renaming of 0.26), and the default setting will be changed to True. In 1.3, 'square_distances' will be removed altogether, and distances will be squared by default. Set 'square_distances'=True to silence this warning.\n",
      "  warnings.warn(\n"
     ]
    },
    {
     "data": {
      "text/html": [
       "\n",
       "<link rel=\"stylesheet\" type=\"text/css\" href=\"https://cdn.jsdelivr.net/gh/bmabey/pyLDAvis@3.3.1/pyLDAvis/js/ldavis.v1.0.0.css\">\n",
       "\n",
       "\n",
       "<div id=\"ldavis_el11712172027917382464463379\"></div>\n",
       "<script type=\"text/javascript\">\n",
       "\n",
       "var ldavis_el11712172027917382464463379_data = {\"mdsDat\": {\"x\": [-108.958251953125, 186.487060546875, 19.245832443237305, 170.65882873535156, -1.3864107131958008, -145.8000946044922, 64.83454132080078, -196.90603637695312], \"y\": [-208.9414825439453, -98.1032485961914, 160.85877990722656, 75.44507598876953, -35.043739318847656, 106.94461059570312, -221.8252716064453, -58.99091339111328], \"topics\": [1, 2, 3, 4, 5, 6, 7, 8], \"cluster\": [1, 1, 1, 1, 1, 1, 1, 1], \"Freq\": [50.521462975695385, 27.125992655065197, 9.86144702338035, 3.1654142561488325, 2.7179506083238687, 2.447824262267076, 2.14136758385783, 2.0185406352614566]}, \"tinfo\": {\"Term\": [\"div\", \"1\", \"error\", \"git\", \"c#\", \"string\", \"import\", \"array\", \"list\", \"0\", \"2\", \"3\", \"var\", \"class\", \"file\", \"compil\", \"input\", \"tabl\", \"public\", \"npm\", \"python\", \"view\", \"return\", \"x\", \"modul\", \"valu\", \"object\", \"element\", \"branch\", \"number\", \"react\", \"fragment\", \"chrome\", \"ajax\", \"tab\", \"angularj\", \"bower\", \"docker\", \"curl\", \"maven\", \"jsx\", \"keyboard\", \"hide\", \"facebook\", \"load\", \"encod\", \"myapp\", \"navig\", \"powershel\", \"ii\", \"screen\", \"unicod\", \"escap\", \"enabl\", \"batch\", \"captur\", \"shell\", \"cursor\", \"bottom\", \"horizont\", \"browser\", \"web\", \"xcode\", \"jqueri\", \"googl\", \"instal\", \"dialog\", \"page\", \"imag\", \"port\", \"render\", \"servic\", \"control\", \"window\", \"script\", \"studio\", \"applic\", \"compon\", \"header\", \"background\", \"packag\", \"text\", \"app\", \"button\", \"android\", \"librari\", \"html\", \"run\", \"request\", \"use\", \"version\", \"file\", \"im\", \"command\", \"tri\", \"code\", \"error\", \"work\", \"user\", \"like\", \"function\", \"get\", \"line\", \"ive\", \"find\", \"would\", \"know\", \"way\", \"want\", \"c#\", \"set\", \"need\", \"differ\", \"one\", \"make\", \"seem\", \"follow\", \"exampl\", \"git\", \"branch\", \"master\", \"merg\", \"commit\", \"join\", \"datetim\", \"clone\", \"checkout\", \"stash\", \"csv\", \"rebas\", \"svn\", \"struct\", \"diff\", \"submodul\", \"gitignor\", \"obj\", \"mb\", \"stage\", \"revert\", \"bean\", \"migrat\", \"undo\", \"linq\", \"originmast\", \"untrack\", \"patch\", \"repo\", \"mainstr\", \"repositori\", \"lambda\", \"timestamp\", \"push\", \"mysql\", \"date\", \"public\", \"pull\", \"remot\", \"tabl\", \"privat\", \"object\", \"constructor\", \"class\", \"static\", \"void\", \"databas\", \"sql\", \"reset\", \"null\", \"delet\", \"method\", \"key\", \"column\", \"queri\", \"valu\", \"new\", \"java\", \"string\", \"chang\", \"creat\", \"use\", \"get\", \"return\", \"like\", \"want\", \"way\", \"file\", \"differ\", \"int\", \"one\", \"name\", \"type\", \"c#\", \"would\", \"im\", \"work\", \"tri\", \"code\", \"tupl\", \"000\", \"pip\", \"datat\", \"psql\", \"conda\", \"col\", \"var2\", \"var1\", \"xarg\", \"forint\", \"shuffl\", \"alphanumer\", \"cmp\", \"pypi\", \"alphabet\", \"ffmpeg\", \"t2\", \"ptr\", \"nsdate\", \"maxlength\", \"nan\", \"postgr\", \"jest\", \"dict\", \"jack\", \"t1\", \"ansibl\", \"1993\", \"avg\", \"errorerror\", \"item1\", \"array\", \"\\u2022\", \"dictionari\", \"str\", \"grep\", \"n\", \"count\", \"400\", \"arr\", \"loop\", \"iter\", \"84\", \"1\", \"char\", \"3\", \"2\", \"4\", \"sort\", \"sum\", \"0\", \"list\", \"5\", \"item\", \"j\", \"index\", \"6\", \"group\", \"print\", \"number\", \"string\", \"python\", \"10\", \"return\", \"var\", \"b\", \"valu\", \"x\", \"element\", \"function\", \"way\", \"like\", \"int\", \"want\", \"name\", \"debug1\", \"502\", \"lia\", \"classbtn\", \"ul\", \"jackson\", \"pycharm\", \"uitableviewcel\", \"rgba0\", \"ie11\", \"overflowx\", \"overlay\", \"transactionscop\", \"requireexpress\", \"iflutt\", \"20140313\", \"dolor\", \"escal\", \"irnadmin\", \"ipsum\", \"classrow\", \"ngclick\", \"autoload\", \"bbb\", \"classcontain\", \"14650\", \"httpsbowerherokuappcompackag\", \"datadismissmod\", \"enlist\", \"20px\", \"div\", \"modalcontain\", \"navbar\", \"li\", \"httpbowerherokuappcom\", \"tr\", \"einvr\", \"lorem\", \"modalwindow\", \"httpsjsfiddlenetdh9k18k02\", \"td\", \"1px\", \"10px\", \"ccc\", \"height\", \"canva\", \"center\", \"modal\", \"tbodi\", \"width\", \"img\", \"scroll\", \"flex\", \"ie10\", \"bootstrap\", \"vertic\", \"cell\", \"transact\", \"span\", \"pad\", \"c#\", \"align\", \"top\", \"0\", \"content\", \"column\", \"css\", \"tabl\", \"left\", \"row\", \"html\", \"element\", \"var\", \"dex\", \"aout\", \"photofil\", \"artruntimeruntimecc422\", \"kwarg\", \"aart\", \"svg\", \"unzip\", \"0125\", \"050549917\", \"photouri\", \"recompil\", \"fileprovid\", \"targetframeworknet46\", \"errorandroidruntime3896\", \"uiscrollview\", \"filespath\", \"wsystemerr\", \"androidgranturipermissionstru\", \"mulsd\", \"buildlibmacosx109intel27psycopg2test\", \"requesttakephoto\", \"unresolv\", \"comexamplemarekmyapplicationmainactivity1onclickmainactivityjava35\", \"comexamplemarekmyappl\", \"compilesdkvers\", \"ext\", \"comexamplemarekmyapplicationmainactivityaccess100mainactivityjava22\", \"infocod\", \"6747\", \"takepictureintentresolveactivitygetpackagemanag\", \"androidresourcexmlfilepath\", \"fileprovidergeturiforfilethi\", \"bitmap\", \"httpclient\", \"clock\", \"pathimag\", \"takepictureintentputextramediastoreextraoutput\", \"gem\", \"redi\", \"camera\", \"gcc\", \"recyclerview\", \"imageview\", \"byte\", \"makefil\", \"zip\", \"compil\", \"uptod\", \"clang\", \"error\", \"configur\", \"depend\", \"info\", \"pdf\", \"fail\", \"transit\", \"c#\", \"g\", \"main\", \"file\", \"null\", \"int\", \"includ\", \"new\", \"path\", \"build\", \"tri\", \"run\", \"plot\", \"notebook\", \"matplotlib\", \"createreactapp\", \"babelload\", \"jupyt\", \"jupyterlab\", \"legend\", \"subplot\", \"ipython\", \"babel\", \"ts2304\", \"matplotlibpyplot\", \"pathresolvedirnam\", \"reactrenderh1hello\", \"worldh1documentgetelementbyidapp\", \"axi\", \"tick\", \"firebas\", \"landscap\", \"babelcor\", \"lodash\", \"keystor\", \"2385\", \"plt\", \"portrait\", \"appmainj\", \"webpackhotdevserverpathresolvedirnam\", \"axe\", \"parserpprais\", \"1121\", \"npx\", \"font\", \"shape\", \"fork\", \"27\", \"loader\", \"import\", \"pytorch\", \"notif\", \"webpack\", \"model\", \"requirereact\", \"label\", \"none\", \"modul\", \"var\", \"django\", \"color\", \"titl\", \"error\", \"param\", \"item\", \"15\", \"js\", \"new\", \"path\", \"err\", \"swift\", \"gyp\", \"uitextfield\", \"tooltip\", \"r1\", \"r2\", \"placehold\", \"asyncprotocolrequest\", \"asyncrequest\", \"0517\", \"colour\", \"errorwindowmanager18850\", \"182457069\", \"impl\", \"nnconv2d3\", \"devmast\", \"nnconv2d6\", \"objc\", \"xview1\", \"uint\", \"freluselffc1x\", \"nnlinear1655\", \"loginfrag\", \"tensorvariableview1\", \"rawinput\", \"freluselffc2x\", \"goinstal\", \"selffc2\", \"duck\", \"1655\", \"netnnmodul\", \"selfconv2\", \"supernet\", \"nnmaxpool2d22\", \"selfpoolfreluselfconv2x\", \"tensorview\", \"nnlinear120\", \"forwardself\", \"selfpool\", \"objectivec\", \"workspac\", \"intellij\", \"npm\", \"int32\", \"func\", \"border\", \"typecheckbox\", \"self\", \"eclips\", \"input\", \"view\", \"uibutton\", \"x\", \"typetext\", \"unit\", \"solid\", \"appl\", \"def\", \"weak\", \"field\", \"happen\", \"confus\", \"void\", \"string\", \"code\", \"net\", \"node\", \"ifram\", \"edittext\", \"androidlayoutwidthfillpar\", \"androidlayoutheightwrapcont\", \"eandroidruntime22815\", \"0417\", \"161228890\", \"androidlayoutheightfillpar\", \"pod\", \"androidorientationvert\", \"idebug4008\", \"0303\", \"androidlayoutwidthwrapcont\", \"020239054\", \"scrollview\", \"tablerow\", \"28aug2008\", \"xmlelementelementnam\", \"20110717\", \"singleton\", \"bitcod\", \"nsurl\", \"020238914\", \"1727\", \"601\", \"layoutinflat\", \"moos\", \"qword\", \"androidlayoutheight0dp\", \"microservic\", \"relativelayout\", \"androidlayoutwidthmatchpar\", \"linearlayout\", \"textview\", \"000568\", \"androidlayoutheightmatchpar\", \"xmlnsandroidhttpschemasandroidcomapkresandroid\", \"stub\", \"undefin\", \"player\", \"xml\", \"layout\", \"listview\", \"overrid\", \"android\", \"1\"], \"Freq\": [1704.0, 3369.0, 4035.0, 3328.0, 4434.0, 4479.0, 1410.0, 1853.0, 2430.0, 2482.0, 2375.0, 1603.0, 2064.0, 3227.0, 6725.0, 901.0, 1059.0, 1613.0, 2177.0, 621.0, 2273.0, 1095.0, 3380.0, 1497.0, 782.0, 3233.0, 2725.0, 1628.0, 1432.0, 1509.0, 510.9683048335289, 262.18079730094377, 436.86051354866925, 288.2857482287679, 314.8484843043564, 210.56275435447145, 197.62006852287527, 597.3443029062089, 196.2108754921221, 191.28442834102725, 162.3584226336858, 160.64459709002773, 144.1474441439592, 144.6016826232305, 839.8935520168304, 297.69460870824435, 138.84800503987518, 197.0657552661506, 131.83400585107142, 119.18863183737406, 398.4065129611928, 117.06533108753177, 148.1732954094193, 236.82595895966472, 118.97930896939043, 109.78547261093458, 377.27725110145707, 107.35441459386902, 257.63776824895126, 114.46306912730235, 671.0278030589641, 750.6617083518134, 596.0976346593804, 980.3863858228664, 603.9129035629023, 1942.9451850817154, 194.50955322942264, 1318.58994237147, 1215.3854381719084, 311.9858025069071, 334.4938130648806, 596.0481499117459, 733.5478288949666, 1121.4061097963488, 1461.3554599513463, 680.5258758908456, 1358.5047238665793, 566.9664238107345, 547.311745347958, 432.54573886640463, 833.7244363507685, 1432.9481091825073, 1159.0173325549642, 849.0034171885477, 1012.0241208706447, 770.5883329871531, 935.7734265773763, 2325.5923835095823, 1084.1573018894494, 9194.200687328303, 1453.9797797551662, 4610.591606074507, 3481.7519857294064, 1600.726824517046, 3053.3270935091914, 3039.252234526126, 2789.9881883399376, 2956.1225670820522, 1390.3467536362982, 3395.9102854586, 2425.3507786535033, 3323.9043702473127, 1751.9807369815205, 1600.6130282865495, 1656.2229509179065, 2364.3794933347676, 1733.331532449069, 2680.248273515191, 2578.9708774947508, 2434.515954774768, 1863.851187392131, 1830.1498012517611, 1943.4513660921973, 1953.1814416561435, 1539.7887928968537, 1445.086110522169, 1521.001712008949, 1473.6417721558255, 3326.076230764469, 1431.6660911995077, 556.9798317515066, 581.2649453706468, 1436.7343581036805, 373.3523829504803, 346.86974131763327, 327.86281035676353, 230.61970919634769, 170.04965452850524, 156.43322887201325, 155.78750561751812, 147.57661671406993, 189.2060691449557, 192.32471647295327, 125.67245323842505, 120.1020313632714, 145.34741637850814, 94.56854397759969, 131.97362046430274, 107.65347339813052, 83.59249772795717, 121.48252112539498, 77.80126217680208, 163.13072888363385, 77.8490747781408, 66.63402012695002, 63.126870941869036, 298.67013075479207, 74.47357044201765, 855.04455621159, 155.21152431071337, 136.36568363333504, 605.3769839598023, 707.779277437031, 948.962590461024, 1991.7337863245364, 444.7155075467768, 608.6648695976552, 1430.0548534864568, 660.4402529310537, 2258.032100540552, 293.8566999755337, 2423.533699435452, 684.2105356359525, 723.9841485608623, 810.286991154749, 733.7159265818518, 296.99823771539167, 945.611739975672, 653.7434861950048, 1661.0681998252394, 934.5897184731505, 831.9714654503615, 619.191152445411, 1762.7981433467796, 1903.0927063051042, 1065.917178855072, 2041.337074302629, 1418.7897856323486, 1378.814231738035, 3783.177888254173, 2102.3260649111057, 1473.4919134036368, 1857.084478557825, 1646.592966959454, 1696.1607389136188, 1929.0760746688904, 1334.4413189878906, 902.5117600580414, 1315.0859586699712, 1162.3469489502731, 1063.1704267935932, 1343.8395614573712, 1239.5071117187244, 1323.5159434217433, 1278.657359057152, 1178.9117834790616, 1144.3871839945314, 112.25825879849681, 239.6748001784456, 212.11339398784963, 59.70662328340596, 73.3199647117973, 48.05837845334104, 52.801016302689234, 34.74958649228988, 37.01471495909676, 38.6803103686418, 33.49252381197022, 25.67096448073822, 22.070452656562196, 27.394659399569516, 21.448280501776296, 21.770955291597495, 55.053049759420325, 21.441985050974495, 80.1708373112365, 18.914995302357184, 19.411114350985994, 178.861915634482, 104.3878572931, 20.922379387940328, 126.35831991424014, 18.16534787070104, 19.40057129836413, 18.65308754645807, 16.289108219086184, 18.353340813732558, 62.17963533205076, 25.66715940434324, 1625.7748840358263, 25.964911690813885, 347.5341033184375, 191.42689180754957, 196.75898271752874, 495.80211794383115, 388.6296891271661, 80.65129402272107, 59.0098697875625, 585.9162034212457, 379.8775751235469, 42.658238801553836, 2300.709819335067, 216.68536612902477, 1098.2714361700475, 1461.1369264886628, 608.8630904858031, 360.8053845732013, 111.60477606480313, 1464.2551571622012, 1376.8372247264426, 591.0783606276201, 600.7124552923163, 112.5779585329533, 394.99353526466746, 309.59451725629935, 247.1440546320387, 506.12066602385397, 651.4241091522122, 1388.5200134757467, 774.8367066037894, 345.4220728894382, 771.9618946310813, 580.7759804377437, 391.62100305905085, 612.2163307327901, 439.0193221632818, 446.89740693213554, 606.3757778371431, 564.128091309502, 585.8552211146676, 390.64347980543783, 422.5015858173753, 393.4318686052385, 116.64196265267957, 77.03374626699527, 48.11952322585344, 31.82386969537931, 141.50191976217724, 23.69659873887989, 21.984963640752788, 19.99261239644679, 28.160154714588327, 26.67437378550691, 27.19728319619168, 17.089033760981756, 17.4139556062595, 15.738705015187495, 16.768944801090505, 17.338953125874202, 17.08262321104326, 14.548592934263059, 32.40877201738994, 36.20491751059952, 22.161188884640985, 14.139518440529914, 13.090422793795645, 13.732586276671064, 23.399612338933476, 15.71697663038006, 24.7432272298161, 12.150470074777623, 12.812400813273133, 15.389190446596182, 1564.1398978574252, 72.61326012511184, 26.2969983665085, 141.77524581800324, 24.653827888068808, 123.51798570795319, 47.73381448724414, 27.090146227096643, 47.282984872751314, 24.441434720171387, 90.68831603185352, 67.80469056147608, 57.67186033438128, 38.5432731302251, 295.5380753469289, 48.66147553423858, 265.636835520407, 197.43062425596045, 32.75961473298368, 220.73119583707924, 87.7791674626628, 178.17933487731398, 73.59446774068469, 67.40519661360055, 96.79141875241626, 88.85499102415604, 76.19365186915566, 68.29590095983028, 75.16859236857329, 72.31455601264179, 324.0011935150843, 62.40485528856898, 100.68717445426277, 194.8521704547944, 116.9014672818011, 119.8812702673564, 102.10547664306323, 111.10282523065379, 83.01551471705228, 88.08470534479797, 89.26298016803068, 89.15166028335146, 74.90406211034575, 24.457789958026336, 22.207426672064397, 92.07092147373017, 22.703976259381466, 37.010490714273985, 23.345290710314195, 70.95762616806908, 17.34775799188352, 27.953056519104273, 25.396082780439155, 45.710679755577544, 17.547399450246374, 45.71289771524689, 39.388652234542086, 25.994587265050733, 15.467365889544753, 23.23917535179516, 20.8499404721282, 23.211307715257213, 14.377459675235825, 17.066475589470624, 23.105580708762204, 14.29518809976843, 23.080663452667174, 23.07430779890433, 13.013529044920618, 12.956409656948095, 22.994826571214414, 22.98747999047295, 22.998106156795547, 22.9712479280818, 22.932799985890824, 22.931276396840467, 52.17575004634876, 49.64924570881761, 29.808799881817812, 22.92768114806358, 22.921454755214036, 87.13453822423872, 44.08917678762155, 51.897141915297944, 85.36584181652383, 42.71244464535056, 51.83456249081306, 151.3796106493294, 45.84652470216831, 52.035656034875124, 218.34320112790405, 48.244005259598424, 27.79222332658601, 248.60530438475774, 103.76055253319802, 107.3254102856296, 69.45334841185597, 40.02343657933209, 97.14084820418958, 33.89556672146329, 129.80910211095681, 51.04770787607061, 64.73263654626028, 116.8712361877955, 74.76952649913427, 69.5677543422437, 57.132318424905094, 67.97433974990557, 54.79782684439085, 50.68285038439817, 53.456218733874564, 47.177554224055186, 107.32250526318619, 97.9571451360067, 76.66308489264229, 74.86906761155454, 87.10178451418356, 80.88160278197664, 42.94033052403437, 38.460948141378424, 27.200383025022493, 32.003268334759916, 30.82334153767721, 31.182286408027053, 24.438096933672504, 26.150249225356834, 42.69519733141639, 42.6756524820527, 41.798206173593414, 27.9423556212422, 24.810556395355352, 22.056531353794398, 22.813256079696895, 26.01320174668736, 24.867183510110557, 42.481640677949216, 18.47874769316009, 21.586944450275446, 83.95178017398688, 21.409006054270154, 16.337641729111553, 21.398873172640307, 21.390268462677955, 62.00522806569495, 104.4005258173094, 61.87805954825114, 57.300269003006015, 80.34414105204495, 59.09981841383368, 429.62552516526347, 48.7591203221746, 59.90853633826255, 65.86917458646538, 118.58666392378454, 37.95978402283474, 70.49000245599775, 118.18498868912783, 138.3576160172734, 136.839503163326, 56.97813184766311, 67.57969147542778, 57.31408460208975, 79.70165730051602, 48.51055030408095, 52.51659472663329, 46.63539646331264, 46.8150705536177, 51.13186724314976, 47.94609325265613, 246.64705020251017, 263.87289385695, 41.223518968033986, 27.686249850898978, 20.29408260726602, 18.06848593094958, 17.4876896480761, 45.21596896047563, 19.6397613885288, 19.58551322555561, 16.21239585145012, 30.976950874287244, 16.18482203424977, 16.16249356326037, 12.55358716802055, 21.58753045718429, 11.1309804691619, 21.560924289769723, 10.305509977201416, 42.47207562946214, 11.254761270163922, 21.49176138950697, 21.458102054899406, 10.059881639472541, 21.45300983799832, 9.382154121208286, 21.429030236908055, 11.996930264538594, 21.419785034418954, 9.3466686560372, 42.20204001629076, 21.425365829290598, 21.39287136560342, 21.379558042689904, 21.359963028609094, 21.37222970057147, 21.3558240298367, 21.298350840108103, 21.269660300430314, 21.178249463411685, 63.92761315794896, 27.6521648610979, 97.09392913940502, 296.9920996369189, 27.829105065768676, 46.110184141363256, 70.50949625181086, 27.87381165932503, 54.979834089399674, 79.59282862991458, 139.3482334998906, 110.31671170680774, 26.50588787704646, 105.81694578258865, 37.15344689819319, 39.62840717822763, 30.936270338931664, 29.054487630687284, 37.91198655482482, 23.294185290360424, 38.629415151579686, 35.72647457159065, 30.625281627619714, 32.49153672911554, 31.898826079214274, 31.048667691719704, 29.279776442376853, 28.07835684687772, 85.13770069114148, 116.53033780171633, 59.648670050541355, 95.57742019033473, 33.98345057481817, 33.97810180240507, 33.95555048876267, 26.11238642633603, 55.12416705680351, 28.703506099994858, 44.70485023917735, 69.24244653577668, 52.351673681619246, 30.77157754623136, 37.19697960422292, 16.141685751583847, 15.803893354960566, 19.471432759939937, 15.378625348547143, 60.132069245064564, 12.643541714159738, 12.779379527460282, 17.53160569484623, 11.206622485806202, 10.25815480173951, 10.093416105627554, 30.943182067439977, 19.02713362293352, 10.052721419988764, 10.770182874727594, 27.489286316051466, 33.27458552348245, 102.06354343073309, 153.09890230500147, 17.179529441286164, 15.127074903942935, 26.164099131766466, 22.618316985046622, 65.70275072617096, 32.40543761466351, 51.53642389588111, 45.642264162409404, 27.89648236265966, 43.77540084223933, 29.69941051149915, 23.664850641896912], \"Total\": [1704.0, 3369.0, 4035.0, 3328.0, 4434.0, 4479.0, 1410.0, 1853.0, 2430.0, 2482.0, 2375.0, 1603.0, 2064.0, 3227.0, 6725.0, 901.0, 1059.0, 1613.0, 2177.0, 621.0, 2273.0, 1095.0, 3380.0, 1497.0, 782.0, 3233.0, 2725.0, 1628.0, 1432.0, 1509.0, 511.7430046852435, 262.9141179503789, 438.0857889025914, 289.1559689436085, 315.8934498597331, 211.32587267298317, 198.3487415865976, 599.6428840321736, 197.0099210637024, 192.08789872530502, 163.07796987702147, 161.43095987260577, 144.86800457608092, 145.3415059587208, 844.3428930476515, 299.2780748563104, 139.60340576836117, 198.15490620297868, 132.60634652910167, 119.9046444955789, 400.8073501893699, 117.77703259688951, 149.09405220253393, 238.3270571168588, 119.74452086482054, 110.50211391995909, 379.74569736293085, 108.06708844144721, 259.47412145184836, 115.28861083957005, 678.3657604462551, 760.630092454874, 603.195273849493, 997.8720818948331, 612.8829307967897, 1997.1086647438572, 195.91804406788955, 1367.0852329651068, 1265.8648725325527, 316.4430043285475, 340.01464812417123, 613.4440873266344, 758.432377059643, 1170.1879651244283, 1540.5611661654916, 704.375067560944, 1440.05078009193, 585.8085644404122, 565.0348870486553, 443.3595586321959, 873.0735062854164, 1548.312250635066, 1256.6485966134298, 908.6997247664947, 1098.5779610514899, 822.435780240117, 1026.5068657659479, 2799.2596558620075, 1221.0461653272532, 13299.863862387861, 1747.120465191444, 6725.957408190065, 4905.257899508989, 2024.9962455213142, 4481.518878237543, 4481.551972810174, 4035.655484011546, 4376.652390668092, 1765.4745349807818, 5869.384104794587, 3775.936082469377, 5880.744028045759, 2466.49684712687, 2177.1608437602563, 2290.3278176864255, 3859.1951743846075, 2526.2801776780843, 4949.1568931317815, 4663.805284342811, 4434.089578493046, 2867.5689274260244, 2882.5421281766157, 3326.355092683798, 3560.3042580764536, 2183.767461115983, 1973.5447224955078, 2782.8198632619924, 2750.916517395224, 3328.1027630128738, 1432.7012182348044, 557.8774516598118, 582.2089092335189, 1439.2692999466367, 374.2337717897006, 347.87071519915065, 329.00846132349614, 231.49574802382017, 170.7841038519451, 157.1606050805044, 156.5173647958859, 148.3399582292551, 190.26753076374314, 193.41187911217813, 126.40706505800573, 120.84108484578728, 146.35942132420502, 95.31720144499873, 133.0451904322662, 108.53292776425045, 84.32291973756509, 122.58210173030284, 78.52002555088379, 164.64251284437674, 78.58121477678617, 67.34050277638858, 63.833447370786196, 302.1380269614686, 75.3856679225883, 875.5863759436206, 157.12210196434611, 138.54508466758287, 634.571036299414, 747.8372815156714, 1012.2961484408405, 2177.097405649996, 471.2124027475007, 655.4848631001124, 1613.07001681306, 725.489564718423, 2725.828693521742, 314.8995872034141, 3227.1120508644235, 806.9636617132469, 864.2471902510044, 985.3914333026187, 899.020536692412, 328.1250576425449, 1263.924610501513, 850.7493234253908, 2730.8465402647657, 1362.293563550624, 1213.8471424809593, 827.1389473083574, 3233.6388007802097, 3588.6885302667097, 1682.2505897317176, 4479.359381775027, 2722.671766948127, 2741.9672568570527, 13299.863862387861, 5880.744028045759, 3380.1928903861917, 5869.384104794587, 4663.805284342811, 4949.1568931317815, 6725.957408190065, 3326.355092683798, 1443.6502559533783, 3560.3042580764536, 2710.544005104083, 2243.4800370949474, 4434.089578493046, 3859.1951743846075, 4905.257899508989, 4376.652390668092, 4481.518878237543, 4481.551972810174, 112.97220994809402, 241.71928369434062, 214.56557210885052, 60.453318817409055, 74.35822484489952, 48.78178166529755, 53.698443635020105, 35.457364328559166, 37.78641841551603, 39.50162662283728, 34.24860091388589, 26.435985170533275, 22.77759952255993, 28.276379422570344, 22.15291891097939, 22.5130028913929, 57.09910805034526, 22.24928230120572, 83.1946072374093, 19.649532420219867, 20.16985371950675, 186.0925222861833, 108.67030489101582, 21.796045146210293, 131.65173971038837, 18.93309676111225, 20.236148598173497, 19.480317453455854, 17.019760746076095, 19.184958707493777, 65.13605314415528, 26.861784843713632, 1853.2894510304666, 27.250052562082974, 385.6900454733898, 209.58686028146485, 218.85942743366684, 579.696015911908, 450.01008019319715, 88.2476443127179, 64.15950536427081, 733.3027458322322, 467.66335687743845, 45.782025878792766, 3369.0290720843973, 263.4378048819644, 1603.8443141540454, 2375.7512030931116, 904.4776125299461, 501.38171068947975, 132.2821198207468, 2482.9814485535476, 2430.6523884877115, 934.6191644123174, 963.8077775085816, 135.32929473085326, 641.4798617768259, 474.3994034522891, 367.35928218304025, 958.7979171252119, 1509.242119674943, 4479.359381775027, 2273.6108765003823, 786.6293372389223, 3380.1928903861917, 2064.476209941872, 1096.3815050473177, 3233.6388007802097, 1497.6318852377997, 1628.94251024097, 3775.936082469377, 4949.1568931317815, 5869.384104794587, 1443.6502559533783, 4663.805284342811, 2710.544005104083, 118.15927426305797, 78.18856132317262, 48.92261853212976, 32.64054409223245, 145.70577013551315, 24.527904724057823, 22.77332121015231, 20.750703393321036, 29.24086508643544, 27.730036361356106, 28.369111296132562, 17.830908586954372, 18.24381747908183, 16.507812069139565, 17.59469424734843, 18.199427100597116, 17.952337469142226, 15.297098953712341, 34.14439526682494, 38.15163656981816, 23.37567836661702, 14.922727598530953, 13.81575190869191, 14.497749884151132, 24.721456329161697, 16.63519347497143, 26.20869430140451, 12.911958749836105, 13.622141346554265, 16.368624078678923, 1704.5628544113838, 77.23977999819279, 27.97405133387104, 153.70320790428363, 26.226713757511302, 137.27152373185658, 51.946882409790256, 29.064545919767266, 52.00496428924872, 26.257843578870116, 106.61681232213584, 78.63786596137999, 66.70539109810169, 44.075667309359844, 440.35360969935783, 57.333232615133035, 403.4918431912406, 289.08920474955596, 36.941149212658274, 445.4249938400187, 137.4116192381343, 411.54192166367864, 119.57341458466695, 110.92130066744998, 215.0816133874389, 195.524163223016, 162.05414151607556, 134.93326456271313, 164.07512119602026, 162.21966111136885, 4434.089578493046, 126.23820739409643, 408.159691628158, 2482.9814485535476, 859.9509802431257, 1213.8471424809593, 744.4663240455402, 1613.07001681306, 378.3340804959708, 765.643935530762, 1026.5068657659479, 1628.94251024097, 2064.476209941872, 25.198756232297036, 22.942470685616282, 95.11927614980418, 23.50858269842896, 38.333096258105186, 24.202613093876515, 73.5704993691949, 18.101556090809837, 29.265905089685795, 26.60363202215627, 47.92097051593079, 18.398033357807712, 47.94823091320141, 41.31852948059901, 27.274058109715043, 16.23185948337534, 24.396072536191312, 21.918577970656173, 24.405245880706634, 15.131747609009144, 17.96287178397528, 24.387871549550937, 15.094727706153218, 24.384178135244085, 24.40691328562158, 13.773999922680883, 13.725535877748547, 24.37906655624371, 24.372232277423684, 24.394702771881402, 24.39545603266738, 24.375616565735257, 24.38611172631439, 56.64332390583947, 54.34906350956697, 32.032770399757, 24.382959608501828, 24.397546552823897, 104.15876563857938, 52.26594335533809, 63.8103483191102, 116.50863815404, 51.45926565199355, 68.92408727350023, 287.2775671290468, 62.53513135369513, 75.59192476421487, 901.1762784824036, 79.80252834525474, 34.62648398063486, 4035.655484011546, 644.7383687162591, 717.7739442742359, 286.9606545342938, 86.18117323261121, 940.1759224395101, 62.35052726435296, 4434.089578493046, 234.74629942437863, 690.3850607997352, 6725.957408190065, 1263.924610501513, 1443.6502559533783, 940.2128781595309, 3588.6885302667097, 929.3916153559269, 918.0072316606689, 4481.518878237543, 2799.2596558620075, 108.12760650112862, 98.76404688320612, 77.44656937820385, 75.76884296102865, 88.32807743218378, 82.25388423133563, 43.908889462586, 39.32882423152565, 27.96502265288966, 32.908934464406144, 31.73100335251251, 32.10085535098285, 25.181354326098177, 26.94868586961063, 44.01566668969451, 44.02367436641406, 43.14045492683549, 28.842145081427248, 25.665486751421852, 22.845085012016355, 23.630348343673518, 26.981039615867868, 25.819095294704088, 44.123489930555024, 19.222581352786403, 22.507155843914877, 87.78521671074006, 22.411188245997877, 17.11412008901309, 22.416220315897892, 22.419826413868574, 68.25951296095788, 126.74405484406753, 73.14809790156299, 76.29787230432879, 117.60485578509225, 85.02237281045892, 1410.9304098878924, 71.41080676891042, 99.85008003929953, 126.27435323204281, 430.3826957800361, 54.69752406144817, 180.17727624867882, 519.4025313353732, 782.6242596395871, 2064.476209941872, 241.76692471841454, 458.7688081166937, 310.1953953183189, 4035.655484011546, 181.0668477270385, 963.8077775085816, 206.8097131662526, 278.0717014408827, 3588.6885302667097, 929.3916153559269, 247.45045208508793, 265.99400600863436, 42.004693814668975, 28.441689899455714, 21.07290197860514, 18.830022489647625, 18.23816177765438, 47.20970439895369, 20.5848293299975, 20.607700822060384, 17.145027821826226, 32.76652390342931, 17.14443245834179, 17.1439797348366, 13.357090738252356, 23.099906223023616, 11.918589270835318, 23.113256892327456, 11.05100641252986, 45.63326833206193, 12.113318178218837, 23.14874110290857, 23.125411312857324, 10.84245395423505, 23.144489593207375, 10.131240827777093, 23.145723291527183, 12.96408406048586, 23.152894178225125, 10.10381558081123, 45.75664695509217, 23.176616148833432, 23.154226771310526, 23.188041576921695, 23.167851872583352, 23.18889063246735, 23.19087927146454, 23.219616373109403, 23.224495814387346, 23.237343205405622, 81.67126723125067, 31.56689903206216, 135.654256124902, 621.330363087794, 34.684687320666114, 80.69863696147465, 173.08809354768616, 38.45582532454461, 140.59762444821754, 337.49269078110115, 1059.6363206617893, 1095.6969275055085, 39.52358951340557, 1497.6318852377997, 110.5579757518619, 145.904618294363, 83.10361408049515, 103.51757904162304, 508.4387355377299, 35.74887374929842, 798.2617310834646, 559.7731968966499, 367.13110548673905, 864.2471902510044, 4479.359381775027, 4481.551972810174, 490.18856189182446, 416.627741828959, 85.97567232127312, 118.01144595393694, 60.55016354933287, 97.76108613186861, 34.98987862956358, 34.987712764546615, 34.98527387179461, 27.011228336478865, 57.053007157919915, 29.75696258952821, 46.34908529048067, 71.99233935476146, 54.513163554792655, 32.12492335091567, 38.86295786362025, 16.931879076526908, 16.593407560601854, 20.47355803109712, 16.180598799676957, 63.378186552248515, 13.398431546202238, 13.560186569018022, 18.610124560583056, 11.993876017652928, 11.006250852578788, 10.847782961914216, 33.299729270287926, 20.526471595989385, 10.848634542948245, 11.635394539915744, 29.80433671491227, 36.37861429671191, 115.12520905718291, 177.39559933005063, 18.69942982279598, 17.145689256864117, 39.6662600275105, 34.60909452938812, 240.84762460066796, 70.81155584882657, 373.2615748882911, 275.5773025896026, 76.02946232674756, 368.9960688595839, 1098.5779610514899, 3369.0290720843973], \"Category\": [\"Default\", \"Default\", \"Default\", \"Default\", \"Default\", \"Default\", \"Default\", \"Default\", \"Default\", \"Default\", \"Default\", \"Default\", \"Default\", \"Default\", \"Default\", \"Default\", \"Default\", \"Default\", \"Default\", \"Default\", \"Default\", \"Default\", \"Default\", \"Default\", \"Default\", \"Default\", \"Default\", \"Default\", \"Default\", \"Default\", \"Topic1\", \"Topic1\", \"Topic1\", \"Topic1\", \"Topic1\", \"Topic1\", \"Topic1\", \"Topic1\", \"Topic1\", \"Topic1\", \"Topic1\", \"Topic1\", \"Topic1\", \"Topic1\", \"Topic1\", \"Topic1\", \"Topic1\", \"Topic1\", \"Topic1\", \"Topic1\", \"Topic1\", \"Topic1\", \"Topic1\", \"Topic1\", \"Topic1\", \"Topic1\", \"Topic1\", \"Topic1\", \"Topic1\", \"Topic1\", \"Topic1\", \"Topic1\", \"Topic1\", \"Topic1\", \"Topic1\", \"Topic1\", \"Topic1\", \"Topic1\", \"Topic1\", \"Topic1\", \"Topic1\", \"Topic1\", \"Topic1\", \"Topic1\", \"Topic1\", \"Topic1\", \"Topic1\", \"Topic1\", \"Topic1\", \"Topic1\", \"Topic1\", \"Topic1\", \"Topic1\", \"Topic1\", \"Topic1\", \"Topic1\", \"Topic1\", \"Topic1\", \"Topic1\", \"Topic1\", \"Topic1\", \"Topic1\", \"Topic1\", \"Topic1\", \"Topic1\", \"Topic1\", \"Topic1\", \"Topic1\", \"Topic1\", \"Topic1\", \"Topic1\", \"Topic1\", \"Topic1\", \"Topic1\", \"Topic1\", \"Topic1\", \"Topic1\", \"Topic1\", \"Topic1\", \"Topic1\", \"Topic1\", \"Topic1\", \"Topic1\", \"Topic1\", \"Topic1\", \"Topic1\", \"Topic1\", \"Topic1\", \"Topic2\", \"Topic2\", \"Topic2\", \"Topic2\", \"Topic2\", \"Topic2\", \"Topic2\", \"Topic2\", \"Topic2\", \"Topic2\", \"Topic2\", \"Topic2\", \"Topic2\", \"Topic2\", \"Topic2\", \"Topic2\", \"Topic2\", \"Topic2\", \"Topic2\", \"Topic2\", \"Topic2\", \"Topic2\", \"Topic2\", \"Topic2\", \"Topic2\", \"Topic2\", \"Topic2\", \"Topic2\", \"Topic2\", \"Topic2\", \"Topic2\", \"Topic2\", \"Topic2\", \"Topic2\", \"Topic2\", \"Topic2\", \"Topic2\", \"Topic2\", \"Topic2\", \"Topic2\", \"Topic2\", \"Topic2\", \"Topic2\", \"Topic2\", \"Topic2\", \"Topic2\", \"Topic2\", \"Topic2\", \"Topic2\", \"Topic2\", \"Topic2\", \"Topic2\", \"Topic2\", \"Topic2\", \"Topic2\", \"Topic2\", \"Topic2\", \"Topic2\", \"Topic2\", \"Topic2\", \"Topic2\", \"Topic2\", \"Topic2\", \"Topic2\", \"Topic2\", \"Topic2\", \"Topic2\", \"Topic2\", \"Topic2\", \"Topic2\", \"Topic2\", \"Topic2\", \"Topic2\", \"Topic2\", \"Topic2\", \"Topic2\", \"Topic2\", \"Topic2\", \"Topic2\", \"Topic3\", \"Topic3\", \"Topic3\", \"Topic3\", \"Topic3\", \"Topic3\", \"Topic3\", \"Topic3\", \"Topic3\", \"Topic3\", \"Topic3\", \"Topic3\", \"Topic3\", \"Topic3\", \"Topic3\", \"Topic3\", \"Topic3\", \"Topic3\", \"Topic3\", \"Topic3\", \"Topic3\", \"Topic3\", \"Topic3\", \"Topic3\", \"Topic3\", \"Topic3\", \"Topic3\", \"Topic3\", \"Topic3\", \"Topic3\", \"Topic3\", \"Topic3\", \"Topic3\", \"Topic3\", \"Topic3\", \"Topic3\", \"Topic3\", \"Topic3\", \"Topic3\", \"Topic3\", \"Topic3\", \"Topic3\", \"Topic3\", \"Topic3\", \"Topic3\", \"Topic3\", \"Topic3\", \"Topic3\", \"Topic3\", \"Topic3\", \"Topic3\", \"Topic3\", \"Topic3\", \"Topic3\", \"Topic3\", \"Topic3\", \"Topic3\", \"Topic3\", \"Topic3\", \"Topic3\", \"Topic3\", \"Topic3\", \"Topic3\", \"Topic3\", \"Topic3\", \"Topic3\", \"Topic3\", \"Topic3\", \"Topic3\", \"Topic3\", \"Topic3\", \"Topic3\", \"Topic3\", \"Topic3\", \"Topic3\", \"Topic3\", \"Topic4\", \"Topic4\", \"Topic4\", \"Topic4\", \"Topic4\", \"Topic4\", \"Topic4\", \"Topic4\", \"Topic4\", \"Topic4\", \"Topic4\", \"Topic4\", \"Topic4\", \"Topic4\", \"Topic4\", \"Topic4\", \"Topic4\", \"Topic4\", \"Topic4\", \"Topic4\", \"Topic4\", \"Topic4\", \"Topic4\", \"Topic4\", \"Topic4\", \"Topic4\", \"Topic4\", \"Topic4\", \"Topic4\", \"Topic4\", \"Topic4\", \"Topic4\", \"Topic4\", \"Topic4\", \"Topic4\", \"Topic4\", \"Topic4\", \"Topic4\", \"Topic4\", \"Topic4\", \"Topic4\", \"Topic4\", \"Topic4\", \"Topic4\", \"Topic4\", \"Topic4\", \"Topic4\", \"Topic4\", \"Topic4\", \"Topic4\", \"Topic4\", \"Topic4\", \"Topic4\", \"Topic4\", \"Topic4\", \"Topic4\", \"Topic4\", \"Topic4\", \"Topic4\", \"Topic4\", \"Topic4\", \"Topic4\", \"Topic4\", \"Topic4\", \"Topic4\", \"Topic4\", \"Topic4\", \"Topic4\", \"Topic4\", \"Topic4\", \"Topic4\", \"Topic4\", \"Topic4\", \"Topic5\", \"Topic5\", \"Topic5\", \"Topic5\", \"Topic5\", \"Topic5\", \"Topic5\", \"Topic5\", \"Topic5\", \"Topic5\", \"Topic5\", \"Topic5\", \"Topic5\", \"Topic5\", \"Topic5\", \"Topic5\", \"Topic5\", \"Topic5\", \"Topic5\", \"Topic5\", \"Topic5\", \"Topic5\", \"Topic5\", \"Topic5\", \"Topic5\", \"Topic5\", \"Topic5\", \"Topic5\", \"Topic5\", \"Topic5\", \"Topic5\", \"Topic5\", \"Topic5\", \"Topic5\", \"Topic5\", \"Topic5\", \"Topic5\", \"Topic5\", \"Topic5\", \"Topic5\", \"Topic5\", \"Topic5\", \"Topic5\", \"Topic5\", \"Topic5\", \"Topic5\", \"Topic5\", \"Topic5\", \"Topic5\", \"Topic5\", \"Topic5\", \"Topic5\", \"Topic5\", \"Topic5\", \"Topic5\", \"Topic5\", \"Topic5\", \"Topic5\", \"Topic5\", \"Topic5\", \"Topic5\", \"Topic5\", \"Topic5\", \"Topic5\", \"Topic5\", \"Topic5\", \"Topic5\", \"Topic5\", \"Topic5\", \"Topic6\", \"Topic6\", \"Topic6\", \"Topic6\", \"Topic6\", \"Topic6\", \"Topic6\", \"Topic6\", \"Topic6\", \"Topic6\", \"Topic6\", \"Topic6\", \"Topic6\", \"Topic6\", \"Topic6\", \"Topic6\", \"Topic6\", \"Topic6\", \"Topic6\", \"Topic6\", \"Topic6\", \"Topic6\", \"Topic6\", \"Topic6\", \"Topic6\", \"Topic6\", \"Topic6\", \"Topic6\", \"Topic6\", \"Topic6\", \"Topic6\", \"Topic6\", \"Topic6\", \"Topic6\", \"Topic6\", \"Topic6\", \"Topic6\", \"Topic6\", \"Topic6\", \"Topic6\", \"Topic6\", \"Topic6\", \"Topic6\", \"Topic6\", \"Topic6\", \"Topic6\", \"Topic6\", \"Topic6\", \"Topic6\", \"Topic6\", \"Topic6\", \"Topic6\", \"Topic6\", \"Topic6\", \"Topic6\", \"Topic6\", \"Topic6\", \"Topic7\", \"Topic7\", \"Topic7\", \"Topic7\", \"Topic7\", \"Topic7\", \"Topic7\", \"Topic7\", \"Topic7\", \"Topic7\", \"Topic7\", \"Topic7\", \"Topic7\", \"Topic7\", \"Topic7\", \"Topic7\", \"Topic7\", \"Topic7\", \"Topic7\", \"Topic7\", \"Topic7\", \"Topic7\", \"Topic7\", \"Topic7\", \"Topic7\", \"Topic7\", \"Topic7\", \"Topic7\", \"Topic7\", \"Topic7\", \"Topic7\", \"Topic7\", \"Topic7\", \"Topic7\", \"Topic7\", \"Topic7\", \"Topic7\", \"Topic7\", \"Topic7\", \"Topic7\", \"Topic7\", \"Topic7\", \"Topic7\", \"Topic7\", \"Topic7\", \"Topic7\", \"Topic7\", \"Topic7\", \"Topic7\", \"Topic7\", \"Topic7\", \"Topic7\", \"Topic7\", \"Topic7\", \"Topic7\", \"Topic7\", \"Topic7\", \"Topic7\", \"Topic7\", \"Topic7\", \"Topic7\", \"Topic7\", \"Topic7\", \"Topic7\", \"Topic7\", \"Topic7\", \"Topic7\", \"Topic7\", \"Topic8\", \"Topic8\", \"Topic8\", \"Topic8\", \"Topic8\", \"Topic8\", \"Topic8\", \"Topic8\", \"Topic8\", \"Topic8\", \"Topic8\", \"Topic8\", \"Topic8\", \"Topic8\", \"Topic8\", \"Topic8\", \"Topic8\", \"Topic8\", \"Topic8\", \"Topic8\", \"Topic8\", \"Topic8\", \"Topic8\", \"Topic8\", \"Topic8\", \"Topic8\", \"Topic8\", \"Topic8\", \"Topic8\", \"Topic8\", \"Topic8\", \"Topic8\", \"Topic8\", \"Topic8\", \"Topic8\", \"Topic8\", \"Topic8\", \"Topic8\", \"Topic8\", \"Topic8\", \"Topic8\", \"Topic8\", \"Topic8\", \"Topic8\", \"Topic8\", \"Topic8\"], \"logprob\": [30.0, 29.0, 28.0, 27.0, 26.0, 25.0, 24.0, 23.0, 22.0, 21.0, 20.0, 19.0, 18.0, 17.0, 16.0, 15.0, 14.0, 13.0, 12.0, 11.0, 10.0, 9.0, 8.0, 7.0, 6.0, 5.0, 4.0, 3.0, 2.0, 1.0, -6.7587, -7.426, -6.9154, -7.3311, -7.2429, -7.6452, -7.7087, -6.6025, -7.7158, -7.7412, -7.9052, -7.9158, -8.0242, -8.021, -6.2617, -7.2989, -8.0616, -7.7115, -8.1135, -8.2143, -7.0075, -8.2323, -7.9966, -7.5277, -8.2161, -8.2965, -7.062, -8.3189, -7.4434, -8.2548, -6.4862, -6.374, -6.6046, -6.1071, -6.5916, -5.423, -7.7245, -5.8107, -5.8922, -7.252, -7.1824, -6.6047, -6.3971, -5.9727, -5.7079, -6.4721, -5.7809, -6.6547, -6.69, -6.9253, -6.2691, -5.7275, -5.9397, -6.2509, -6.0753, -6.3478, -6.1536, -5.2433, -6.0064, -3.8687, -5.7129, -4.5589, -4.8397, -5.6168, -4.971, -4.9756, -5.0612, -5.0034, -5.7577, -4.8647, -5.2013, -4.8861, -5.5265, -5.6169, -5.5827, -5.2267, -5.5372, -5.1013, -5.1399, -5.1975, -5.4646, -5.4829, -5.4228, -5.4178, -5.6556, -5.7191, -5.6679, -5.6995, -4.2635, -5.1065, -6.0506, -6.0079, -5.103, -6.4506, -6.5241, -6.5805, -6.9323, -7.237, -7.3205, -7.3246, -7.3788, -7.1303, -7.1139, -7.5394, -7.5848, -7.394, -7.8238, -7.4905, -7.6942, -7.9471, -7.5733, -8.0189, -7.2785, -8.0183, -8.1739, -8.228, -6.6738, -8.0627, -5.6219, -7.3283, -7.4578, -5.9672, -5.811, -5.5177, -4.7763, -6.2757, -5.9618, -5.1076, -5.8802, -4.6508, -6.69, -4.5801, -5.8448, -5.7883, -5.6757, -5.775, -6.6794, -5.5213, -5.8904, -4.9579, -5.533, -5.6493, -5.9447, -4.8984, -4.8219, -5.4015, -4.7517, -5.1155, -5.1441, -4.1348, -4.7223, -5.0777, -4.8463, -4.9666, -4.937, -4.8083, -5.1768, -5.5679, -5.1914, -5.3149, -5.4041, -5.1698, -5.2506, -5.1851, -5.2195, -5.3008, -5.3305, -6.6404, -5.882, -6.0041, -7.2718, -7.0664, -7.4888, -7.3947, -7.8131, -7.7499, -7.7059, -7.8499, -8.1159, -8.267, -8.0509, -8.2956, -8.2807, -7.3529, -8.2959, -6.9771, -8.4213, -8.3954, -6.1746, -6.7131, -8.3204, -6.5221, -8.4617, -8.3959, -8.4352, -8.5707, -8.4514, -7.2312, -8.116, -3.9675, -8.1045, -5.5104, -6.1067, -6.0793, -5.1551, -5.3986, -6.9711, -7.2835, -4.9881, -5.4214, -7.608, -3.6203, -5.9828, -4.3597, -4.0743, -4.9496, -5.4729, -6.6463, -4.0721, -4.1337, -4.9793, -4.9631, -6.6376, -5.3824, -5.626, -5.8513, -5.1345, -4.8821, -4.1252, -4.7086, -5.5165, -4.7123, -4.9969, -5.3909, -4.9442, -5.2767, -5.2589, -4.9537, -5.026, -4.9882, -5.3934, -5.315, -5.3863, -5.4658, -5.8806, -6.3512, -6.7647, -5.2726, -7.0596, -7.1345, -7.2295, -6.887, -6.9412, -6.9218, -7.3865, -7.3676, -7.4688, -7.4054, -7.3719, -7.3868, -7.5474, -6.7465, -6.6357, -7.1265, -7.5759, -7.653, -7.6051, -7.0722, -7.4701, -7.0163, -7.7275, -7.6745, -7.4912, -2.8698, -5.9397, -6.9554, -5.2706, -7.02, -5.4085, -6.3592, -6.9257, -6.3687, -7.0286, -5.7175, -6.0083, -6.1701, -6.5731, -4.5361, -6.34, -4.6428, -4.9395, -6.7357, -4.8279, -5.7501, -5.0421, -5.9263, -6.0142, -5.6523, -5.7379, -5.8916, -6.001, -5.9052, -5.9439, -4.4441, -6.0912, -5.6129, -4.9526, -5.4636, -5.4384, -5.5989, -5.5144, -5.8059, -5.7466, -5.7333, -5.7346, -5.9087, -6.8755, -6.9721, -5.5499, -6.9499, -6.4613, -6.9221, -5.8104, -7.219, -6.742, -6.8379, -6.2502, -7.2076, -6.2501, -6.399, -6.8146, -7.3338, -6.9266, -7.0351, -6.9278, -7.4068, -7.2354, -6.9324, -7.4126, -6.9335, -6.9338, -7.5065, -7.5109, -6.9372, -6.9375, -6.9371, -6.9382, -6.9399, -6.94, -6.1179, -6.1675, -6.6777, -6.9401, -6.9404, -5.605, -6.2863, -6.1232, -5.6255, -6.318, -6.1244, -5.0527, -6.2472, -6.1206, -4.6864, -6.1962, -6.7477, -4.5566, -5.4304, -5.3966, -5.8318, -6.383, -5.4963, -6.5492, -5.2064, -6.1397, -5.9022, -5.3114, -5.7581, -5.8302, -6.0271, -5.8534, -6.0688, -6.1469, -6.0936, -6.2186, -5.292, -5.3833, -5.6284, -5.6521, -5.5007, -5.5748, -6.208, -6.3182, -6.6646, -6.502, -6.5395, -6.528, -6.7717, -6.7039, -6.2137, -6.2142, -6.235, -6.6377, -6.7565, -6.8742, -6.8405, -6.7092, -6.7543, -6.2187, -7.0512, -6.8957, -5.5376, -6.904, -7.1743, -6.9045, -6.9049, -5.8406, -5.3196, -5.8426, -5.9195, -5.5815, -5.8886, -3.9049, -6.0809, -5.875, -5.7801, -5.1922, -6.3313, -5.7123, -5.1956, -5.038, -5.049, -5.9251, -5.7545, -5.9193, -5.5895, -6.086, -6.0067, -6.1254, -6.1216, -6.0334, -6.0977, -4.3261, -4.2586, -6.115, -6.5131, -6.8237, -6.9399, -6.9726, -6.0226, -6.8565, -6.8593, -7.0483, -6.4008, -7.05, -7.0514, -7.304, -6.7619, -7.4243, -6.7632, -7.5014, -6.0852, -7.4133, -6.7664, -6.7679, -7.5255, -6.7682, -7.5952, -6.7693, -7.3494, -6.7697, -7.599, -6.0916, -6.7695, -6.771, -6.7716, -6.7725, -6.772, -6.7727, -6.7754, -6.7768, -6.7811, -5.6763, -6.5143, -5.2584, -4.1403, -6.508, -6.003, -5.5783, -6.5064, -5.8271, -5.4571, -4.8971, -5.1307, -6.5567, -5.1723, -6.219, -6.1545, -6.4021, -6.4649, -6.1988, -6.6858, -6.18, -6.2582, -6.4122, -6.3531, -6.3715, -6.3985, -6.4572, -6.4991, -5.3307, -5.0168, -5.6865, -5.215, -6.2491, -6.2493, -6.2499, -6.5126, -5.7654, -6.418, -5.9749, -5.5374, -5.817, -6.3484, -6.1588, -6.9936, -7.0147, -6.806, -7.042, -5.6784, -7.2378, -7.2271, -6.911, -7.3585, -7.4469, -7.4631, -6.3428, -6.8291, -7.4671, -7.3982, -6.4612, -6.2702, -5.1494, -4.7439, -6.9313, -7.0585, -6.5106, -6.6562, -5.5898, -6.2967, -5.8327, -5.9541, -6.4465, -5.9959, -6.3839, -6.611], \"loglift\": [30.0, 29.0, 28.0, 27.0, 26.0, 25.0, 24.0, 23.0, 22.0, 21.0, 20.0, 19.0, 18.0, 17.0, 16.0, 15.0, 14.0, 13.0, 12.0, 11.0, 10.0, 9.0, 8.0, 7.0, 6.0, 5.0, 4.0, 3.0, 2.0, 1.0, 0.6813, 0.68, 0.68, 0.6798, 0.6795, 0.6792, 0.6791, 0.6789, 0.6787, 0.6786, 0.6783, 0.6779, 0.6778, 0.6777, 0.6775, 0.6775, 0.6773, 0.6773, 0.6769, 0.6768, 0.6768, 0.6767, 0.6766, 0.6765, 0.6764, 0.6763, 0.6763, 0.6762, 0.6757, 0.6756, 0.6719, 0.6696, 0.6709, 0.6651, 0.668, 0.6553, 0.6756, 0.6467, 0.6421, 0.6686, 0.6664, 0.654, 0.6494, 0.6402, 0.63, 0.6483, 0.6245, 0.6501, 0.6509, 0.6581, 0.6367, 0.6053, 0.6019, 0.6148, 0.6007, 0.6177, 0.5902, 0.4974, 0.5639, 0.3136, 0.4991, 0.3052, 0.34, 0.4477, 0.299, 0.2944, 0.3136, 0.2904, 0.4439, 0.1356, 0.2401, 0.1122, 0.3407, 0.3751, 0.3586, 0.1928, 0.3061, 0.0695, 0.0903, 0.0832, 0.252, 0.2285, 0.1454, 0.0824, 0.3334, 0.3711, 0.0787, 0.0586, 1.3041, 1.304, 1.3031, 1.3031, 1.3029, 1.3023, 1.3018, 1.3012, 1.3009, 1.3004, 1.3, 1.3, 1.2995, 1.2991, 1.299, 1.2988, 1.2985, 1.2977, 1.2968, 1.2966, 1.2965, 1.296, 1.2957, 1.2955, 1.2955, 1.2953, 1.2941, 1.2935, 1.2931, 1.2925, 1.2809, 1.2924, 1.2888, 1.2576, 1.2496, 1.2401, 1.2157, 1.2468, 1.2306, 1.1843, 1.2107, 1.1164, 1.2355, 1.0183, 1.1397, 1.1276, 1.109, 1.1015, 1.205, 1.0145, 1.0413, 0.8075, 0.9279, 0.9269, 1.0151, 0.698, 0.6704, 0.8484, 0.5188, 0.6529, 0.6172, 0.0475, 0.276, 0.4744, 0.1539, 0.2636, 0.2338, 0.0557, 0.3913, 0.8349, 0.3087, 0.458, 0.5579, 0.1109, 0.1689, -0.0053, 0.0742, -0.0307, -0.0604, 2.3102, 2.308, 2.305, 2.3041, 2.3025, 2.3016, 2.2997, 2.2964, 2.2959, 2.2955, 2.2942, 2.2872, 2.285, 2.2849, 2.2842, 2.283, 2.28, 2.2796, 2.2795, 2.2784, 2.2782, 2.2769, 2.2763, 2.2756, 2.2755, 2.2751, 2.2744, 2.2731, 2.2727, 2.2722, 2.2701, 2.271, 2.1856, 2.2682, 2.2124, 2.2259, 2.2101, 2.1602, 2.1699, 2.2265, 2.2329, 2.0922, 2.1086, 2.2459, 1.9351, 2.1212, 1.9379, 1.8304, 1.9208, 1.9875, 2.1466, 1.7884, 1.7482, 1.8583, 1.8438, 2.1325, 1.8316, 1.8898, 1.9202, 1.6776, 1.4763, 1.1453, 1.2401, 1.4935, 0.8398, 1.0483, 1.2871, 0.6523, 1.0894, 1.0232, 0.4876, 0.1448, 0.0121, 1.0094, -0.0849, 0.3865, 3.44, 3.438, 3.4363, 3.4275, 3.4236, 3.4184, 3.4177, 3.4157, 3.4152, 3.4141, 3.4107, 3.4104, 3.4063, 3.4052, 3.4048, 3.4045, 3.4032, 3.4027, 3.4007, 3.4005, 3.3995, 3.399, 3.399, 3.3987, 3.3979, 3.3961, 3.3953, 3.3921, 3.3916, 3.3912, 3.3669, 3.3911, 3.3911, 3.3721, 3.391, 3.3473, 3.3683, 3.3825, 3.3577, 3.3812, 3.2911, 3.3047, 3.3074, 3.3188, 3.0541, 3.2889, 3.0349, 3.0715, 3.3328, 2.7508, 3.0047, 2.6158, 2.9675, 2.9548, 2.6544, 2.6642, 2.6982, 2.772, 2.6723, 2.645, 0.8366, 2.7484, 2.0532, 0.9079, 1.4573, 1.1378, 1.4662, 0.7774, 1.9361, 1.2905, 1.0106, 0.5475, 0.1365, 3.5754, 3.5727, 3.5727, 3.5705, 3.5702, 3.5692, 3.5691, 3.5628, 3.5594, 3.5588, 3.5581, 3.558, 3.5576, 3.5575, 3.5572, 3.557, 3.5567, 3.5553, 3.5551, 3.5542, 3.5541, 3.5513, 3.5509, 3.5504, 3.5491, 3.5485, 3.5476, 3.5468, 3.5468, 3.5463, 3.5451, 3.5443, 3.5438, 3.5231, 3.5148, 3.5333, 3.5438, 3.5429, 3.4268, 3.4352, 3.3986, 3.2943, 3.419, 3.3203, 2.9646, 3.2949, 3.2319, 2.1877, 3.102, 3.3854, 0.8182, 1.7785, 1.705, 2.1866, 2.8383, 1.3354, 2.9958, 0.0743, 2.0795, 1.2383, -0.4474, 0.7777, 0.5727, 0.8046, -0.3611, 0.7744, 0.7087, -0.8236, -0.4779, 3.7025, 3.7018, 3.6998, 3.698, 3.696, 3.6931, 3.6877, 3.6877, 3.6822, 3.6821, 3.6809, 3.6809, 3.68, 3.6799, 3.6795, 3.6789, 3.6784, 3.6783, 3.6761, 3.6748, 3.6748, 3.6734, 3.6724, 3.6721, 3.6705, 3.6682, 3.6653, 3.6642, 3.6635, 3.6635, 3.663, 3.6139, 3.516, 3.5427, 3.4236, 3.329, 3.3463, 2.5209, 3.3284, 3.1991, 3.0592, 2.4209, 3.3447, 2.7715, 2.2295, 1.9772, 0.9961, 2.2647, 1.7947, 2.0213, -0.2147, 2.3929, 0.8002, 2.2205, 1.9283, -0.5412, 0.7455, 3.8405, 3.8357, 3.825, 3.8168, 3.8061, 3.8024, 3.8017, 3.8006, 3.7967, 3.7929, 3.7878, 3.7876, 3.7861, 3.7848, 3.7817, 3.776, 3.7754, 3.7742, 3.7739, 3.7719, 3.7702, 3.7695, 3.7689, 3.7688, 3.7678, 3.7669, 3.7667, 3.7662, 3.7659, 3.7658, 3.7629, 3.7652, 3.7646, 3.7625, 3.7625, 3.7621, 3.7613, 3.7574, 3.7558, 3.7509, 3.5988, 3.7113, 3.5093, 3.1056, 3.6235, 3.284, 2.9457, 3.5219, 2.9048, 2.3991, 1.815, 1.5479, 3.4442, 1.1938, 2.7532, 2.5403, 2.8556, 2.5732, 1.2476, 3.4154, 0.8153, 1.0921, 1.3598, 0.5628, -1.1009, -1.1284, 1.0258, 1.1465, 3.893, 3.8902, 3.8878, 3.8802, 3.8736, 3.8735, 3.8729, 3.869, 3.8684, 3.8668, 3.8667, 3.8638, 3.8623, 3.8598, 3.859, 3.855, 3.854, 3.8526, 3.852, 3.8502, 3.8448, 3.8435, 3.8431, 3.8349, 3.8324, 3.8307, 3.8294, 3.8269, 3.8266, 3.8255, 3.8219, 3.8136, 3.7824, 3.7555, 3.818, 3.7775, 3.4867, 3.4774, 2.6038, 3.1211, 1.9228, 2.1048, 2.9002, 1.7711, 0.2922, -1.0556]}, \"token.table\": {\"Topic\": [1, 2, 3, 4, 5, 6, 7, 3, 6, 3, 8, 5, 8, 8, 4, 7, 8, 8, 5, 7, 1, 2, 3, 4, 5, 7, 8, 1, 2, 3, 5, 1, 4, 6, 4, 1, 2, 3, 5, 6, 8, 2, 3, 7, 8, 7, 3, 1, 4, 7, 1, 2, 3, 4, 5, 6, 7, 8, 8, 4, 4, 3, 6, 1, 2, 6, 8, 1, 2, 3, 4, 7, 8, 1, 2, 3, 4, 7, 8, 2, 3, 1, 2, 3, 5, 6, 7, 8, 1, 4, 1, 2, 3, 7, 8, 5, 6, 1, 3, 6, 5, 1, 1, 4, 3, 3, 1, 2, 5, 6, 8, 5, 8, 8, 1, 8, 1, 8, 8, 1, 8, 1, 8, 8, 5, 6, 1, 3, 5, 1, 2, 5, 6, 7, 8, 1, 2, 5, 7, 1, 2, 3, 5, 8, 1, 6, 1, 2, 3, 6, 7, 1, 2, 3, 4, 5, 6, 7, 5, 7, 7, 4, 3, 6, 2, 6, 1, 2, 3, 4, 5, 7, 6, 6, 1, 6, 1, 6, 7, 8, 1, 4, 2, 8, 1, 5, 1, 4, 1, 7, 1, 7, 1, 2, 1, 2, 4, 1, 2, 5, 6, 5, 1, 2, 4, 1, 2, 3, 5, 1, 2, 3, 4, 5, 6, 7, 8, 1, 5, 1, 4, 1, 1, 4, 1, 2, 4, 1, 4, 1, 2, 3, 4, 5, 6, 7, 1, 2, 3, 5, 7, 2, 1, 1, 5, 1, 2, 4, 5, 6, 7, 4, 1, 4, 1, 4, 2, 5, 2, 3, 1, 2, 3, 4, 5, 6, 7, 8, 3, 1, 2, 5, 6, 7, 1, 7, 1, 2, 3, 4, 7, 5, 6, 5, 6, 5, 6, 1, 2, 3, 5, 2, 3, 5, 1, 2, 3, 5, 7, 5, 1, 3, 4, 3, 1, 2, 5, 6, 1, 2, 3, 7, 1, 2, 8, 1, 2, 3, 4, 5, 6, 1, 2, 5, 7, 1, 2, 3, 7, 1, 2, 3, 4, 5, 6, 7, 6, 1, 2, 4, 5, 6, 2, 1, 1, 1, 2, 4, 3, 1, 2, 4, 2, 3, 4, 1, 2, 3, 7, 1, 2, 3, 5, 8, 1, 2, 3, 5, 7, 5, 1, 6, 1, 3, 1, 2, 3, 2, 1, 2, 3, 5, 6, 7, 8, 1, 4, 1, 2, 6, 1, 2, 3, 4, 7, 8, 1, 2, 7, 1, 8, 1, 4, 1, 3, 4, 5, 6, 1, 1, 2, 4, 7, 1, 2, 3, 4, 5, 6, 7, 8, 5, 2, 3, 7, 4, 1, 1, 2, 3, 4, 5, 6, 7, 5, 1, 1, 2, 3, 5, 1, 3, 1, 2, 4, 6, 7, 1, 2, 3, 4, 5, 6, 7, 8, 5, 6, 5, 6, 5, 1, 2, 3, 5, 6, 6, 1, 4, 1, 2, 3, 4, 5, 6, 7, 8, 1, 6, 3, 2, 6, 2, 3, 7, 1, 3, 7, 3, 7, 1, 2, 3, 7, 1, 2, 3, 4, 5, 6, 7, 1, 2, 5, 1, 3, 5, 1, 5, 1, 2, 3, 4, 5, 6, 7, 8, 2, 5, 2, 7, 1, 2, 3, 6, 1, 2, 3, 5, 1, 2, 3, 7, 1, 2, 3, 7, 1, 2, 5, 1, 4, 5, 1, 1, 1, 4, 1, 4, 1, 2, 5, 1, 4, 1, 4, 8, 1, 4, 4, 4, 8, 1, 1, 2, 3, 4, 5, 6, 7, 8, 1, 2, 5, 6, 7, 8, 5, 8, 1, 4, 7, 1, 2, 3, 4, 5, 6, 7, 1, 2, 3, 5, 8, 1, 2, 3, 4, 6, 8, 1, 2, 3, 5, 7, 8, 5, 6, 1, 2, 3, 4, 5, 7, 1, 2, 3, 5, 6, 7, 1, 2, 3, 5, 7, 1, 3, 7, 1, 2, 5, 7, 1, 4, 6, 3, 4, 6, 1, 2, 3, 6, 7, 2, 3, 1, 2, 3, 1, 2, 3, 5, 6, 7, 1, 2, 3, 3, 4, 1, 2, 3, 5, 3, 2, 1, 2, 3, 4, 1, 2, 4, 6, 1, 1, 6, 6, 1, 2, 3, 4, 6, 1, 6, 1, 2, 3, 4, 5, 6, 1, 5, 1, 2, 6, 1, 2, 6, 1, 2, 5, 6, 8, 8, 1, 2, 4, 6, 1, 4, 4, 1, 2, 5, 1, 2, 3, 4, 5, 6, 7, 8, 1, 2, 3, 4, 5, 6, 7, 1, 8, 2, 3, 1, 2, 3, 5, 6, 7, 8, 1, 8, 1, 4, 5, 6, 1, 6, 6, 7, 1, 2, 3, 1, 4, 1, 2, 3, 4, 5, 6, 7, 8, 2, 1, 2, 3, 4, 5, 6, 7, 8, 1, 5, 2, 6, 6, 1, 3, 2, 2, 1, 2, 3, 4, 5, 6, 7, 8, 8, 2, 1, 4, 1, 4, 1, 4, 1, 2, 3, 6, 7, 1, 2, 5, 6, 1, 8, 5, 1, 1, 2, 3, 4, 6, 1, 2, 3, 5, 1, 2, 3, 4, 5, 6, 1, 2, 3, 1, 4, 1, 1, 2, 3, 4, 5, 6, 7, 1, 2, 3, 7, 3, 7, 1, 2, 3, 4, 5, 6, 7, 8, 4, 7, 7, 2, 3, 7, 3, 7, 2, 3, 7, 1, 2, 6, 7, 1, 2, 3, 4, 6, 7, 6, 1, 2, 6, 1, 7, 1, 6, 3, 8, 1, 2, 3, 4, 5, 8, 1, 2, 3, 6, 2, 7, 1, 2, 3, 4, 6, 7, 1, 2, 3, 7, 8, 1, 2, 3, 4, 5, 6, 7, 2, 1, 4, 4, 1, 2, 5, 7, 8, 1, 2, 3, 5, 7, 1, 2, 4, 7, 1, 2, 3, 4, 5, 6, 8, 1, 2, 6, 6, 2, 1, 2, 3, 5, 6, 7, 5, 6, 6, 1, 2, 5, 5, 6, 5, 6, 1, 3, 1, 5, 7, 1, 2, 3, 8, 6, 6, 1, 8, 1, 2, 8, 6, 1, 2, 3, 1, 1, 2, 3, 4, 7, 1, 2, 3, 1, 2, 3, 8, 1, 2, 3, 6, 7, 8, 1, 2, 5, 6, 1, 2, 6, 4, 3, 1, 2, 3, 6, 7, 2, 6, 7, 1, 2, 3, 4, 6, 3, 8, 7, 7, 7, 1, 1, 6, 2, 5, 1, 5, 1, 5, 1, 8, 1, 2, 4, 6, 1, 2, 7, 2, 6, 1, 2, 5, 6, 1, 2, 3, 4, 5, 6, 4, 1, 6, 1, 2, 1, 2, 3, 4, 6, 7, 8, 2, 4, 1, 2, 3, 4, 5, 1, 2, 3, 5, 6, 7, 1, 8, 1, 2, 3, 4, 5, 1, 4, 8, 1, 8, 1, 2, 3, 4, 5, 6, 1, 2, 3, 7, 3, 7, 2, 3, 7, 3, 7, 2, 3, 7, 1, 2, 5, 1, 2, 3, 4, 5, 6, 7, 8, 1, 6, 7, 1, 2, 3, 3, 2, 5, 8, 1, 7, 1, 2, 3, 5, 1, 2, 4, 1, 2, 8, 2, 2, 1, 2, 5, 7, 1, 2, 3, 7, 1, 2, 3, 4, 6, 7, 8, 2, 1, 2, 8, 1, 2, 5, 2, 6, 1, 2, 3, 5, 3, 7, 1, 5, 2, 1, 3, 7, 3, 3, 1, 1, 2, 4, 8, 5, 6, 5, 6, 5, 8, 1, 2, 4, 1, 2, 4, 3, 7, 2, 3, 7, 1, 2, 3, 4, 7, 1, 5, 8, 6, 2, 3, 1, 2, 4, 6, 7, 1, 2, 3, 4, 1, 2, 4, 1, 2, 4, 4, 1, 5, 1, 2, 3, 4, 5, 6, 7, 8, 6, 3, 1, 2, 3, 6, 7, 1, 7, 1, 4, 7, 1, 7, 7, 5, 4, 7, 1, 4, 1, 2, 3, 4, 8, 2, 1, 1, 2, 3, 7, 5, 2, 5, 1, 2, 3, 5, 1, 2, 3, 4, 5, 6, 7, 8, 1, 2, 3, 6, 7, 1, 2, 3, 4, 5, 6, 7, 8, 1, 2, 3, 4, 6, 7, 3, 3, 1, 2, 3, 5, 6, 7, 1, 4, 1, 2, 3, 5, 6, 7, 8, 1, 2, 3, 6, 7, 8, 1, 2, 3, 4, 5, 6, 7, 8, 1, 2, 3, 4, 5, 6, 7, 8, 1, 2, 7, 1, 2, 1, 6, 6, 1, 4, 7, 1, 2, 3, 4, 5, 7, 1, 2, 3, 4, 5, 6, 7, 8, 2, 7, 1, 6, 1, 2, 3, 4, 5, 6, 7, 8, 5, 1, 2, 3, 4, 6, 7, 3, 1, 2, 7, 8, 1, 2, 5, 6, 8, 8, 1, 5, 6, 8, 2, 3, 7, 1, 2, 3, 5, 2, 3], \"Freq\": [0.1977461411506036, 0.11115669034127616, 0.5896137487667692, 0.07853461817590163, 0.012484990581810003, 0.008054832633425808, 0.002013708158356452, 0.9928872712674646, 0.004137030296947769, 0.05347756640049668, 0.9091186288084436, 0.9567447141714425, 0.9672154499236764, 0.9649828471611401, 0.013890366794058924, 0.013890366794058924, 0.9584353087900658, 0.9717697246689565, 0.9397213124576104, 0.9332151668853774, 0.11843174738564698, 0.18313881738582505, 0.6829860920660995, 0.0017809285321149922, 0.003265035642210819, 0.00385867848624915, 0.007123714128459969, 0.49705748500610764, 0.06356233823607514, 0.4385801338289185, 0.0012712467647215029, 0.11993033648861502, 0.8694949395424589, 0.9366709452759059, 0.9618162857001264, 0.08703653094634849, 0.3191339468032778, 0.35781684944609937, 0.009670725660705388, 0.22726205302657662, 0.9718374686616661, 0.021854748250706598, 0.043709496501413196, 0.917899426529677, 0.9171347097310233, 0.9332722184387544, 0.9400837202537526, 0.03814956018101173, 0.8647233641029326, 0.08901564042236071, 0.1641586035996695, 0.20540871424779159, 0.6149633842541465, 0.002104597482047045, 0.0012627584892282268, 0.00799747043177877, 0.000841838992818818, 0.0029464364748658625, 0.9270361490144279, 0.9340953375088514, 0.9163873473970463, 0.022663665126531868, 0.9518739353143385, 0.20407320632965115, 0.11053965342856104, 0.6802440210988372, 0.9642383543925723, 0.14776995367222204, 0.15213446707182351, 0.6846051018232059, 0.00872902679920299, 0.0018705057426863549, 0.004364513399601495, 0.11056105603353353, 0.19679867973968967, 0.6733168312442191, 0.008844884482682683, 0.0011056105603353353, 0.0077392739223473474, 0.07932223068974531, 0.9178715265527672, 0.17761245041918194, 0.17333263233679203, 0.6323431216731117, 0.0010699545205974817, 0.0021399090411949634, 0.0010699545205974817, 0.01283945424716978, 0.012789594578505585, 0.98479878254493, 0.2086849167169253, 0.12647570710116685, 0.6534578200226954, 0.008431713806744456, 0.9085746030999265, 0.9428276382408312, 0.04099250601047092, 0.04368526646887515, 0.9392332290808157, 0.021842633234437574, 0.9503106094696532, 0.9960022649788912, 0.49905651625203773, 0.49113498424803714, 0.9772130402209014, 0.9658612172108056, 0.9211908811927896, 0.012743747368279698, 0.026397762405722232, 0.012743747368279698, 0.027308030074885067, 0.9424203350551965, 0.921774990245213, 0.9625626674995305, 0.0583236978705688, 0.874855468058532, 0.010229018923246347, 0.9819858166316493, 0.990913921332605, 0.05497735520346003, 0.9071263608570905, 0.01834419312309536, 0.9538980424009587, 0.9745618328063297, 0.9435658760866399, 0.041024603308114777, 0.998457961304684, 0.9753434483496755, 0.9589202619660679, 0.9222944291056504, 0.03262646384239143, 0.005570371875530244, 0.03819683571792167, 0.0007957674107900349, 0.0007957674107900349, 0.569951505302079, 0.13524273007167978, 0.009660195005119984, 0.28014565514847956, 0.9437167208181674, 0.049303816908086745, 0.001388839912903852, 0.004860939695163481, 0.000694419956451926, 0.034174319007325135, 0.9568809322051037, 0.04675846521832199, 0.015586155072773996, 0.9195831492936658, 0.015586155072773996, 0.015586155072773996, 0.005395811212565742, 0.10467873752377539, 0.8773589031631897, 0.0005395811212565741, 0.0016187433637697226, 0.01025204130387491, 0.0005395811212565741, 0.9783660842104723, 0.9715893039178494, 0.9705109838643501, 0.9409549393993754, 0.9382350139210399, 0.934900533406428, 0.023180098626589835, 0.9735641423167731, 0.09303330960111178, 0.547254762359481, 0.3575397780748609, 0.0009120912705991351, 0.0009120912705991351, 0.0009120912705991351, 0.9769624885670491, 0.9733246275295693, 0.011321428350659806, 0.9849642665074031, 0.9766339567276815, 0.01353303404241591, 0.00451101134747197, 0.00451101134747197, 0.9937824222816756, 0.9656670939884768, 0.9961704393233761, 0.9702628218214712, 0.07061732476451002, 0.9180252219386302, 0.5486289513155167, 0.45099159557292473, 0.5892952999213592, 0.41019574798447556, 0.9943188112802921, 0.0038539488809313646, 0.9982417756532861, 0.9995105621284608, 0.9891419041529903, 0.005896524018795769, 0.004422393014096827, 0.8986857309474355, 0.038126061312921504, 0.055555117913114196, 0.007625212262584301, 0.9463965564329051, 0.9343020327404242, 0.0011004735367967306, 0.06382746513421036, 0.2401858268627177, 0.1322762524751199, 0.1009476663625915, 0.5256240558879764, 0.5491544446487142, 0.30310619039337655, 0.035181968527802636, 0.0730702423269747, 0.029318307106502194, 0.005638135982019653, 0.0002255254392807861, 0.0045105087856157225, 0.17238583223194337, 0.8149148432782778, 0.13953512884407654, 0.8546526641699689, 0.9954560695524541, 0.11344127735845323, 0.8848419633959352, 0.49983295238378656, 0.030853885949616452, 0.4689790664341701, 0.33953598396552204, 0.6592450491593348, 0.4704937317640338, 0.521179239167185, 0.0014691451421203242, 0.0018364314276504052, 0.0007345725710601621, 0.0033055765697707295, 0.0007345725710601621, 0.045551548705686735, 0.09489905980351404, 0.8237238390945019, 0.022775774352843368, 0.011387887176421684, 0.9978585005208426, 0.9975215153513395, 0.17327777210517673, 0.8086296031574914, 0.216912207870965, 0.7511359883988845, 0.021381346204423692, 0.0009296237480184214, 0.0027888712440552643, 0.007127115401474564, 0.9803758144955407, 0.04045069136240122, 0.930365901335228, 0.04277950715766638, 0.9411491574686603, 0.031218030395759527, 0.9365409118727858, 0.996934846844244, 0.9548605780288996, 0.6781133005793043, 0.2552687120311695, 0.0535528766498957, 0.002454506846453553, 0.002454506846453553, 0.0004462739720824642, 0.006917246567278194, 0.0004462739720824642, 0.9869932238675795, 0.8392026510705373, 0.0021797471456377593, 0.0021797471456377593, 0.14822280590336762, 0.006539241436913278, 0.03051895290898834, 0.9460875401786386, 0.017300366137599908, 0.6854240298325297, 0.19771847014399896, 0.09885923507199948, 0.000823826958933329, 0.9423559518093421, 0.040971997904754004, 0.9432345790960476, 0.0410101990911325, 0.9434323478685234, 0.04101879773341406, 0.790618749808022, 0.19802505850906738, 0.00888890536948432, 0.001975312304329849, 0.9984232971920398, 0.0006947970057007932, 0.0006947970057007932, 0.6014361595411026, 0.14314624461402625, 0.005548304054807219, 0.24190605678959476, 0.006657964865768663, 0.9438071782324915, 0.9678929848723211, 0.003414084602724237, 0.029019719123156013, 0.9839739009398729, 0.7181207486098291, 0.11787727191003675, 0.16130574050847135, 0.0015510167356583783, 0.517526292816022, 0.3677160501587525, 0.02996204853145391, 0.08443850040682466, 0.06033669389260477, 0.933630947601358, 0.00317561546803183, 0.7302741835615462, 0.12326283990051576, 0.00697714188116127, 0.13605426668264475, 0.00232571396038709, 0.001162856980193545, 0.9677856882186852, 0.030325709576334823, 0.0013185091120145574, 0.0013185091120145574, 0.0822203804504007, 0.051109966225924765, 0.86442508095151, 0.002222172444605424, 0.458429981925029, 0.5029235839893517, 0.028446729188665285, 0.0003647016562649395, 0.0072940331252987906, 0.002188209937589637, 0.0003647016562649395, 0.9898527820805697, 0.8529600056981973, 0.004029732310385184, 0.13701089855309626, 0.001343244103461728, 0.004029732310385184, 0.992615165359602, 0.994873755299989, 0.9901256852864563, 0.17657957449135214, 0.8220083640114668, 0.9293709988155221, 0.9925013410962888, 0.032599155939521535, 0.9374726965638163, 0.02864774309836741, 0.997497014950936, 0.008463152860720016, 0.9901888847042419, 0.11210790212456223, 0.5920083954297058, 0.2183153883478317, 0.07473860141637481, 0.22215709703890815, 0.7687340818171743, 0.0035263031276017167, 0.002350868751734478, 0.0035263031276017167, 0.8164130290247904, 0.027863925905282947, 0.004179588885792443, 0.14907200359326378, 0.9229280202579766, 0.9524279602831904, 0.9953141423381532, 0.005104175088913606, 0.03797898919527502, 0.9570705277209307, 0.010371022137972122, 0.08556093263827001, 0.9022789260035746, 0.992700142728259, 0.5841228449342527, 0.4010395651787407, 0.006613845902497972, 0.004208811028862346, 0.003006293592044533, 0.0003006293592044533, 0.0003006293592044533, 0.08154583425320458, 0.9175373005180717, 0.579070111277867, 0.1819934635444725, 0.235764259591703, 0.9955925700069981, 0.0016676592462428778, 0.0016676592462428778, 0.9469518957751785, 0.8907526001456764, 0.9717095723582416, 0.7200155933380216, 0.04148237986309589, 0.23704217064626226, 0.008473754320325225, 0.9914292554780514, 0.0770017335871177, 0.9240208030454125, 0.6673040903323222, 0.2744111576619577, 0.05463667344947257, 0.0006138952072974446, 0.002455580829189778, 0.9944317815487979, 0.9957294738115244, 0.0033413740731930352, 0.9543286675180744, 0.9981796271484158, 0.6913375066462977, 0.21632173595061574, 0.004955824420403568, 0.003221285873262319, 0.06170001403402442, 0.019823297681614272, 0.0019823297681614274, 0.0004955824420403568, 0.9532868154570213, 0.030704961437772682, 0.9518538045709531, 0.9332475740376606, 0.9805780851250726, 0.9926619996815987, 0.5358214219440198, 0.3271636904678547, 0.13522765872671327, 0.00036351521163094965, 0.00036351521163094965, 0.0007270304232618993, 0.001090545634892849, 0.9471397048384271, 0.9976503204885065, 0.6881690804431627, 0.16592639342988158, 0.04254522908458502, 0.10317218053011869, 0.017513408425194363, 0.96323746338569, 0.18039196217580378, 0.7478750098538531, 0.022548995271975472, 0.0012527219595541929, 0.048856156422613525, 0.6855529585104534, 0.28679931836188777, 0.00564975329069556, 0.00014867771817619896, 0.01739529302661528, 0.004162976108933571, 0.00014867771817619896, 0.00014867771817619896, 0.9593680334791037, 0.020855826814763122, 0.9431597893969019, 0.041006947365082695, 0.9427747013737455, 0.7230406002197574, 0.18774604957397079, 0.08252093806855926, 0.001746474879757868, 0.00436618719939467, 0.9740707527635343, 0.37633783526468273, 0.618866662435256, 0.5465678968587998, 0.3266470862883951, 0.10816366663675131, 0.0035934772969020367, 0.007905650053184481, 0.0028747818375216296, 0.003952825026592241, 0.0003593477296902037, 0.16568824491086526, 0.8205513081299994, 0.9635430096246749, 0.2359174568879657, 0.7470719468118914, 0.04305798532687671, 0.04305798532687671, 0.904217691864411, 0.9965231309847292, 0.04319889343245335, 0.9071767620815204, 0.04320452583851912, 0.9072950426089015, 0.2850110096776498, 0.08674248120624124, 0.049567132117852145, 0.5700220193552996, 0.6422248541914154, 0.1909460288132002, 0.16049000479999906, 0.0010593399656765616, 0.0002648349914191404, 0.0005296699828382808, 0.004237359862706246, 0.5410095933840775, 0.2385554112559712, 0.21725582096525947, 0.15449498239093304, 0.1029966549272887, 0.7295596390682949, 0.15361165142373537, 0.835263354616561, 0.565234600272953, 0.35743776467320915, 0.06410753438715502, 0.0017004651031075602, 0.0035709767165258764, 0.004421209268079656, 0.0030608371855936085, 0.000510139530932268, 0.9993681796619254, 0.0003004714911791718, 0.9930397443314859, 0.9256342325467976, 0.9855063171930057, 0.008158164877425544, 0.0048948989264553265, 0.001631632975485109, 0.0365531432381394, 0.041122286142906826, 0.9001211522391828, 0.022845714523837126, 0.22593685262768035, 0.10071883791836353, 0.6723662963739403, 0.9760813917820271, 0.628826106629377, 0.3036944264971423, 0.0017864378029243664, 0.0643117609052772, 0.9680818167832843, 0.028316835591467183, 0.001769802224466699, 0.32246811851263696, 0.6721870639418348, 0.004541804486093478, 0.9940083072268379, 0.9888227394693547, 0.9118302382727714, 0.08670180684431267, 0.03812906219383285, 0.9532265548458212, 0.05519874320321849, 0.0183995810677395, 0.9199790533869749, 0.038155277348036774, 0.9538819337009193, 0.038083858523885315, 0.9140126045732476, 0.9708929468181381, 0.3876622410777267, 0.6040318640048299, 0.9736734437761695, 0.9662003647811015, 0.9886517628192864, 0.992455300631726, 0.7098505463593554, 0.2699144524353207, 0.01692061899707826, 0.0002038628794828706, 0.0008154515179314824, 0.001630903035862965, 0.0004077257589657412, 0.0002038628794828706, 0.9598180867198014, 0.001579947467851525, 0.02922902815525321, 0.008689711073183387, 0.0007899737339257625, 0.0007899737339257625, 0.7544532261073965, 0.23213945418689122, 0.35659284325209073, 0.6404116368608976, 0.9732658297192134, 0.40257123669560096, 0.2395582359209738, 0.034020104509487406, 0.0056700174182479, 0.002126256531842963, 0.30476343623082464, 0.012048787013776789, 0.724304054772212, 0.21059060623333037, 0.002127177840740711, 0.06062456846111026, 0.0010635889203703555, 0.032736803212859086, 0.34295698603947616, 0.6157636794799686, 0.004676686173265584, 0.0031177907821770563, 0.0015588953910885281, 0.3693886193981073, 0.11499834377488247, 0.20211830118009644, 0.2404510824383906, 0.010454394888625679, 0.06272636933175407, 0.943696898100926, 0.04103029991743157, 0.713452328179771, 0.07832876089804364, 0.056623200649188174, 0.019818120227215862, 0.000943720010819803, 0.1311770815039526, 0.9729064994313682, 0.0010014477606087166, 0.005007238803043583, 0.016023164169739465, 0.0005007238803043583, 0.004005791042434866, 0.055415083861269754, 0.6254977590840823, 0.2708412223719559, 0.048488198378611035, 0.0006926885482658719, 0.1441558332002278, 0.028831166640045557, 0.8072726659212756, 0.24326549673174763, 0.0073716817191438674, 0.03685840859571934, 0.7150531267569551, 0.026211195374803452, 0.9436030334929243, 0.9723803131520641, 0.02928738354231773, 0.9371962733541673, 0.02928738354231773, 0.25731271918252585, 0.06329062850860515, 0.6235683235028147, 0.05499021821239464, 0.0010375512870263138, 0.03722760813617441, 0.9679178115405346, 0.11546767392800436, 0.07056357851155823, 0.8125502980118826, 0.7353613788289766, 0.24619219178783974, 0.015616668882064462, 0.0004593137906489547, 0.0018372551625958188, 0.0004593137906489547, 0.1403982784199662, 0.022168149224205187, 0.835000287445062, 0.9507161045609407, 0.9784773819860758, 0.3447762203444954, 0.633674915322814, 0.004161092314502531, 0.01723881101722477, 0.963477541871916, 0.9967032056358774, 0.9820898066805354, 0.0020042649115929296, 0.003006397367389394, 0.012025589469557577, 0.8163362140906654, 0.0035961947757298033, 0.01078858432718941, 0.16902115445930077, 0.9933898497888195, 0.012157480577908534, 0.9847559268105913, 0.9793005590961155, 0.1431409537689955, 0.686342521918004, 0.1658966951373999, 0.001468112346348672, 0.002936224692697344, 0.9973303765712236, 0.9682756004672209, 0.6859888365956337, 0.2739205279423996, 0.038396374581521335, 0.00039583891321156016, 0.00039583891321156016, 0.00039583891321156016, 0.026087117859376126, 0.9652233607969167, 0.5550089449791716, 0.04995080504812545, 0.38850626148542017, 0.00636447697362729, 0.9864939309122299, 0.9630080163163391, 0.791066600737622, 0.0181437293747161, 0.02177247524965932, 0.0036287458749432204, 0.16692231024738813, 0.921847352137232, 0.5788534823849482, 0.20088066055368065, 0.21938282665730913, 0.9662124597546327, 0.07156649591106833, 0.9238584017610639, 0.9811412683987094, 0.9374592138670087, 0.05957911994744932, 0.002431800814181605, 0.5785956310519655, 0.316387540301384, 0.09984011772569253, 0.0006815025100729865, 0.00017037562751824663, 0.003237136922846686, 0.0008518781375912331, 0.00017037562751824663, 0.7103191727331172, 0.1427125278550555, 0.12730606177979384, 0.0012162999533101321, 0.0024325999066202642, 0.015406466075261674, 0.0008108666355400882, 0.10423433840662627, 0.8859918764563234, 0.9900237622956516, 0.006073765412856758, 0.1567480408982085, 0.2748233367979089, 0.5665145730100607, 0.00041141218083519295, 0.0008228243616703859, 0.00041141218083519295, 0.00041141218083519295, 0.6181814070709948, 0.36827828506357135, 0.9948564817878957, 0.0011843529545093995, 0.0011843529545093995, 0.002368705909018799, 0.29404025286065244, 0.6939349967511397, 0.9636396658603582, 0.9223004351421765, 0.1622794959876303, 0.03818341082061889, 0.7991242407458097, 0.03440618005044709, 0.9289668613620715, 0.4374370436842393, 0.4128131041391, 0.04345401096201053, 0.0014484670320670176, 0.09415035708435614, 0.004345401096201053, 0.002896934064134035, 0.004345401096201053, 0.9816189474634461, 0.7052032908361978, 0.2628484993116737, 0.023812059171092394, 0.002747545288972199, 0.0013737726444860996, 0.0032054695038008993, 0.0004579242148286999, 0.0004579242148286999, 0.255856182815143, 0.7355865255935361, 0.9984271605579306, 0.9942338391256162, 0.9530861481555101, 0.994336453610434, 0.9419998907391501, 0.9966721489910532, 0.997923581700063, 0.36069401391720113, 0.6082363016410874, 0.013915099014064613, 0.00036618681615959505, 0.0029294945292767604, 0.005492802242393926, 0.007689923139351496, 0.00036618681615959505, 0.9453912338136885, 0.9870935339827696, 0.31478173001594856, 0.6814505583861744, 0.05178678655083675, 0.9451088545527707, 0.07691573400093542, 0.9037598745109912, 0.2927626998841915, 0.42055594189713225, 0.009294053964577508, 0.27649810544618086, 0.002323513491144377, 0.7513183916261232, 0.06644312306897689, 0.005111009466844375, 0.17632982660613095, 0.030030274176801243, 0.9309384994808385, 0.9252070786367516, 0.9956777145583225, 0.042790057130000704, 0.9467300140012656, 0.002674378570625044, 0.00668594642656261, 0.001337189285312522, 0.10350252262061042, 0.025875630655152606, 0.8556208536637128, 0.013800336349414723, 0.42131763876534, 0.42869623138820057, 0.14498934503921068, 0.00036892963114302976, 0.00036892963114302976, 0.0036892963114302977, 0.01074734210396853, 0.026868355259921328, 0.9618871183051835, 0.03574741420414847, 0.9294327693078602, 0.994171700185936, 0.634856289561876, 0.30910216065553636, 0.05307814879943554, 0.0006938320104501377, 0.0006938320104501377, 0.0006938320104501377, 0.0006938320104501377, 0.6466899161754738, 0.28968444194611126, 0.004080062562621285, 0.05916090715800864, 0.04314693713604666, 0.90608567985698, 0.39708099156047255, 0.5302772820628626, 0.036503585890822386, 0.0011146133096434317, 0.01894842626393834, 0.014211319697953754, 0.0013932666370542897, 0.00027865332741085794, 0.9381662908179206, 0.9523848186912836, 0.9518347025902262, 0.04306703366374727, 0.04306703366374727, 0.9044077069386927, 0.04324247411089365, 0.9080919563287667, 0.043163259394945974, 0.043163259394945974, 0.9064284472938654, 0.9000840855046837, 0.00960089691204996, 0.021602018052112405, 0.06720627838434971, 0.44089118975074254, 0.3022703789994174, 0.003850578076425699, 0.019252890382128494, 0.22718410650911625, 0.007701156152851398, 0.9922639168065921, 0.38057055122082784, 0.010015014505811258, 0.6009008703486756, 0.5214617202832864, 0.47800657692634585, 0.0878998360775266, 0.9082983061344415, 0.9669441284235608, 0.9586888745101839, 0.15428135379263316, 0.7484623625016974, 0.007120677867352301, 0.02927389789911501, 0.059338982227935835, 0.0015823728594116222, 0.3332798584420205, 0.23389222669986728, 0.43134232176094506, 0.0006625842116143549, 0.9907117607332314, 0.9048949594909105, 0.11996351816867826, 0.8283719389139923, 0.04732505762617582, 0.0003668609118308203, 0.0003668609118308203, 0.003301748206477383, 0.14693049840921685, 0.02448841640153614, 0.03673262460230421, 0.7836293248491565, 0.01224420820076807, 0.5485486234974645, 0.36935045565753494, 0.07808321419984389, 0.0008426246136673801, 0.00028087487122246003, 0.00196612409855722, 0.0005617497424449201, 0.9926036422516865, 0.035249606149499846, 0.9517393660364959, 0.9534006591474374, 0.44173912341062715, 0.3387569964805423, 0.024390503746599044, 0.07317151123979714, 0.11924246276115089, 0.9552460291096694, 0.0022907578635723486, 0.00801765252250322, 0.011453789317861743, 0.02176219970393731, 0.4931584707545253, 0.0369868853065894, 0.4438426236790728, 0.0184934426532947, 0.9648264557281381, 0.01462966574265562, 0.000731483287132781, 0.017555598891186745, 0.000731483287132781, 0.000731483287132781, 0.001462966574265562, 0.2319585309361311, 0.4970539948631381, 0.270618286092153, 0.9368216275562973, 0.9869434065507227, 0.784384093804006, 0.10221740591410229, 0.0010759726938326557, 0.05917849816079606, 0.05164668930396747, 0.0010759726938326557, 0.9432817167929188, 0.04101224855621386, 0.9647965813917315, 0.4641384945182422, 0.05801731181478027, 0.4641384945182422, 0.967206687476347, 0.021026232336442328, 0.9599137810597516, 0.020867690892603295, 0.009321159868953193, 0.9880429461090384, 0.02118208560573328, 0.02118208560573328, 0.9531938522579976, 0.12709789937695798, 0.32480574285222596, 0.09885392173763398, 0.45190364222918394, 0.9895715207464908, 0.9363986901473468, 0.01752755989236552, 0.9640157940801036, 0.9859595432107119, 0.006320253482119948, 0.006320253482119948, 0.9774669066392947, 0.02760643768330884, 0.00920214589443628, 0.9570231730213731, 0.9954274697631564, 0.07092213988520764, 0.3942436599501248, 0.5277441585575745, 0.005214863226853503, 0.0010429726453707005, 0.08821629298670847, 0.9097305214254311, 0.9817340334881234, 0.012020009868504312, 0.012020009868504312, 0.9616007894803449, 0.012020009868504312, 0.056956569640933666, 0.9149797316511279, 0.0004593271745236586, 0.004593271745236586, 0.012401833712138783, 0.010564525014044148, 0.042443704544672195, 0.9443724261189563, 0.00212218522723361, 0.010610926136168049, 0.031517354017026496, 0.9533999590150514, 0.012606941606810597, 0.9660426688309492, 0.9479563431070935, 0.4943677968897203, 0.15745878228338067, 0.34086747561346376, 0.005717777010290359, 0.0017593160031662645, 0.11202786191575277, 0.6861706542339857, 0.21005224109203646, 0.11001779120198435, 0.7483627775167947, 0.13540651224859612, 0.002417973433010645, 0.0036269601495159676, 0.048717578923568504, 0.9256339995478016, 0.9559202603128087, 0.9321114818067141, 0.8883413347873895, 0.9985480901967572, 0.022719183309204135, 0.9769248822957778, 0.9966945214253985, 0.9783654399322634, 0.15546277038040238, 0.8356123907946628, 0.13393042487360113, 0.8418483849197785, 0.06710432844490453, 0.9059084340062112, 0.06712588265105347, 0.9290832394202629, 0.0030511764841387942, 0.0015255882420693971, 0.9823106205648684, 0.011764199048681059, 0.0029410497621702647, 0.9896139291269391, 0.009929236747093034, 0.009136734215831522, 0.9764884693169938, 0.011420917769789402, 0.0022841835539578804, 0.8877633219620952, 0.10728505090132331, 0.004094849271042874, 0.0008189698542085749, 0.9430917312020822, 0.04100398831313401, 0.9692380754631383, 0.29251781089808226, 0.6947298008829453, 0.09142855536708691, 0.9051426981341604, 0.3248335333533442, 0.4357739477499782, 0.2283893331045371, 0.0008875233151730716, 0.0029584110505769053, 0.00562098099609612, 0.0008875233151730716, 0.995089713553033, 0.9575640090412008, 0.020897442345583828, 0.5707613940637584, 0.28733983225177767, 0.11493593290071107, 0.006530450732994947, 0.8309339918249665, 0.13789360311454732, 0.012860543295657263, 0.016790153747108093, 0.001071711941304772, 0.0003572373137682573, 0.9929957617093511, 0.0024949642254003795, 0.9483557239317397, 0.044788874025523645, 0.0012982282326238737, 0.004543798814183558, 0.0006491141163119369, 0.5564439196722806, 0.43251972795487315, 0.007289658336318087, 0.025731443383935102, 0.9520634052055987, 0.7321850797345126, 0.234603247001439, 0.02938874368484549, 0.0010134049546498445, 0.0005067024773249223, 0.0015201074319747666, 0.561887160683116, 0.028449982819398274, 0.014224991409699137, 0.3911872637667263, 0.04318865880846688, 0.9069618349778045, 0.043191144584441704, 0.043191144584441704, 0.9070140362732758, 0.043034179560052864, 0.9037177707611102, 0.043124098338705126, 0.043124098338705126, 0.9056060651128076, 0.9715636882202988, 0.02119182541420115, 0.004890421249431035, 0.6500279669556736, 0.32884998542875543, 0.0052309117512527375, 0.0038360019509186744, 0.0038360019509186744, 0.0038360019509186744, 0.0020923647005010953, 0.002441092150584611, 0.09569626826688035, 0.847595518935226, 0.054683581866788775, 0.9927696419419685, 0.0026333412253102613, 0.0026333412253102613, 0.9835078901837468, 0.0315565987100501, 0.01577829935502505, 0.946697961301503, 0.6136917216452319, 0.3730283013921998, 0.20742679236740294, 0.06980709358518368, 0.7200103081214659, 0.0019944883881481052, 0.5302449229707485, 0.006094769229548834, 0.45710769221616254, 0.1824207493672755, 0.8164440855828062, 0.0011123216424833873, 0.9921440945826726, 0.9954088007357824, 0.13631344906716295, 0.847621810563086, 0.00991370538670276, 0.0037176395200135353, 0.014313874428822244, 0.062026789191563056, 0.9113166719683495, 0.014313874428822244, 0.22637165576078072, 0.4556455122364433, 0.31008898407467894, 0.00022324620883706187, 0.00044649241767412374, 0.00714387868278598, 0.00022324620883706187, 0.9933381656940876, 0.05778827869367432, 0.28894139346837155, 0.6645652049772546, 0.966814459174591, 0.03123335991459765, 0.001419698177936257, 0.9967797285870142, 0.9654917979195721, 0.02267880197312568, 0.10583440920791984, 0.8466752736633587, 0.02267880197312568, 0.04312567737480976, 0.905639224871005, 0.027184809361745756, 0.9650607323419744, 0.9977082491237479, 0.0037594832116913915, 0.0037594832116913915, 0.9925035678865274, 0.938913840636401, 0.9438506696848366, 0.9971716733597046, 0.044015448343819936, 0.8865083257980635, 0.06881288403047905, 0.9449630444255419, 0.9427177421386194, 0.040987727919070405, 0.9427985264633398, 0.04099124028101478, 0.9438864473217115, 0.024202216597992602, 0.02707008366857573, 0.0812102510057272, 0.8933127610629992, 0.03751753511363909, 0.11255260534091727, 0.8535239238352892, 0.04320682882086489, 0.9073434052381628, 0.04312040040803716, 0.04312040040803716, 0.9055284085687804, 0.9255239047628999, 0.06587818442834319, 0.0006458645532190509, 0.0064586455321905085, 0.0012917291064381017, 0.12401660516430422, 0.005637118416559283, 0.8624791177335703, 0.9708015794577796, 0.9816299172670803, 0.014435734077457062, 0.5512654364985715, 0.2385593117011362, 0.022566421377134504, 0.18375514549952382, 0.9490861780833776, 0.6688558561748148, 0.05635049337736535, 0.026950235963087776, 0.24745216657016958, 0.007284832081804379, 0.08741798498165256, 0.9033191781437431, 0.04446642582497788, 0.4446642582497788, 0.503952826016416, 0.9318225212180522, 0.4490739890824974, 0.5453041296001755, 0.6812422491011932, 0.26308044929259966, 0.03235510190621455, 0.0031239408737034737, 0.011826347593306008, 0.00557846584589906, 0.0024545249721955867, 0.0002231386338359624, 0.9657063545831921, 0.9913942557329745, 0.4706973017541981, 0.4738174543226445, 0.041899191633422934, 0.01025192986775242, 0.0026744164872397618, 0.26003862654372556, 0.7281081543224316, 0.4432063780724096, 0.21708067497424144, 0.33466604058528887, 0.3036161479192029, 0.6831363328182064, 0.9080913947905114, 0.9241085419303309, 0.963822749567002, 0.984470335587754, 0.020589438545981126, 0.9745667578431066, 0.5522163659306073, 0.03736802476222155, 0.12871208529209643, 0.0083040055027159, 0.27403218158962467, 0.9933771601927613, 0.9934025116802778, 0.5757185823311621, 0.12336826764239188, 0.020561377940398647, 0.27415170587198195, 0.9274761540940574, 0.9949435664666887, 0.9391457792201027, 0.06265465648366657, 0.2882114198248662, 0.050123725186933255, 0.601484702243199, 0.6912852714230194, 0.2844390017177814, 0.020225770938959345, 0.00022556621865010422, 0.0010526423537004863, 0.0019549072283009034, 0.0006766986559503126, 7.518873955003474e-05, 0.7873237322084234, 0.14217140775849949, 0.06853681409871888, 0.0011328399024581634, 0.0005664199512290817, 0.25884152546600114, 0.5452062238907527, 0.18926047023320514, 0.001236996537471929, 0.00030924913436798223, 0.0006184982687359645, 0.004329487881151751, 0.00030924913436798223, 0.41657055472885024, 0.19666005258129443, 0.2814273166249558, 0.036328827447283454, 0.06636065813703777, 0.002421921829818897, 0.9791878021656292, 0.9871010060330181, 0.8322265287188856, 0.13050044604395178, 0.02289481509543014, 0.013736889057258084, 0.0005723703773857535, 0.0005723703773857535, 0.5421324825162187, 0.4551867070183345, 0.7949278474139202, 0.08031417976168195, 0.0018253222673109534, 0.011864594737521196, 0.003650644534621907, 0.10039272470210243, 0.006388627935588337, 0.09488026218075946, 0.8377232904740225, 0.0034712291041741265, 0.0034712291041741265, 0.03702644377785735, 0.0219844509931028, 0.5529819198623369, 0.3531451035336444, 0.09069846921355895, 0.0004288343698040612, 0.0006432515547060918, 0.0017153374792162447, 0.0004288343698040612, 0.0002144171849020306, 0.5415063732813127, 0.34268463025563667, 0.11395880392935087, 0.00040410923379202436, 0.00020205461689601218, 0.0006061638506880366, 0.00040410923379202436, 0.00020205461689601218, 0.30770200138727105, 0.027972909217024642, 0.6433769119915668, 0.9873393222929248, 0.011832295473550363, 0.47515586866434784, 0.5226714555307826, 0.9370319757030339, 0.4961553641046366, 0.4961553641046366, 0.004490093792802141, 0.9579657571344121, 0.0316188519303954, 0.0017091271313727245, 0.002563690697059087, 0.0008545635656863623, 0.005127381394118174, 0.6754020507323792, 0.29223248406181096, 0.02467639427574322, 0.0025133364540108837, 0.001142425660914038, 0.001827881057462461, 0.0020563661896452687, 0.00022848513218280762, 0.09503625924589337, 0.8870050862950049, 0.022715050808273882, 0.9767471847557769, 0.612562955014828, 0.32131051785887765, 0.06400298218640547, 0.0005182427707401253, 0.00025912138537006264, 0.0007773641561101879, 0.0005182427707401253, 0.00025912138537006264, 0.9580913519168108, 0.1662624857646262, 0.4627305326702248, 0.2931294427737788, 0.0006677208263639608, 0.006009487437275646, 0.07077840759457983, 0.9873011147711251, 0.9880714021454877, 0.003315675846125798, 0.003315675846125798, 0.004973513769188697, 0.6992415441587083, 0.0535817275217401, 0.040186295641305075, 0.06965624577826213, 0.13931249155652425, 0.928026284983834, 0.10084136990040914, 0.025210342475102284, 0.20168273980081827, 0.6554689043526595, 0.0219138369122117, 0.0219138369122117, 0.9203811503128915, 0.03968677883725745, 0.1587471153490298, 0.10583141023268654, 0.6879041665124624, 0.036697176921832726, 0.9541265999676508], \"Term\": [\"0\", \"0\", \"0\", \"0\", \"0\", \"0\", \"0\", \"000\", \"000\", \"000568\", \"000568\", \"0125\", \"020238914\", \"020239054\", \"0303\", \"0303\", \"0303\", \"0417\", \"050549917\", \"0517\", \"1\", \"1\", \"1\", \"1\", \"1\", \"1\", \"1\", \"10\", \"10\", \"10\", \"10\", \"10px\", \"10px\", \"1121\", \"14650\", \"15\", \"15\", \"15\", \"15\", \"15\", \"161228890\", \"1655\", \"1655\", \"1655\", \"1727\", \"182457069\", \"1993\", \"1px\", \"1px\", \"1px\", \"2\", \"2\", \"2\", \"2\", \"2\", \"2\", \"2\", \"2\", \"20110717\", \"20140313\", \"20px\", \"2385\", \"2385\", \"27\", \"27\", \"27\", \"28aug2008\", \"3\", \"3\", \"3\", \"3\", \"3\", \"3\", \"4\", \"4\", \"4\", \"4\", \"4\", \"4\", \"400\", \"400\", \"5\", \"5\", \"5\", \"5\", \"5\", \"5\", \"5\", \"502\", \"502\", \"6\", \"6\", \"6\", \"6\", \"601\", \"6747\", \"6747\", \"84\", \"84\", \"84\", \"aart\", \"ajax\", \"align\", \"align\", \"alphabet\", \"alphanumer\", \"android\", \"android\", \"android\", \"android\", \"android\", \"androidgranturipermissionstru\", \"androidlayoutheight0dp\", \"androidlayoutheightfillpar\", \"androidlayoutheightmatchpar\", \"androidlayoutheightmatchpar\", \"androidlayoutheightwrapcont\", \"androidlayoutheightwrapcont\", \"androidlayoutwidthfillpar\", \"androidlayoutwidthmatchpar\", \"androidlayoutwidthmatchpar\", \"androidlayoutwidthwrapcont\", \"androidlayoutwidthwrapcont\", \"androidorientationvert\", \"androidresourcexmlfilepath\", \"androidresourcexmlfilepath\", \"angularj\", \"ansibl\", \"aout\", \"app\", \"app\", \"app\", \"app\", \"app\", \"app\", \"appl\", \"appl\", \"appl\", \"appl\", \"applic\", \"applic\", \"applic\", \"applic\", \"applic\", \"appmainj\", \"appmainj\", \"arr\", \"arr\", \"arr\", \"arr\", \"arr\", \"array\", \"array\", \"array\", \"array\", \"array\", \"array\", \"array\", \"artruntimeruntimecc422\", \"asyncprotocolrequest\", \"asyncrequest\", \"autoload\", \"avg\", \"axe\", \"axi\", \"axi\", \"b\", \"b\", \"b\", \"b\", \"b\", \"b\", \"babel\", \"babelcor\", \"babelload\", \"babelload\", \"background\", \"background\", \"background\", \"background\", \"batch\", \"bbb\", \"bean\", \"bitcod\", \"bitmap\", \"bitmap\", \"bootstrap\", \"bootstrap\", \"border\", \"border\", \"bottom\", \"bottom\", \"bower\", \"branch\", \"browser\", \"browser\", \"browser\", \"build\", \"build\", \"build\", \"build\", \"buildlibmacosx109intel27psycopg2test\", \"button\", \"button\", \"button\", \"byte\", \"byte\", \"byte\", \"byte\", \"c#\", \"c#\", \"c#\", \"c#\", \"c#\", \"c#\", \"c#\", \"c#\", \"camera\", \"camera\", \"canva\", \"canva\", \"captur\", \"ccc\", \"ccc\", \"cell\", \"cell\", \"cell\", \"center\", \"center\", \"chang\", \"chang\", \"chang\", \"chang\", \"chang\", \"chang\", \"chang\", \"char\", \"char\", \"char\", \"char\", \"char\", \"checkout\", \"chrome\", \"clang\", \"clang\", \"class\", \"class\", \"class\", \"class\", \"class\", \"class\", \"classbtn\", \"classcontain\", \"classcontain\", \"classrow\", \"classrow\", \"clock\", \"clock\", \"clone\", \"cmp\", \"code\", \"code\", \"code\", \"code\", \"code\", \"code\", \"code\", \"code\", \"col\", \"color\", \"color\", \"color\", \"color\", \"color\", \"colour\", \"colour\", \"column\", \"column\", \"column\", \"column\", \"column\", \"comexamplemarekmyappl\", \"comexamplemarekmyappl\", \"comexamplemarekmyapplicationmainactivity1onclickmainactivityjava35\", \"comexamplemarekmyapplicationmainactivity1onclickmainactivityjava35\", \"comexamplemarekmyapplicationmainactivityaccess100mainactivityjava22\", \"comexamplemarekmyapplicationmainactivityaccess100mainactivityjava22\", \"command\", \"command\", \"command\", \"command\", \"commit\", \"commit\", \"commit\", \"compil\", \"compil\", \"compil\", \"compil\", \"compil\", \"compilesdkvers\", \"compon\", \"compon\", \"compon\", \"conda\", \"configur\", \"configur\", \"configur\", \"configur\", \"confus\", \"confus\", \"confus\", \"confus\", \"constructor\", \"constructor\", \"constructor\", \"content\", \"content\", \"content\", \"content\", \"content\", \"content\", \"control\", \"control\", \"control\", \"control\", \"count\", \"count\", \"count\", \"count\", \"creat\", \"creat\", \"creat\", \"creat\", \"creat\", \"creat\", \"creat\", \"createreactapp\", \"css\", \"css\", \"css\", \"css\", \"css\", \"csv\", \"curl\", \"cursor\", \"databas\", \"databas\", \"datadismissmod\", \"datat\", \"date\", \"date\", \"date\", \"datetim\", \"debug1\", \"debug1\", \"def\", \"def\", \"def\", \"def\", \"delet\", \"delet\", \"delet\", \"delet\", \"delet\", \"depend\", \"depend\", \"depend\", \"depend\", \"devmast\", \"dex\", \"dialog\", \"dialog\", \"dict\", \"dict\", \"dictionari\", \"dictionari\", \"dictionari\", \"diff\", \"differ\", \"differ\", \"differ\", \"differ\", \"differ\", \"differ\", \"differ\", \"div\", \"div\", \"django\", \"django\", \"django\", \"docker\", \"docker\", \"docker\", \"dolor\", \"duck\", \"eandroidruntime22815\", \"eclips\", \"eclips\", \"eclips\", \"edittext\", \"edittext\", \"einvr\", \"einvr\", \"element\", \"element\", \"element\", \"element\", \"element\", \"enabl\", \"encod\", \"encod\", \"enlist\", \"err\", \"error\", \"error\", \"error\", \"error\", \"error\", \"error\", \"error\", \"error\", \"errorandroidruntime3896\", \"errorerror\", \"errorerror\", \"errorwindowmanager18850\", \"escal\", \"escap\", \"exampl\", \"exampl\", \"exampl\", \"exampl\", \"exampl\", \"exampl\", \"exampl\", \"ext\", \"facebook\", \"fail\", \"fail\", \"fail\", \"fail\", \"ffmpeg\", \"ffmpeg\", \"field\", \"field\", \"field\", \"field\", \"field\", \"file\", \"file\", \"file\", \"file\", \"file\", \"file\", \"file\", \"file\", \"fileprovid\", \"fileprovid\", \"fileprovidergeturiforfilethi\", \"fileprovidergeturiforfilethi\", \"filespath\", \"find\", \"find\", \"find\", \"find\", \"find\", \"firebas\", \"flex\", \"flex\", \"follow\", \"follow\", \"follow\", \"follow\", \"follow\", \"follow\", \"follow\", \"follow\", \"font\", \"font\", \"forint\", \"fork\", \"fork\", \"forwardself\", \"forwardself\", \"forwardself\", \"fragment\", \"freluselffc1x\", \"freluselffc1x\", \"freluselffc2x\", \"freluselffc2x\", \"func\", \"func\", \"func\", \"func\", \"function\", \"function\", \"function\", \"function\", \"function\", \"function\", \"function\", \"g\", \"g\", \"g\", \"gcc\", \"gcc\", \"gcc\", \"gem\", \"gem\", \"get\", \"get\", \"get\", \"get\", \"get\", \"get\", \"get\", \"get\", \"git\", \"git\", \"gitignor\", \"goinstal\", \"googl\", \"googl\", \"googl\", \"googl\", \"grep\", \"grep\", \"grep\", \"grep\", \"group\", \"group\", \"group\", \"gyp\", \"happen\", \"happen\", \"happen\", \"happen\", \"header\", \"header\", \"header\", \"height\", \"height\", \"height\", \"hide\", \"horizont\", \"html\", \"html\", \"httpbowerherokuappcom\", \"httpbowerherokuappcom\", \"httpclient\", \"httpclient\", \"httpclient\", \"httpsbowerherokuappcompackag\", \"httpsbowerherokuappcompackag\", \"httpsjsfiddlenetdh9k18k02\", \"httpsjsfiddlenetdh9k18k02\", \"idebug4008\", \"ie10\", \"ie10\", \"ie11\", \"iflutt\", \"ifram\", \"ii\", \"im\", \"im\", \"im\", \"im\", \"im\", \"im\", \"im\", \"im\", \"imag\", \"imag\", \"imag\", \"imag\", \"imag\", \"imag\", \"imageview\", \"imageview\", \"img\", \"img\", \"impl\", \"import\", \"import\", \"import\", \"import\", \"import\", \"import\", \"import\", \"includ\", \"includ\", \"includ\", \"includ\", \"includ\", \"index\", \"index\", \"index\", \"index\", \"index\", \"index\", \"info\", \"info\", \"info\", \"info\", \"info\", \"info\", \"infocod\", \"infocod\", \"input\", \"input\", \"input\", \"input\", \"input\", \"input\", \"instal\", \"instal\", \"instal\", \"instal\", \"instal\", \"instal\", \"int\", \"int\", \"int\", \"int\", \"int\", \"int32\", \"int32\", \"int32\", \"intellij\", \"intellij\", \"intellij\", \"intellij\", \"ipsum\", \"ipsum\", \"ipython\", \"irnadmin\", \"irnadmin\", \"irnadmin\", \"item\", \"item\", \"item\", \"item\", \"item\", \"item1\", \"item1\", \"iter\", \"iter\", \"iter\", \"ive\", \"ive\", \"ive\", \"ive\", \"ive\", \"ive\", \"j\", \"j\", \"j\", \"jack\", \"jackson\", \"java\", \"java\", \"java\", \"java\", \"jest\", \"join\", \"jqueri\", \"jqueri\", \"jqueri\", \"jqueri\", \"js\", \"js\", \"js\", \"js\", \"jsx\", \"jupyt\", \"jupyt\", \"jupyterlab\", \"key\", \"key\", \"key\", \"key\", \"key\", \"keyboard\", \"keystor\", \"know\", \"know\", \"know\", \"know\", \"know\", \"know\", \"kwarg\", \"kwarg\", \"label\", \"label\", \"label\", \"lambda\", \"lambda\", \"landscap\", \"layout\", \"layout\", \"layout\", \"layout\", \"layout\", \"layoutinflat\", \"left\", \"left\", \"left\", \"legend\", \"li\", \"li\", \"lia\", \"librari\", \"librari\", \"librari\", \"like\", \"like\", \"like\", \"like\", \"like\", \"like\", \"like\", \"like\", \"line\", \"line\", \"line\", \"line\", \"line\", \"line\", \"line\", \"linearlayout\", \"linearlayout\", \"linq\", \"linq\", \"list\", \"list\", \"list\", \"list\", \"list\", \"list\", \"list\", \"listview\", \"listview\", \"load\", \"load\", \"load\", \"load\", \"loader\", \"loader\", \"lodash\", \"loginfrag\", \"loop\", \"loop\", \"loop\", \"lorem\", \"lorem\", \"main\", \"main\", \"main\", \"main\", \"main\", \"main\", \"main\", \"main\", \"mainstr\", \"make\", \"make\", \"make\", \"make\", \"make\", \"make\", \"make\", \"make\", \"makefil\", \"makefil\", \"master\", \"matplotlib\", \"matplotlibpyplot\", \"maven\", \"maxlength\", \"mb\", \"merg\", \"method\", \"method\", \"method\", \"method\", \"method\", \"method\", \"method\", \"method\", \"microservic\", \"migrat\", \"modal\", \"modal\", \"modalcontain\", \"modalcontain\", \"modalwindow\", \"modalwindow\", \"model\", \"model\", \"model\", \"model\", \"model\", \"modul\", \"modul\", \"modul\", \"modul\", \"moos\", \"moos\", \"mulsd\", \"myapp\", \"mysql\", \"mysql\", \"mysql\", \"mysql\", \"mysql\", \"n\", \"n\", \"n\", \"n\", \"name\", \"name\", \"name\", \"name\", \"name\", \"name\", \"nan\", \"nan\", \"nan\", \"navbar\", \"navbar\", \"navig\", \"need\", \"need\", \"need\", \"need\", \"need\", \"need\", \"need\", \"net\", \"net\", \"net\", \"net\", \"netnnmodul\", \"netnnmodul\", \"new\", \"new\", \"new\", \"new\", \"new\", \"new\", \"new\", \"new\", \"ngclick\", \"nnconv2d3\", \"nnconv2d6\", \"nnlinear120\", \"nnlinear120\", \"nnlinear120\", \"nnlinear1655\", \"nnlinear1655\", \"nnmaxpool2d22\", \"nnmaxpool2d22\", \"nnmaxpool2d22\", \"node\", \"node\", \"node\", \"node\", \"none\", \"none\", \"none\", \"none\", \"none\", \"none\", \"notebook\", \"notif\", \"notif\", \"notif\", \"npm\", \"npm\", \"npx\", \"npx\", \"nsdate\", \"nsurl\", \"null\", \"null\", \"null\", \"null\", \"null\", \"null\", \"number\", \"number\", \"number\", \"number\", \"obj\", \"objc\", \"object\", \"object\", \"object\", \"object\", \"object\", \"object\", \"objectivec\", \"objectivec\", \"objectivec\", \"objectivec\", \"objectivec\", \"one\", \"one\", \"one\", \"one\", \"one\", \"one\", \"one\", \"originmast\", \"overflowx\", \"overflowx\", \"overlay\", \"overrid\", \"overrid\", \"overrid\", \"overrid\", \"overrid\", \"packag\", \"packag\", \"packag\", \"packag\", \"packag\", \"pad\", \"pad\", \"pad\", \"pad\", \"page\", \"page\", \"page\", \"page\", \"page\", \"page\", \"page\", \"param\", \"param\", \"param\", \"parserpprais\", \"patch\", \"path\", \"path\", \"path\", \"path\", \"path\", \"path\", \"pathimag\", \"pathimag\", \"pathresolvedirnam\", \"pdf\", \"pdf\", \"pdf\", \"photofil\", \"photofil\", \"photouri\", \"photouri\", \"pip\", \"pip\", \"placehold\", \"placehold\", \"placehold\", \"player\", \"player\", \"player\", \"player\", \"plot\", \"plt\", \"pod\", \"pod\", \"port\", \"port\", \"port\", \"portrait\", \"postgr\", \"postgr\", \"postgr\", \"powershel\", \"print\", \"print\", \"print\", \"print\", \"print\", \"privat\", \"privat\", \"psql\", \"ptr\", \"ptr\", \"ptr\", \"ptr\", \"public\", \"public\", \"public\", \"public\", \"public\", \"public\", \"pull\", \"pull\", \"pull\", \"pull\", \"push\", \"push\", \"push\", \"pycharm\", \"pypi\", \"python\", \"python\", \"python\", \"python\", \"python\", \"pytorch\", \"pytorch\", \"pytorch\", \"queri\", \"queri\", \"queri\", \"queri\", \"queri\", \"qword\", \"qword\", \"r1\", \"r2\", \"rawinput\", \"react\", \"reactrenderh1hello\", \"reactrenderh1hello\", \"rebas\", \"recompil\", \"recyclerview\", \"recyclerview\", \"redi\", \"redi\", \"relativelayout\", \"relativelayout\", \"remot\", \"remot\", \"remot\", \"remot\", \"render\", \"render\", \"render\", \"repo\", \"repo\", \"repositori\", \"repositori\", \"repositori\", \"repositori\", \"request\", \"request\", \"request\", \"request\", \"requesttakephoto\", \"requesttakephoto\", \"requireexpress\", \"requirereact\", \"requirereact\", \"reset\", \"reset\", \"return\", \"return\", \"return\", \"return\", \"return\", \"return\", \"return\", \"revert\", \"rgba0\", \"row\", \"row\", \"row\", \"row\", \"row\", \"run\", \"run\", \"run\", \"run\", \"run\", \"run\", \"screen\", \"screen\", \"script\", \"script\", \"script\", \"script\", \"script\", \"scroll\", \"scroll\", \"scroll\", \"scrollview\", \"scrollview\", \"seem\", \"seem\", \"seem\", \"seem\", \"seem\", \"seem\", \"self\", \"self\", \"self\", \"self\", \"selfconv2\", \"selfconv2\", \"selffc2\", \"selffc2\", \"selffc2\", \"selfpool\", \"selfpool\", \"selfpoolfreluselfconv2x\", \"selfpoolfreluselfconv2x\", \"selfpoolfreluselfconv2x\", \"servic\", \"servic\", \"servic\", \"set\", \"set\", \"set\", \"set\", \"set\", \"set\", \"set\", \"set\", \"shape\", \"shape\", \"shape\", \"shell\", \"shell\", \"shell\", \"shuffl\", \"singleton\", \"singleton\", \"singleton\", \"solid\", \"solid\", \"sort\", \"sort\", \"sort\", \"sort\", \"span\", \"span\", \"span\", \"sql\", \"sql\", \"sql\", \"stage\", \"stash\", \"static\", \"static\", \"static\", \"static\", \"str\", \"str\", \"str\", \"str\", \"string\", \"string\", \"string\", \"string\", \"string\", \"string\", \"string\", \"struct\", \"stub\", \"stub\", \"stub\", \"studio\", \"studio\", \"studio\", \"submodul\", \"subplot\", \"sum\", \"sum\", \"sum\", \"sum\", \"supernet\", \"supernet\", \"svg\", \"svg\", \"svn\", \"swift\", \"swift\", \"swift\", \"t1\", \"t2\", \"tab\", \"tabl\", \"tabl\", \"tabl\", \"tablerow\", \"takepictureintentputextramediastoreextraoutput\", \"takepictureintentputextramediastoreextraoutput\", \"takepictureintentresolveactivitygetpackagemanag\", \"takepictureintentresolveactivitygetpackagemanag\", \"targetframeworknet46\", \"targetframeworknet46\", \"tbodi\", \"tbodi\", \"tbodi\", \"td\", \"td\", \"td\", \"tensorvariableview1\", \"tensorvariableview1\", \"tensorview\", \"tensorview\", \"tensorview\", \"text\", \"text\", \"text\", \"text\", \"text\", \"textview\", \"textview\", \"textview\", \"tick\", \"timestamp\", \"timestamp\", \"titl\", \"titl\", \"titl\", \"titl\", \"tooltip\", \"top\", \"top\", \"top\", \"top\", \"tr\", \"tr\", \"tr\", \"transact\", \"transact\", \"transact\", \"transactionscop\", \"transit\", \"transit\", \"tri\", \"tri\", \"tri\", \"tri\", \"tri\", \"tri\", \"tri\", \"tri\", \"ts2304\", \"tupl\", \"type\", \"type\", \"type\", \"type\", \"type\", \"typecheckbox\", \"typecheckbox\", \"typetext\", \"typetext\", \"typetext\", \"uibutton\", \"uibutton\", \"uint\", \"uiscrollview\", \"uitableviewcel\", \"uitextfield\", \"ul\", \"ul\", \"undefin\", \"undefin\", \"undefin\", \"undefin\", \"undefin\", \"undo\", \"unicod\", \"unit\", \"unit\", \"unit\", \"unit\", \"unresolv\", \"untrack\", \"unzip\", \"uptod\", \"uptod\", \"uptod\", \"uptod\", \"use\", \"use\", \"use\", \"use\", \"use\", \"use\", \"use\", \"use\", \"user\", \"user\", \"user\", \"user\", \"user\", \"valu\", \"valu\", \"valu\", \"valu\", \"valu\", \"valu\", \"valu\", \"valu\", \"var\", \"var\", \"var\", \"var\", \"var\", \"var\", \"var1\", \"var2\", \"version\", \"version\", \"version\", \"version\", \"version\", \"version\", \"vertic\", \"vertic\", \"view\", \"view\", \"view\", \"view\", \"view\", \"view\", \"view\", \"void\", \"void\", \"void\", \"void\", \"void\", \"void\", \"want\", \"want\", \"want\", \"want\", \"want\", \"want\", \"want\", \"want\", \"way\", \"way\", \"way\", \"way\", \"way\", \"way\", \"way\", \"way\", \"weak\", \"weak\", \"weak\", \"web\", \"web\", \"webpack\", \"webpack\", \"webpackhotdevserverpathresolvedirnam\", \"width\", \"width\", \"width\", \"window\", \"window\", \"window\", \"window\", \"window\", \"window\", \"work\", \"work\", \"work\", \"work\", \"work\", \"work\", \"work\", \"work\", \"workspac\", \"workspac\", \"worldh1documentgetelementbyidapp\", \"worldh1documentgetelementbyidapp\", \"would\", \"would\", \"would\", \"would\", \"would\", \"would\", \"would\", \"would\", \"wsystemerr\", \"x\", \"x\", \"x\", \"x\", \"x\", \"x\", \"xarg\", \"xcode\", \"xcode\", \"xcode\", \"xcode\", \"xml\", \"xml\", \"xml\", \"xml\", \"xml\", \"xmlelementelementnam\", \"xmlnsandroidhttpschemasandroidcomapkresandroid\", \"xmlnsandroidhttpschemasandroidcomapkresandroid\", \"xmlnsandroidhttpschemasandroidcomapkresandroid\", \"xmlnsandroidhttpschemasandroidcomapkresandroid\", \"xview1\", \"xview1\", \"xview1\", \"zip\", \"zip\", \"zip\", \"zip\", \"\\u2022\", \"\\u2022\"]}, \"R\": 30, \"lambda.step\": 0.01, \"plot.opts\": {\"xlab\": \"PC1\", \"ylab\": \"PC2\"}, \"topic.order\": [5, 4, 1, 3, 7, 6, 8, 2]};\n",
       "\n",
       "function LDAvis_load_lib(url, callback){\n",
       "  var s = document.createElement('script');\n",
       "  s.src = url;\n",
       "  s.async = true;\n",
       "  s.onreadystatechange = s.onload = callback;\n",
       "  s.onerror = function(){console.warn(\"failed to load library \" + url);};\n",
       "  document.getElementsByTagName(\"head\")[0].appendChild(s);\n",
       "}\n",
       "\n",
       "if(typeof(LDAvis) !== \"undefined\"){\n",
       "   // already loaded: just create the visualization\n",
       "   !function(LDAvis){\n",
       "       new LDAvis(\"#\" + \"ldavis_el11712172027917382464463379\", ldavis_el11712172027917382464463379_data);\n",
       "   }(LDAvis);\n",
       "}else if(typeof define === \"function\" && define.amd){\n",
       "   // require.js is available: use it to load d3/LDAvis\n",
       "   require.config({paths: {d3: \"https://d3js.org/d3.v5\"}});\n",
       "   require([\"d3\"], function(d3){\n",
       "      window.d3 = d3;\n",
       "      LDAvis_load_lib(\"https://cdn.jsdelivr.net/gh/bmabey/pyLDAvis@3.3.1/pyLDAvis/js/ldavis.v3.0.0.js\", function(){\n",
       "        new LDAvis(\"#\" + \"ldavis_el11712172027917382464463379\", ldavis_el11712172027917382464463379_data);\n",
       "      });\n",
       "    });\n",
       "}else{\n",
       "    // require.js not available: dynamically load d3 & LDAvis\n",
       "    LDAvis_load_lib(\"https://d3js.org/d3.v5.js\", function(){\n",
       "         LDAvis_load_lib(\"https://cdn.jsdelivr.net/gh/bmabey/pyLDAvis@3.3.1/pyLDAvis/js/ldavis.v3.0.0.js\", function(){\n",
       "                 new LDAvis(\"#\" + \"ldavis_el11712172027917382464463379\", ldavis_el11712172027917382464463379_data);\n",
       "            })\n",
       "         });\n",
       "}\n",
       "</script>"
      ],
      "text/plain": [
       "<IPython.core.display.HTML object>"
      ]
     },
     "execution_count": 51,
     "metadata": {},
     "output_type": "execute_result"
    }
   ],
   "source": [
    "panel = pyLDAvis.sklearn.prepare(best_lda_model, docs_bow, bow_vectorizer, mds='tsne')\n",
    "pyLDAvis.display(panel)"
   ]
  },
  {
   "cell_type": "code",
   "execution_count": null,
   "id": "5a4dbed1-432e-4d42-9fcb-17ad7d1f1ec0",
   "metadata": {},
   "outputs": [],
   "source": []
  }
 ],
 "metadata": {
  "kernelspec": {
   "display_name": "Python 3 (ipykernel)",
   "language": "python",
   "name": "python3"
  },
  "language_info": {
   "codemirror_mode": {
    "name": "ipython",
    "version": 3
   },
   "file_extension": ".py",
   "mimetype": "text/x-python",
   "name": "python",
   "nbconvert_exporter": "python",
   "pygments_lexer": "ipython3",
   "version": "3.8.11"
  }
 },
 "nbformat": 4,
 "nbformat_minor": 5
}
